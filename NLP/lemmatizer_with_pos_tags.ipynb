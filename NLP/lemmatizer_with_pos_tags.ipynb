{
  "nbformat": 4,
  "nbformat_minor": 0,
  "metadata": {
    "colab": {
      "provenance": []
    },
    "kernelspec": {
      "name": "python3",
      "display_name": "Python 3"
    },
    "language_info": {
      "name": "python"
    }
  },
  "cells": [
    {
      "cell_type": "code",
      "source": [
        "!pip install nltk"
      ],
      "metadata": {
        "colab": {
          "base_uri": "https://localhost:8080/"
        },
        "id": "6XXp-VAeAFCv",
        "outputId": "b157a078-eb5f-44d7-eb21-597d7addc182"
      },
      "execution_count": 1,
      "outputs": [
        {
          "output_type": "stream",
          "name": "stdout",
          "text": [
            "Requirement already satisfied: nltk in /usr/local/lib/python3.10/dist-packages (3.8.1)\n",
            "Requirement already satisfied: click in /usr/local/lib/python3.10/dist-packages (from nltk) (8.1.7)\n",
            "Requirement already satisfied: joblib in /usr/local/lib/python3.10/dist-packages (from nltk) (1.3.2)\n",
            "Requirement already satisfied: regex>=2021.8.3 in /usr/local/lib/python3.10/dist-packages (from nltk) (2023.6.3)\n",
            "Requirement already satisfied: tqdm in /usr/local/lib/python3.10/dist-packages (from nltk) (4.66.1)\n"
          ]
        }
      ]
    },
    {
      "cell_type": "code",
      "execution_count": 4,
      "metadata": {
        "colab": {
          "base_uri": "https://localhost:8080/"
        },
        "id": "pA_bo-75_5g0",
        "outputId": "bcdb3723-9f4c-4edf-82c9-ae645a5f776b"
      },
      "outputs": [
        {
          "output_type": "stream",
          "name": "stderr",
          "text": [
            "[nltk_data] Downloading package averaged_perceptron_tagger to\n",
            "[nltk_data]     /root/nltk_data...\n",
            "[nltk_data]   Package averaged_perceptron_tagger is already up-to-\n",
            "[nltk_data]       date!\n",
            "[nltk_data] Downloading package punkt to /root/nltk_data...\n",
            "[nltk_data]   Package punkt is already up-to-date!\n",
            "[nltk_data] Downloading package wordnet to /root/nltk_data...\n"
          ]
        },
        {
          "output_type": "stream",
          "name": "stdout",
          "text": [
            "[('the', 'DT'), ('cat', 'NN'), ('is', 'VBZ'), ('sitting', 'VBG'), ('with', 'IN'), ('the', 'DT'), ('bats', 'NNS'), ('on', 'IN'), ('the', 'DT'), ('striped', 'JJ'), ('mat', 'NN'), ('under', 'IN'), ('many', 'JJ'), ('badly', 'RB'), ('flying', 'VBG'), ('geese', 'JJ')]\n",
            "[('the', None), ('cat', 'n'), ('is', 'v'), ('sitting', 'v'), ('with', None), ('the', None), ('bats', 'n'), ('on', None), ('the', None), ('striped', 'a'), ('mat', 'n'), ('under', None), ('many', 'a'), ('badly', 'r'), ('flying', 'v'), ('geese', 'a')]\n",
            "the cat be sit with the bat on the striped mat under many badly fly geese\n"
          ]
        }
      ],
      "source": [
        "# WORDNET LEMMATIZER (with appropriate pos tags)\n",
        "\n",
        "import nltk\n",
        "from nltk.stem import WordNetLemmatizer\n",
        "nltk.download('averaged_perceptron_tagger')\n",
        "from nltk.corpus import wordnet\n",
        "nltk.download('punkt')\n",
        "nltk.download('wordnet')\n",
        "\n",
        "lemmatizer = WordNetLemmatizer()\n",
        "\n",
        "# Define function to lemmatize each word with its POS tag\n",
        "\n",
        "# POS_TAGGER_FUNCTION : TYPE 1\n",
        "def pos_tagger(nltk_tag):\n",
        "\tif nltk_tag.startswith('J'):\n",
        "\t\treturn wordnet.ADJ\n",
        "\telif nltk_tag.startswith('V'):\n",
        "\t\treturn wordnet.VERB\n",
        "\telif nltk_tag.startswith('N'):\n",
        "\t\treturn wordnet.NOUN\n",
        "\telif nltk_tag.startswith('R'):\n",
        "\t\treturn wordnet.ADV\n",
        "\telse:\n",
        "\t\treturn None\n",
        "\n",
        "sentence = 'the cat is sitting with the bats on the striped mat under many badly flying geese'\n",
        "\n",
        "# tokenize the sentence and find the POS tag for each token\n",
        "pos_tagged = nltk.pos_tag(nltk.word_tokenize(sentence))\n",
        "\n",
        "print(pos_tagged)\n",
        "#>[('the', 'DT'), ('cat', 'NN'), ('is', 'VBZ'), ('sitting', 'VBG'), ('with', 'IN'),\n",
        "# ('the', 'DT'), ('bats', 'NNS'), ('on', 'IN'), ('the', 'DT'), ('striped', 'JJ'),\n",
        "# ('mat', 'NN'), ('under', 'IN'), ('many', 'JJ'), ('flying', 'VBG'), ('geese', 'JJ')]\n",
        "\n",
        "# As you may have noticed, the above pos tags are a little confusing.\n",
        "\n",
        "# we use our own pos_tagger function to make things simpler to understand.\n",
        "wordnet_tagged = list(map(lambda x: (x[0], pos_tagger(x[1])), pos_tagged))\n",
        "print(wordnet_tagged)\n",
        "#>[('the', None), ('cat', 'n'), ('is', 'v'), ('sitting', 'v'), ('with', None),\n",
        "# ('the', None), ('bats', 'n'), ('on', None), ('the', None), ('striped', 'a'),\n",
        "# ('mat', 'n'), ('under', None), ('many', 'a'), ('flying', 'v'), ('geese', 'a')]\n",
        "\n",
        "lemmatized_sentence = []\n",
        "for word, tag in wordnet_tagged:\n",
        "\tif tag is None:\n",
        "\t\t# if there is no available tag, append the token as is\n",
        "\t\tlemmatized_sentence.append(word)\n",
        "\telse:\n",
        "\t\t# else use the tag to lemmatize the token\n",
        "\t\tlemmatized_sentence.append(lemmatizer.lemmatize(word, tag))\n",
        "lemmatized_sentence = \" \".join(lemmatized_sentence)\n",
        "\n",
        "print(lemmatized_sentence)\n",
        "#> the cat can be sit with the bat on the striped mat under many fly geese\n"
      ]
    }
  ]
}