{

  "nbformat": 4,

  "nbformat_minor": 0,

  "metadata": {

    "colab": {

      "provenance": []

    },

    "kernelspec": {

      "name": "python3",

      "display_name": "Python 3"

    },

    "language_info": {

      "name": "python"

    }

  },

  "cells": [

    {

      "cell_type": "markdown",

      "source": [

        "#Introduction to NER and its importance in NLP\n",

        "\n",

        "---\n",

        "\n",

        "\n",

        "###Overview of popular NER algorithms and approaches\n",

        "\n",

        "---\n",

        "\n",

        "\n",

        "###Hands-on exercise: Implementing a basic NER system using libraries like spaCy"

      ],

      "metadata": {

        "id": "K8by3Pr3IHbN"

      }

    },

    {

      "cell_type": "markdown",

      "source": [

        "https://spacy.io/usage/processing-pipelines\n",

        "\n",

        "---\n",

        "https://www.youtube.com/watch?v=1ePkOSGoIFI\n",

        "\n"

      ],

      "metadata": {

        "id": "Yyn3N_-We9dY"

      }

    },

    {

      "cell_type": "markdown",

      "source": [

        "SpaCy recognizes the following built-in entity types:\n",

        "\n",

        "---\n",

        "\n",

        "\n",

       "PERSON - People, including fictional.\n",

        "\n",

        "NORP - Nationalities or religious or political groups.\n",

        "\n",

        "FAC - Buildings, airports, highways, bridges, etc.\n",

        "\n",

        "ORG - Companies, agencies, institutions, etc.\n",

        "\n",

        "GPE - Countries, cities, states.\n",

        "\n",

        "LOC - Non-GPE locations, mountain ranges, bodies of water.\n",

        "\n",

        "PRODUCT - Objects, vehicles, foods, etc. (Not services.)\n",

        "\n",

        "EVENT - Named hurricanes, battles, wars, sports events, etc.\n",

        "\n",

        "WORK_OF_ART - Titles of books, songs, etc. (Sentence: \"I recently read 'To Kill a Mockingbird' by Harper Lee.\")\n",

        "\n",

        "LAW - Named documents made into laws.\n",

        "\n",

        "LANGUAGE - Any named language.\n",

        "\n",

        "DATE - Absolute or relative dates or periods.\n",

        "\n",

        "TIME - Times smaller than a day.\n",

        ".\n",

        "PERCENT - Percentage, including \"%\".\n",

        "\n",

        "MONEY - Monetary values, including unit.\n",

        "\n",

        "QUANTITY - Measurements, as of weight or distance.\n",

        "\n",

        "ORDINAL - \"first\", \"second\", etc.\n",

        "\n",

        "CARDINAL - Numerals that do not fall under another type. (Sentence: \"I bought five books from the store yesterday.\")"

      ],

      "metadata": {

        "id": "FHwqFMCOhuRl"

      }

    },

    {

      "cell_type": "markdown",

      "source": [

        "#Named entities and parts of speech are both linguistic concepts, but they serve different purposes and capture different aspects of language.\n",

        "\n",

        "Named Entities: Named entities are specific words or phrases in a text that refer to specific entities such as people, organizations, locations, dates, quantities, and more. They represent named or specific information within a text. Named entities are often used for information extraction and understanding the context of a text. Examples of named entity types include PERSON, ORGANIZATION, LOCATION, DATE, CARDINAL, WORK_OF_ART, etc.\n",

        "Example: In the sentence \"I visited Paris last summer,\" the named entity is \"Paris,\" which represents a specific location.\n",

        "\n",

        "Parts of Speech: Parts of speech refer to the grammatical categories or roles that words play in a sentence. They classify words based on their syntactic function and relationship with other words in a sentence. Parts of speech help determine the structure and meaning of a sentence. Common parts of speech include nouns, verbs, adjectives, adverbs, pronouns, prepositions, conjunctions, etc.\n",

        "Example: In the sentence \"The cat chased the mouse,\" the parts of speech are \"The\" (article), \"cat\" (noun), \"chased\" (verb), \"the\" (article), and \"mouse\" (noun).\n",

        "\n",

        "In summary, named entities focus on identifying specific entities within a text, while parts of speech focus on categorizing words based on their grammatical functions within a sentence."

      ],

      "metadata": {

        "id": "plYyMCkXsEsa"

      }

    },

    {

      "cell_type": "markdown",

      "source": [

        "# NER System using spaCy\n",

        "\n",

        "## Exercise 1: Load and Process Text\n"

      ],

      "metadata": {

        "id": "tPrAYkp5JY2J"

      }

    },

    {

      "cell_type": "code",

      "source": [

        "import spacy\n",

        "\n",

        "# Load the spaCy English model\n",

        "nlp = spacy.load('en_core_web_sm')"

      ],

      "metadata": {

        "id": "eWKkIiaJIwIu"

      },

      "execution_count": null,

      "outputs": []

    },

    {

      "cell_type": "code",

      "source": [

        "# Define the input text\n",

        "text = \"Apple Inc. is looking to buy a startup in the United States for $1 billion.\"\n",

        "\n",

        "# Process the text using spaCy\n",

        "doc = nlp(text)"

      ],

      "metadata": {

        "id": "o-GTNr0BI__H"

      },

      "execution_count": null,

      "outputs": []

    },

    {

      "cell_type": "code",

      "source": [

        "# Print the entities found in the text\n",

        "for ent in doc.ents:\n",

        "    print(ent.text, ent.label_)"

      ],

      "metadata": {

        "colab": {

          "base_uri": "https://localhost:8080/"

        },

        "id": "RqHjTvm7JKDv",

        "outputId": "1064ecc4-71ae-41d2-ce95-39aaff682d65"

      },

      "execution_count": null,

     "outputs": [

        {

          "output_type": "stream",

          "name": "stdout",

          "text": [

            "Apple Inc. ORG\n",

            "the United States GPE\n",

            "$1 billion MONEY\n"

          ]

        }

      ]

    },

    {

      "cell_type": "markdown",

      "source": [

        "#Important of NER in NLP\n",

        "Named Entity Recognition (NER) is a crucial component of Natural Language Processing (NLP) that plays a significant role in various applications. Here are a few points highlighting the importance of NER in NLP:\n",

        "\n",

        "---\n",

        "\n",

        "\n",

        "\n",

        "Information Extraction: NER helps extract and identify named entities such as names of people, organizations, locations, dates, and other significant information from unstructured text. This extracted information can be used for various purposes like populating knowledge bases, summarization, and data analysis.\n",

        "\n",

        "---\n",

        "\n",

        "\n",

        "Entity Disambiguation: NER assists in disambiguating named entities by distinguishing between entities with the same name but different meanings. For example, \"Apple\" can refer to the company or the fruit, and NER helps determine the correct interpretation based on the context.\n",

        "\n",

        "---\n",

        "\n",

        "\n",

        "Text Understanding and Classification: NER aids in understanding the semantics of text by identifying and categorizing entities. This information is valuable for tasks such as sentiment analysis, document classification, and topic modeling, enabling more accurate analysis and interpretation of text data.\n",

        "\n",

        "---\n",

        "\n",

        "\n",

        "Question Answering and Chatbots: NER is crucial in question-answering systems and chatbots that need to identify specific entities mentioned in user queries. It helps in extracting relevant information and providing precise and context-aware responses to user queries.\n",

        "\n",

        "---\n",

        "\n",

        "\n",

        "Information Retrieval: NER can enhance information retrieval systems by identifying named entities in documents. It enables better indexing and searching capabilities, allowing users to find relevant documents or information more efficiently.\n",

        "\n",

        "---\n",

        "\n",

        "\n",

        "Machine Translation and Language Generation: NER can improve machine translation systems by accurately translating named entities. It helps in preserving the meaning and context of named entities during the translation process. Similarly, in text generation tasks, NER can be used to generate coherent and contextually relevant text by incorporating identified named entities.\n",

        "\n",

        "---\n",

        "\n",

        "\n",

        "Social Media Analysis: NER is essential for analyzing social media data, where named entities such as user mentions, hashtags, and location tags play a significant role. It enables tracking trends, sentiment analysis, user profiling, and other tasks related to social media analytics.\n",

        "\n",

        "---\n",

        "\n",

        "\n",

        "Information Security and Fraud Detection: NER can assist in identifying sensitive information like personal names, addresses, or financial details in texts. It helps in information security by automatically redacting or anonymizing such data. NER can also be employed in fraud detection systems to identify suspicious patterns or entities associated with fraudulent activities.\n",

        "\n",

        "---\n",

        "\n",

        "\n",

        "Overall, NER is a vital component of NLP, enabling better understanding, extraction, and utilization of named entities in various applications, leading to more accurate and valuable insights from textual data."

      ],

      "metadata": {

        "id": "gtUUgoFsx1fE"

      }

    },

    {

      "cell_type": "markdown",

      "source": [

        "#Exercise 2:\n",

        "Given a list of sentences, write a Python function that uses spaCy's NER model to count the occurrences of each named entity label (e.g., ORG, PERSON, LOC) across all the sentences.\n",

        "\n",

        "---\n",

        "\n",

        "The function count_named_entities takes a list of sentences as input, processes each sentence using spaCy's NER model, and counts the occurrences of each named entity label. It returns a Counter object with the named entity labels as keys and their respective counts as values."

      ],

      "metadata": {

        "id": "npind9O-74Jc"

      }

    },

    {

      "cell_type": "code",

      "source": [

        "import spacy\n",

        "from collections import Counter\n",

        "\n",

        "def count_named_entities(sentences):\n",

        "    nlp = spacy.load('en_core_web_sm')\n",

        "    entity_counts = Counter()\n",

        "\n",

        "    for sentence in sentences:\n",

        "        doc = nlp(sentence)\n",

        "        entities = [ent.label_ for ent in doc.ents]\n",

        "        entity_counts.update(entities)\n",

        "\n",

        "    return entity_counts\n",

        "\n",

        "# Test the function\n",

        "sentences = [\"Microsoft is based in Redmond, Washington.\",\n",

        "             \"Google's headquarters are in Mountain View, California.\",\n",

        "             \"Apple Inc. was founded by Steve Jobs in Cupertino, California.\"]\n",

        "entity_counts = count_named_entities(sentences)\n",

        "print(entity_counts)"

      ],

      "metadata": {

        "colab": {

          "base_uri": "https://localhost:8080/"

        },

        "id": "W4vGrtur7-Sb",

        "outputId": "8aa2bd3f-67bb-423c-91fa-38273b04aabf"

      },

      "execution_count": null,

      "outputs": [

        {

          "output_type": "stream",

          "name": "stdout",

          "text": [

            "Counter({'GPE': 6, 'ORG': 3, 'PERSON': 1})\n"

          ]

        }

      ]

    },

    {

      "cell_type": "markdown",

      "source": [

        "#Exercise 3:\n",

        "Write a Python function that takes a text document as input and identifies the most frequent named entity in the document.\n",

        "\n",

        "---\n",

        "\n",

        "\n",

        "The function find_most_frequent_named_entity uses spaCy to process the input document and identify the most frequent named entity within it. It extracts the named entities from the document, counts their occurrences using a Counter object, and returns the most common entity. If there are multiple entities with the same frequency, the function returns the first one encountered."

      ],

      "metadata": {

        "id": "8bBRS2Uc9P4N"

      }

    },

    {

      "cell_type": "code",

      "source": [

        "import spacy\n",

        "from collections import Counter\n",

        "\n",

        "def find_most_frequent_named_entity(document):\n",

        "    nlp = spacy.load('en_core_web_sm')\n",

        "    doc = nlp(document)\n",

        "    entities = [ent.text for ent in doc.ents]\n",

        "    entity_counts = Counter(entities)\n",

        "    most_common_entity = entity_counts.most_common(1)\n",

        "    return most_common_entity[0][0] if most_common_entity else None\n",

        "\n",

        "# Test the function\n",

        "document = \"Microsoft Corporation is an Washington American multinational technology company that produces software and other products. \" \\\n",

        "           \"Its headquarters is located in Redmond, Washington.\"\n",

        "most_frequent_entity = find_most_frequent_named_entity(document)\n",

        "print(\"Most frequent named entity:\", most_frequent_entity)"

      ],

      "metadata": {

        "colab": {

          "base_uri": "https://localhost:8080/"

        },

        "id": "2joc3en79feN",

        "outputId": "f5496b5a-e02e-4408-8f78-6c5fdaa07e9c"

      },

      "execution_count": null,

      "outputs": [

        {

          "output_type": "stream",

          "name": "stdout",

          "text": [

            "Most frequent named entity: Washington\n"

          ]

        }

      ]

    },

    {

      "cell_type": "markdown",

      "source": [

        "#Exercise 4: Train a custom NER model\n",

        "###(refer video given above)\n"

      ],

      "metadata": {

        "id": "BeoyjfxqkvlD"

      }

    }

  ]

}

 

