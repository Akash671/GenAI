{
  "nbformat": 4,
  "nbformat_minor": 0,
  "metadata": {
    "colab": {
      "provenance": []
    },
    "kernelspec": {
      "name": "python3",
      "display_name": "Python 3"
    },
    "language_info": {
      "name": "python"
    }
  },
  "cells": [
    {
      "cell_type": "code",
      "source": [
        "!pip intall spacy"
      ],
      "metadata": {
        "colab": {
          "base_uri": "https://localhost:8080/"
        },
        "id": "J5mTTnhyb5S3",
        "outputId": "5864652b-eaa6-4c07-91a8-2b994ecdc96c"
      },
      "execution_count": 1,
      "outputs": [
        {
          "output_type": "stream",
          "name": "stdout",
          "text": [
            "ERROR: unknown command \"intall\" - maybe you meant \"install\"\n"
          ]
        }
      ]
    },
    {
      "cell_type": "code",
      "execution_count": 3,
      "metadata": {
        "colab": {
          "base_uri": "https://localhost:8080/"
        },
        "id": "u7IQFXI3braw",
        "outputId": "35c78427-886f-4966-fc53-c6613eb96b66"
      },
      "outputs": [
        {
          "output_type": "execute_result",
          "data": {
            "text/plain": [
              "[('The', 'DET', 'determiner'),\n",
              " ('quick', 'ADJ', 'adjective'),\n",
              " ('brown', 'ADJ', 'adjective'),\n",
              " ('fox', 'NOUN', 'noun'),\n",
              " ('jumps', 'VERB', 'verb'),\n",
              " ('over', 'ADP', 'adposition'),\n",
              " ('the', 'DET', 'determiner'),\n",
              " ('lazy', 'ADJ', 'adjective'),\n",
              " ('dog', 'NOUN', 'noun'),\n",
              " ('.', 'PUNCT', 'punctuation')]"
            ]
          },
          "metadata": {},
          "execution_count": 3
        }
      ],
      "source": [
        "import spacy\n",
        "nlp = spacy.load('en_core_web_sm')\n",
        "sentence = \"The quick brown fox jumps over the lazy dog.\"\n",
        "doc = nlp(sentence)\n",
        "pos_tags = []\n",
        "for token in doc:\n",
        "    pos_tags.append((token.text,token.pos_, spacy.explain(token.pos_)))\n",
        "pos_tags"
      ]
    }
  ]
}