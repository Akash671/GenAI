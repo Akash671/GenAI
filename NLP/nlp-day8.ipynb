{

  "nbformat": 4,

  "nbformat_minor": 0,

  "metadata": {

    "colab": {

      "provenance": []

    },

    "kernelspec": {

      "name": "python3",

      "display_name": "Python 3"

    },

    "language_info": {

      "name": "python"

    }

  },

  "cells": [

    {

      "cell_type": "markdown",

      "source": [

        "# Text classification using Decision Forests and pretrained embeddings\n",

        "\n",

        "###Using Tensorflow Decision Forests for text classification\n",

        "\n",

        "\n",

        "---\n",

        "\n",

        "\n",

        "Hands-on exercise: Gradient Boosted Trees with pretrained embeddings to classify disaster-related tweets."

      ],

      "metadata": {

        "id": "x8zq9WWu5LCR"

      }

    },

    {

      "cell_type": "markdown",

      "source": [

        "###TensorFlow Decision Forests (TF-DF) is a collection of state-of-the-art algorithms for Decision Forest models that are compatible with Keras APIs. The module includes Random Forests, Gradient Boosted Trees, and CART, and can be used for regression, classification, and ranking tasks.\n",

        "\n",

        "https://www.youtube.com/watch?v=5qgk9QJ4rdQ\n",

        "\n",

        "https://www.youtube.com/watch?v=Nol1hVtLOSg"

      ],

      "metadata": {

        "id": "5bBOmZTwN0XY"

      }

    },

    {

      "cell_type": "markdown",

      "source": [

        "Random Forests:\n",

        "Random Forests is a machine learning algorithm that combines multiple decision trees to make predictions. Each decision tree is constructed by randomly selecting a subset of features from the dataset, and the final prediction is made by aggregating the predictions of all the individual trees. This technique helps in reducing overfitting and improving the accuracy and robustness of the model. Random Forests can be used for both classification and regression tasks and is known for its ability to handle high-dimensional data and variable importance estimation."

      ],

      "metadata": {

        "id": "K7zIMeItzc7d"

      }

    },

    {

      "cell_type": "markdown",

      "source": [

        "Gradient Boosted Trees:\n",

        "Gradient Boosted Trees is another ensemble learning method that combines multiple decision trees to make accurate predictions. Unlike Random Forests, Gradient Boosted Trees builds the trees in a sequential manner, where each subsequent tree tries to correct the mistakes made by the previous tree. The model focuses on the residuals or errors of the previous trees and uses a gradient descent optimization algorithm to minimize the overall prediction error. Gradient Boosted Trees are effective for both regression and classification tasks, and they are known for their high predictive power and interpretability."

      ],

      "metadata": {

        "id": "QuBeGjInzeL1"

      }

    },

    {

      "cell_type": "markdown",

      "source": [

        "CART (Classification and Regression Trees):\n",

        "CART, short for Classification and Regression Trees, is a decision tree algorithm that recursively splits the dataset based on the values of the input features. The splits are determined by finding the optimal threshold that maximizes the purity or homogeneity of the target variable within each resulting subset. CART can handle both categorical and numerical features, making it a versatile algorithm. It can be used for both classification and regression tasks, as it can predict discrete classes or continuous values based on the tree structure. CART is simple to understand and interpret, but it can be prone to overfitting if not properly regularized.\n",

        "\n",

        "\n",

        "\n",

        "\n"

      ],

      "metadata": {

        "id": "uBW63zvszzD8"

      }

    },

    {

      "cell_type": "markdown",

      "source": [

        "## Exercise: To implement the code available at below URL. You should be able to replicate the notebook, execute all cells and study all outputs, so that you can explain them in the class\n",

        "### Three cells are replicated below, remaining to be continued after these\n",

        "### https://keras.io/examples/nlp/tweet-classification-using-tfdf/"

      ],

      "metadata": {

        "id": "P7pFz47NxCZV"

      }

    },

    {

      "cell_type": "code",

      "source": [

        "!pip install tensorflow_decision_forests"

      ],

      "metadata": {

        "colab": {

          "base_uri": "https://localhost:8080/"

        },

        "id": "NDl2Yux81jkK",

        "outputId": "51bf58fc-d263-4981-bc5f-bbd1c17dfc1b"

      },

      "execution_count": null,

      "outputs": [

        {

          "output_type": "stream",

          "name": "stdout",

          "text": [

            "Looking in indexes: https://pypi.org/simple, https://us-python.pkg.dev/colab-wheels/public/simple/\n",

            "Collecting tensorflow_decision_forests\n",

            "  Downloading tensorflow_decision_forests-1.3.0-cp310-cp310-manylinux_2_17_x86_64.manylinux2014_x86_64.whl (16.4 MB)\n",

            "\u001b[2K     \u001b[90mâ”â”â”â”â”â”â”â”â”â”â”â”â”â”â”â”â”â”â”â”â”â”â”â”â”â”â”â”â”â”â”â”â”â”â”â”â”â”â”â”\u001b[0m \u001b[32m16.4/16.4 MB\u001b[0m \u001b[31m63.7 MB/s\u001b[0m eta \u001b[36m0:00:00\u001b[0m\n",

            "\u001b[?25hRequirement already satisfied: numpy in /usr/local/lib/python3.10/dist-packages (from tensorflow_decision_forests) (1.22.4)\n",

            "Requirement already satisfied: pandas in /usr/local/lib/python3.10/dist-packages (from tensorflow_decision_forests) (1.5.3)\n",

            "Requirement already satisfied: tensorflow~=2.12.0 in /usr/local/lib/python3.10/dist-packages (from tensorflow_decision_forests) (2.12.0)\n",

            "Requirement already satisfied: six in /usr/local/lib/python3.10/dist-packages (from tensorflow_decision_forests) (1.16.0)\n",

            "Requirement already satisfied: absl-py in /usr/local/lib/python3.10/dist-packages (from tensorflow_decision_forests) (1.4.0)\n",

            "Requirement already satisfied: wheel in /usr/local/lib/python3.10/dist-packages (from tensorflow_decision_forests) (0.40.0)\n",

            "Collecting wurlitzer (from tensorflow_decision_forests)\n",

            "  Downloading wurlitzer-3.0.3-py3-none-any.whl (7.3 kB)\n",

            "Requirement already satisfied: astunparse>=1.6.0 in /usr/local/lib/python3.10/dist-packages (from tensorflow~=2.12.0->tensorflow_decision_forests) (1.6.3)\n",

            "Requirement already satisfied: flatbuffers>=2.0 in /usr/local/lib/python3.10/dist-packages (from tensorflow~=2.12.0->tensorflow_decision_forests) (23.3.3)\n",

            "Requirement already satisfied: gast<=0.4.0,>=0.2.1 in /usr/local/lib/python3.10/dist-packages (from tensorflow~=2.12.0->tensorflow_decision_forests) (0.4.0)\n",

            "Requirement already satisfied: google-pasta>=0.1.1 in /usr/local/lib/python3.10/dist-packages (from tensorflow~=2.12.0->tensorflow_decision_forests) (0.2.0)\n",

            "Requirement already satisfied: grpcio<2.0,>=1.24.3 in /usr/local/lib/python3.10/dist-packages (from tensorflow~=2.12.0->tensorflow_decision_forests) (1.54.0)\n",

            "Requirement already satisfied: h5py>=2.9.0 in /usr/local/lib/python3.10/dist-packages (from tensorflow~=2.12.0->tensorflow_decision_forests) (3.8.0)\n",

            "Requirement already satisfied: jax>=0.3.15 in /usr/local/lib/python3.10/dist-packages (from tensorflow~=2.12.0->tensorflow_decision_forests) (0.4.10)\n",

            "Requirement already satisfied: keras<2.13,>=2.12.0 in /usr/local/lib/python3.10/dist-packages (from tensorflow~=2.12.0->tensorflow_decision_forests) (2.12.0)\n",

            "Requirement already satisfied: libclang>=13.0.0 in /usr/local/lib/python3.10/dist-packages (from tensorflow~=2.12.0->tensorflow_decision_forests) (16.0.0)\n",

            "Requirement already satisfied: opt-einsum>=2.3.2 in /usr/local/lib/python3.10/dist-packages (from tensorflow~=2.12.0->tensorflow_decision_forests) (3.3.0)\n",

            "Requirement already satisfied: packaging in /usr/local/lib/python3.10/dist-packages (from tensorflow~=2.12.0->tensorflow_decision_forests) (23.1)\n",

            "Requirement already satisfied: protobuf!=4.21.0,!=4.21.1,!=4.21.2,!=4.21.3,!=4.21.4,!=4.21.5,<5.0.0dev,>=3.20.3 in /usr/local/lib/python3.10/dist-packages (from tensorflow~=2.12.0->tensorflow_decision_forests) (3.20.3)\n",

            "Requirement already satisfied: setuptools in /usr/local/lib/python3.10/dist-packages (from tensorflow~=2.12.0->tensorflow_decision_forests) (67.7.2)\n",

            "Requirement already satisfied: tensorboard<2.13,>=2.12 in /usr/local/lib/python3.10/dist-packages (from tensorflow~=2.12.0->tensorflow_decision_forests) (2.12.2)\n",

            "Requirement already satisfied: tensorflow-estimator<2.13,>=2.12.0 in /usr/local/lib/python3.10/dist-packages (from tensorflow~=2.12.0->tensorflow_decision_forests) (2.12.0)\n",

            "Requirement already satisfied: termcolor>=1.1.0 in /usr/local/lib/python3.10/dist-packages (from tensorflow~=2.12.0->tensorflow_decision_forests) (2.3.0)\n",

            "Requirement already satisfied: typing-extensions>=3.6.6 in /usr/local/lib/python3.10/dist-packages (from tensorflow~=2.12.0->tensorflow_decision_forests) (4.5.0)\n",

            "Requirement already satisfied: wrapt<1.15,>=1.11.0 in /usr/local/lib/python3.10/dist-packages (from tensorflow~=2.12.0->tensorflow_decision_forests) (1.14.1)\n",

            "Requirement already satisfied: tensorflow-io-gcs-filesystem>=0.23.1 in /usr/local/lib/python3.10/dist-packages (from tensorflow~=2.12.0->tensorflow_decision_forests) (0.32.0)\n",

            "Requirement already satisfied: python-dateutil>=2.8.1 in /usr/local/lib/python3.10/dist-packages (from pandas->tensorflow_decision_forests) (2.8.2)\n",

            "Requirement already satisfied: pytz>=2020.1 in /usr/local/lib/python3.10/dist-packages (from pandas->tensorflow_decision_forests) (2022.7.1)\n",

           "Requirement already satisfied: ml-dtypes>=0.1.0 in /usr/local/lib/python3.10/dist-packages (from jax>=0.3.15->tensorflow~=2.12.0->tensorflow_decision_forests) (0.1.0)\n",

            "Requirement already satisfied: scipy>=1.7 in /usr/local/lib/python3.10/dist-packages (from jax>=0.3.15->tensorflow~=2.12.0->tensorflow_decision_forests) (1.10.1)\n",

            "Requirement already satisfied: google-auth<3,>=1.6.3 in /usr/local/lib/python3.10/dist-packages (from tensorboard<2.13,>=2.12->tensorflow~=2.12.0->tensorflow_decision_forests) (2.17.3)\n",

            "Requirement already satisfied: google-auth-oauthlib<1.1,>=0.5 in /usr/local/lib/python3.10/dist-packages (from tensorboard<2.13,>=2.12->tensorflow~=2.12.0->tensorflow_decision_forests) (1.0.0)\n",

            "Requirement already satisfied: markdown>=2.6.8 in /usr/local/lib/python3.10/dist-packages (from tensorboard<2.13,>=2.12->tensorflow~=2.12.0->tensorflow_decision_forests) (3.4.3)\n",

            "Requirement already satisfied: requests<3,>=2.21.0 in /usr/local/lib/python3.10/dist-packages (from tensorboard<2.13,>=2.12->tensorflow~=2.12.0->tensorflow_decision_forests) (2.27.1)\n",

            "Requirement already satisfied: tensorboard-data-server<0.8.0,>=0.7.0 in /usr/local/lib/python3.10/dist-packages (from tensorboard<2.13,>=2.12->tensorflow~=2.12.0->tensorflow_decision_forests) (0.7.0)\n",

            "Requirement already satisfied: tensorboard-plugin-wit>=1.6.0 in /usr/local/lib/python3.10/dist-packages (from tensorboard<2.13,>=2.12->tensorflow~=2.12.0->tensorflow_decision_forests) (1.8.1)\n",

            "Requirement already satisfied: werkzeug>=1.0.1 in /usr/local/lib/python3.10/dist-packages (from tensorboard<2.13,>=2.12->tensorflow~=2.12.0->tensorflow_decision_forests) (2.3.0)\n",

            "Requirement already satisfied: cachetools<6.0,>=2.0.0 in /usr/local/lib/python3.10/dist-packages (from google-auth<3,>=1.6.3->tensorboard<2.13,>=2.12->tensorflow~=2.12.0->tensorflow_decision_forests) (5.3.0)\n",

            "Requirement already satisfied: pyasn1-modules>=0.2.1 in /usr/local/lib/python3.10/dist-packages (from google-auth<3,>=1.6.3->tensorboard<2.13,>=2.12->tensorflow~=2.12.0->tensorflow_decision_forests) (0.3.0)\n",

            "Requirement already satisfied: rsa<5,>=3.1.4 in /usr/local/lib/python3.10/dist-packages (from google-auth<3,>=1.6.3->tensorboard<2.13,>=2.12->tensorflow~=2.12.0->tensorflow_decision_forests) (4.9)\n",

            "Requirement already satisfied: requests-oauthlib>=0.7.0 in /usr/local/lib/python3.10/dist-packages (from google-auth-oauthlib<1.1,>=0.5->tensorboard<2.13,>=2.12->tensorflow~=2.12.0->tensorflow_decision_forests) (1.3.1)\n",

            "Requirement already satisfied: urllib3<1.27,>=1.21.1 in /usr/local/lib/python3.10/dist-packages (from requests<3,>=2.21.0->tensorboard<2.13,>=2.12->tensorflow~=2.12.0->tensorflow_decision_forests) (1.26.15)\n",

            "Requirement already satisfied: certifi>=2017.4.17 in /usr/local/lib/python3.10/dist-packages (from requests<3,>=2.21.0->tensorboard<2.13,>=2.12->tensorflow~=2.12.0->tensorflow_decision_forests) (2022.12.7)\n",

            "Requirement already satisfied: charset-normalizer~=2.0.0 in /usr/local/lib/python3.10/dist-packages (from requests<3,>=2.21.0->tensorboard<2.13,>=2.12->tensorflow~=2.12.0->tensorflow_decision_forests) (2.0.12)\n",

            "Requirement already satisfied: idna<4,>=2.5 in /usr/local/lib/python3.10/dist-packages (from requests<3,>=2.21.0->tensorboard<2.13,>=2.12->tensorflow~=2.12.0->tensorflow_decision_forests) (3.4)\n",

            "Requirement already satisfied: MarkupSafe>=2.1.1 in /usr/local/lib/python3.10/dist-packages (from werkzeug>=1.0.1->tensorboard<2.13,>=2.12->tensorflow~=2.12.0->tensorflow_decision_forests) (2.1.2)\n",

            "Requirement already satisfied: pyasn1<0.6.0,>=0.4.6 in /usr/local/lib/python3.10/dist-packages (from pyasn1-modules>=0.2.1->google-auth<3,>=1.6.3->tensorboard<2.13,>=2.12->tensorflow~=2.12.0->tensorflow_decision_forests) (0.5.0)\n",

            "Requirement already satisfied: oauthlib>=3.0.0 in /usr/local/lib/python3.10/dist-packages (from requests-oauthlib>=0.7.0->google-auth-oauthlib<1.1,>=0.5->tensorboard<2.13,>=2.12->tensorflow~=2.12.0->tensorflow_decision_forests) (3.2.2)\n",

            "Installing collected packages: wurlitzer, tensorflow_decision_forests\n",

            "Successfully installed tensorflow_decision_forests-1.3.0 wurlitzer-3.0.3\n"

          ]

        }

      ]

    },

    {

      "cell_type": "code",

      "execution_count": null,

      "metadata": {

        "id": "SwvdPCdmt5-R"

      },

      "outputs": [],

      "source": [

        "import pandas as pd\n",

        "import numpy as np\n",

        "import tensorflow as tf\n",

        "from tensorflow import keras\n",

        "import tensorflow_hub as hub\n",

        "from tensorflow.keras import layers\n",

        "import tensorflow_decision_forests as tfdf\n",

        "import matplotlib.pyplot as plt"

      ]

    },

    {

      "cell_type": "code",

      "source": [

        "# Turn .csv files into pandas DataFrame's\n",

        "df = pd.read_csv(\n",

        "    \"https://raw.githubusercontent.com/IMvision12/Tweets-Classification-NLP/main/train.csv\"\n",

        ")\n",

        "print(df.head())"

      ],

      "metadata": {

        "colab": {

          "base_uri": "https://localhost:8080/"

        },

        "id": "KT9D0yCI14Cd",

        "outputId": "1073ca9d-ea81-4e1b-f6a5-a7cbd054bd5c"

      },

      "execution_count": null,

      "outputs": [

        {

          "output_type": "stream",

          "name": "stdout",

          "text": [

            "   id keyword location                                               text  \\\n",

            "0   1     NaN      NaN  Our Deeds are the Reason of this #earthquake M...   \n",

            "1   4     NaN      NaN             Forest fire near La Ronge Sask. Canada   \n",

            "2   5     NaN      NaN  All residents asked to 'shelter in place' are ...   \n",

            "3   6     NaN      NaN  13,000 people receive #wildfires evacuation or...   \n",

            "4   7     NaN      NaN  Just got sent this photo from Ruby #Alaska as ...   \n",

            "\n",

            "   target  \n",

            "0       1  \n",

            "1       1  \n",

            "2       1  \n",

            "3       1  \n",

            "4       1  \n"

          ]

        }

      ]

    },

    {

      "cell_type": "code",

      "source": [],

      "metadata": {

        "id": "KjJ4G9jL18QM"

      },

      "execution_count": null,

      "outputs": []

    },

    {

      "cell_type": "markdown",

      "source": [

        "#Exercise 2\n",

        "After completion of above code, trainees to review the code, the ouput of each cell thoroughly and understand it. They may take help of Google or Chatgpt. They should prepare to answer following question:\n",

        "\n",

        "\n",

        "*   Why 2 models are being trained instead of one.\n",

        "*   Why one model has a higher accuracy than the other\n",

        "*   Why the accuracy curve with increasing number of trees increases sharpely in one model and remains constant\n",

        "*   Tweets are not structured data, so how are they being represented in a decision tree\n",

        "*   What is the difference between Test and Validation\n",

        "*   Training data has a shape of (7613, 5), what is 5 here\n",

        "*   What is the preprocessor argument being passed to GradientBoostedTreesModel signify\n",

        "*   What is metric \"AUC\"\n",

        "*   What is Binomial Log Likelihood loss, how to change loss type\n",

        "*   In Model 1 Summary why is output shape (None, 512)\n",

        "*   Why number of parameters in model 1 much higher than model 2\n",

        "*   What is HigherCondition in condition type in nodes\n",

        "*   How can raw data be given to model 2 without any encoding\n",

        "\n",

        "\n",

        "\n",

        "\n",

        "\n",

        "\n",

        "\n",

        "\n",

        "\n",

        "\n",

        "\n",

        "\n",

        "\n",

        "\n",

        "\n",

        "\n",

        "\n"

      ],

      "metadata": {

        "id": "RD3DMljxNHHR"

      }

    }

  ]

}