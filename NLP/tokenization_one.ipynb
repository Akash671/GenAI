{
  "nbformat": 4,
  "nbformat_minor": 0,
  "metadata": {
    "colab": {
      "provenance": []
    },
    "kernelspec": {
      "name": "python3",
      "display_name": "Python 3"
    },
    "language_info": {
      "name": "python"
    }
  },
  "cells": [
    {
      "cell_type": "code",
      "source": [
        "!pip install nltk"
      ],
      "metadata": {
        "colab": {
          "base_uri": "https://localhost:8080/"
        },
        "id": "NEDB3t9D8WBr",
        "outputId": "65a440a7-86d6-4e0d-ca3a-659494705579"
      },
      "execution_count": 1,
      "outputs": [
        {
          "output_type": "stream",
          "name": "stdout",
          "text": [
            "Requirement already satisfied: nltk in /usr/local/lib/python3.10/dist-packages (3.8.1)\n",
            "Requirement already satisfied: click in /usr/local/lib/python3.10/dist-packages (from nltk) (8.1.7)\n",
            "Requirement already satisfied: joblib in /usr/local/lib/python3.10/dist-packages (from nltk) (1.3.2)\n",
            "Requirement already satisfied: regex>=2021.8.3 in /usr/local/lib/python3.10/dist-packages (from nltk) (2023.12.25)\n",
            "Requirement already satisfied: tqdm in /usr/local/lib/python3.10/dist-packages (from nltk) (4.66.2)\n"
          ]
        }
      ]
    },
    {
      "cell_type": "code",
      "source": [
        "import nltk\n",
        "nltk.download('punkt')"
      ],
      "metadata": {
        "colab": {
          "base_uri": "https://localhost:8080/"
        },
        "id": "10noZYqA8U9k",
        "outputId": "bfd147b2-587f-4629-f8fc-070badd1271c"
      },
      "execution_count": 2,
      "outputs": [
        {
          "output_type": "stream",
          "name": "stderr",
          "text": [
            "[nltk_data] Downloading package punkt to /root/nltk_data...\n",
            "[nltk_data]   Unzipping tokenizers/punkt.zip.\n"
          ]
        },
        {
          "output_type": "execute_result",
          "data": {
            "text/plain": [
              "True"
            ]
          },
          "metadata": {},
          "execution_count": 2
        }
      ]
    },
    {
      "cell_type": "code",
      "execution_count": 5,
      "metadata": {
        "colab": {
          "base_uri": "https://localhost:8080/"
        },
        "id": "gowmMrUO5m0x",
        "outputId": "701c8f51-c698-4085-a085-f1d6d25c1d5e"
      },
      "outputs": [
        {
          "output_type": "execute_result",
          "data": {
            "text/plain": [
              "['Hello friends.',\n",
              " 'Welcome to our GenAI session.',\n",
              " 'You are now studying NLP techniques.']"
            ]
          },
          "metadata": {},
          "execution_count": 5
        }
      ],
      "source": [
        "from nltk.tokenize import sent_tokenize\n",
        "\n",
        "text = \"Hello friends. Welcome to our GenAI session. You are now studying NLP techniques.\"\n",
        "sent_tokenize(text)\n"
      ]
    },
    {
      "cell_type": "code",
      "source": [
        "import nltk.data\n",
        "\n",
        "# Loading PunktSentenceTokenizer using English pickle file\n",
        "tokenizer = nltk.data.load('tokenizers/punkt/PY3/english.pickle')\n",
        "tokenizer.tokenize(text)\n"
      ],
      "metadata": {
        "colab": {
          "base_uri": "https://localhost:8080/"
        },
        "id": "0mlRYtKy8yH8",
        "outputId": "cedb93fc-cebf-4cf7-d3a2-11f65e90543e"
      },
      "execution_count": 6,
      "outputs": [
        {
          "output_type": "execute_result",
          "data": {
            "text/plain": [
              "['Hello friends.',\n",
              " 'Welcome to our GenAI session.',\n",
              " 'You are now studying NLP techniques.']"
            ]
          },
          "metadata": {},
          "execution_count": 6
        }
      ]
    },
    {
      "cell_type": "code",
      "source": [
        "import nltk.data\n",
        "\n",
        "spanish_tokenizer = nltk.data.load('tokenizers/punkt/PY3/spanish.pickle')\n",
        "\n",
        "text = 'Hola amigo. Estoy bien.'\n",
        "spanish_tokenizer.tokenize(text)\n"
      ],
      "metadata": {
        "colab": {
          "base_uri": "https://localhost:8080/"
        },
        "id": "ymnta7wc84gr",
        "outputId": "711559bb-c11c-405a-aa45-3fc3342e739f"
      },
      "execution_count": 7,
      "outputs": [
        {
          "output_type": "execute_result",
          "data": {
            "text/plain": [
              "['Hola amigo.', 'Estoy bien.']"
            ]
          },
          "metadata": {},
          "execution_count": 7
        }
      ]
    },
    {
      "cell_type": "code",
      "source": [
        "from nltk.tokenize import word_tokenize\n",
        "\n",
        "text = \"Hello friends. Welcome to our GenAI session. You are now studying NLP techniques.\"\n",
        "word_tokenize(text)\n"
      ],
      "metadata": {
        "colab": {
          "base_uri": "https://localhost:8080/"
        },
        "id": "WvTOD0kx88kU",
        "outputId": "dabc952c-42d3-43ae-ab81-b1c42cf68ccf"
      },
      "execution_count": 8,
      "outputs": [
        {
          "output_type": "execute_result",
          "data": {
            "text/plain": [
              "['Hello',\n",
              " 'friends',\n",
              " '.',\n",
              " 'Welcome',\n",
              " 'to',\n",
              " 'our',\n",
              " 'GenAI',\n",
              " 'session',\n",
              " '.',\n",
              " 'You',\n",
              " 'are',\n",
              " 'now',\n",
              " 'studying',\n",
              " 'NLP',\n",
              " 'techniques',\n",
              " '.']"
            ]
          },
          "metadata": {},
          "execution_count": 8
        }
      ]
    },
    {
      "cell_type": "code",
      "source": [
        "from collections import OrderedDict\n",
        "res_dict=OrderedDict()\n",
        "res = \"Hello friends. Welcome to our GenAI session. You are now studying NLP techniques.\"\n",
        "for i in res:\n",
        "\tnew_string=' '.join(char for char in i)\n",
        "\tif new_string in res_dict:\n",
        "\t\tres_dict[new_string]+=1\n",
        "\telse:\n",
        "\t\tres_dict[new_string]=1\n",
        "res_dict\n"
      ],
      "metadata": {
        "colab": {
          "base_uri": "https://localhost:8080/"
        },
        "id": "2pdncc-Y9u9U",
        "outputId": "5a4ba8bf-ee7a-46b6-8775-9471adca2234"
      },
      "execution_count": 9,
      "outputs": [
        {
          "output_type": "execute_result",
          "data": {
            "text/plain": [
              "OrderedDict([('H', 1),\n",
              "             ('e', 9),\n",
              "             ('l', 3),\n",
              "             ('o', 7),\n",
              "             (' ', 12),\n",
              "             ('f', 1),\n",
              "             ('r', 3),\n",
              "             ('i', 4),\n",
              "             ('n', 6),\n",
              "             ('d', 2),\n",
              "             ('s', 6),\n",
              "             ('.', 3),\n",
              "             ('W', 1),\n",
              "             ('c', 2),\n",
              "             ('m', 1),\n",
              "             ('t', 3),\n",
              "             ('u', 4),\n",
              "             ('G', 1),\n",
              "             ('A', 1),\n",
              "             ('I', 1),\n",
              "             ('Y', 1),\n",
              "             ('a', 1),\n",
              "             ('w', 1),\n",
              "             ('y', 1),\n",
              "             ('g', 1),\n",
              "             ('N', 1),\n",
              "             ('L', 1),\n",
              "             ('P', 1),\n",
              "             ('h', 1),\n",
              "             ('q', 1)])"
            ]
          },
          "metadata": {},
          "execution_count": 9
        }
      ]
    }
  ]
}