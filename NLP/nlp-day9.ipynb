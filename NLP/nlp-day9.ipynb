{

  "nbformat": 4,

  "nbformat_minor": 0,

  "metadata": {

    "colab": {

      "provenance": []

    },

    "kernelspec": {

      "name": "python3",

      "display_name": "Python 3"

    },

    "language_info": {

      "name": "python"

    }

  },

  "cells": [

    {

      "cell_type": "markdown",

      "source": [

        "#Introduction to sequence-to-sequence (seq2seq) models in NLP\n",

        "###Application of seq2seq models in machine translation and text generation\n",

        "###Hands-on exercise: Implementing a basic seq2seq model using recurrent neural networks (e.g., LSTM or GRU)::"

      ],

      "metadata": {

        "id": "wzJovQ8bgb96"

      }

    },

    {

      "cell_type": "markdown",

      "source": [

        "Sequence-to-sequence (seq2seq) models have revolutionized natural language processing (NLP) tasks by enabling the generation of coherent and contextually relevant output sequences from input sequences. These models are designed to address problems where the input and output are of variable length and not necessarily aligned word-for-word.\n",

        "\n",

        "---\n",

        "\n",

        "\n",

        "\n",

        "In NLP, seq2seq models typically consist of two components: an encoder and a decoder. The encoder processes the input sequence, such as a sentence or a document, into a fixed-length representation called the context vector. This context vector captures the semantic and contextual information from the input sequence. The decoder then takes the context vector as input and generates the output sequence word-by-word or token-by-token, typically autoregressively.\n",

        "\n",

        "---\n",

        "\n",

        "\n",

        "\n",

        "Seq2seq models have been successfully applied to various NLP tasks, including machine translation, text summarization, dialogue generation, and question answering. They have demonstrated their ability to capture the dependencies and nuances within language, allowing for more accurate and fluent generation of output sequences.\n",

        "\n",

        "---\n",

        "\n",

        "\n",

        "\n",

        "These models are often built using recurrent neural networks (RNNs) or their variants, such as long short-term memory (LSTM) or gated recurrent unit (GRU), due to their ability to handle sequential data. However, more recent approaches, such as Transformer-based architectures, have also shown promising results in seq2seq tasks.\n",

        "\n",

        "---\n",

        "\n",

        "\n",

        "\n",

        "Overall, sequence-to-sequence models have become an essential tool in NLP, enabling the generation of coherent and contextually relevant output sequences, thereby advancing the capabilities of various language-related applications."

      ],

      "metadata": {

        "id": "ybu8t-HOofDp"

      }

    },

    {

      "cell_type": "markdown",

      "source": [

        "#Machine Translation:\n",

        "Seq2seq models have greatly advanced the field of machine translation by providing an effective solution for translating text from one language to another. These models excel at capturing the contextual information in the source language and generating coherent and accurate translations in the target language. By training on large parallel corpora, where source and target language pairs are aligned, seq2seq models learn to encode the source sentence into a context vector and decode it into the target sentence. This approach has significantly improved the quality of machine translation systems, enabling more fluent and natural translations across different language pairs."

      ],

      "metadata": {

        "id": "hal56xAlpG06"

      }

    },

    {

      "cell_type": "markdown",

      "source": [

        "#Text Generation:\n",

        "Seq2seq models have also found extensive applications in text generation tasks, such as dialogue systems, summarization, and creative writing. These models are capable of generating text that follows a given prompt or context, allowing for the creation of human-like responses or informative summaries. By training on large text corpora and leveraging techniques like attention mechanisms, seq2seq models learn to capture the dependencies and patterns in the training data, enabling them to generate coherent and contextually relevant text. With their ability to produce diverse and fluent output, seq2seq models have opened up possibilities for generating engaging and high-quality text across a wide range of domains and applications."

      ],

      "metadata": {

        "id": "eis2GlBVpJW5"

      }

    },

    {

      "cell_type": "markdown",

      "source": [

        "##Illustrated Guide to LSTMâ€™s and GRUâ€™s: A step by step explanation\n",

        "https://towardsdatascience.com/illustrated-guide-to-lstms-and-gru-s-a-step-by-step-explanation-44e9eb85bf21"

      ],

      "metadata": {

        "id": "qAszfor1Y-Kk"

      }

    },

    {

      "cell_type": "markdown",

      "source": [

        "###When are GRUs better than LSTMs?\n",

        "\n",

        "GRUs (Gated Recurrent Units) and LSTMs (Long Short-Term Memory) are both types of recurrent neural networks (RNNs) commonly used for sequence modeling tasks. While they share similar characteristics, such as being capable of capturing long-term dependencies in sequential data, there are certain scenarios where GRUs may be preferred over LSTMs. Here are a few cases:\n",

        "\n",

        "---\n",

        "\n",

        "\n",

        "\n",

        "Simplicity and Efficiency: GRUs have a simpler architecture compared to LSTMs. They have fewer gates and require fewer computations, resulting in faster training and inference times. If you have limited computational resources or need to process large amounts of data quickly, GRUs may be a more efficient choice.\n",

        "\n",

        "---\n",

        "\n",

        "\n",

        "\n",

        "Smaller Datasets: If you have a relatively small dataset, GRUs can be advantageous. LSTMs tend to have more parameters due to their additional memory cell, which can lead to overfitting when data is limited. GRUs' simpler structure may mitigate this issue and provide better generalization with smaller amounts of training data.\n",

        "\n",

        "---\n",

        "\n",

        "\n",

        "\n",

        "Noise in Data: GRUs have shown better performance in scenarios where noise or irrelevant information is present in the input sequence. The gating mechanism in GRUs allows them to selectively update and reset information, which can help filter out noisy or irrelevant signals, improving the model's ability to focus on relevant features.\n",

        "\n",

        "---\n",

        "\n",

        "\n",

        "\n",

        "Computational Cost: GRUs are computationally less expensive compared to LSTMs. If you are working with resource-constrained environments, such as mobile or embedded devices, where memory and processing power are limited, GRUs can be a more viable option due to their lower computational cost.\n",

        "\n",

        "---\n",

        "\n",

        "\n",

        "\n",

        "It's important to note that the performance of GRUs and LSTMs can vary depending on the specific task and dataset. It is recommended to experiment with both architectures and evaluate their performance on your specific problem to determine which one works best for your needs."

      ],

      "metadata": {

        "id": "g48tyGahlgkf"

      }

    },

    {

      "cell_type": "markdown",

      "source": [

        "##Character-level text generation with LSTM\n",

        "https://colab.research.google.com/github/keras-team/keras-io/blob/master/examples/generative/ipynb/lstm_character_level_text_generation.ipynb#scrollTo=tjO8oi_6aB2O"

      ],

      "metadata": {

        "id": "QMERgXBUbJcp"

      }

    },

    {

      "cell_type": "code",

      "source": [

        "from tensorflow import keras\n",

        "from tensorflow.keras import layers\n",

        "\n",

        "import numpy as np\n",

        "import random\n",

        "import io"

      ],

      "metadata": {

       "id": "sDVat5JJhJdG"

      },

      "execution_count": null,

      "outputs": []

    },

    {

      "cell_type": "markdown",

      "source": [

        "## Prepare the data"

      ],

      "metadata": {

        "id": "yfeDoPBCjzvQ"

      }

    },

    {

      "cell_type": "code",

      "execution_count": null,

      "metadata": {

        "id": "n_sgtH3tbL5H",

        "outputId": "f5edd8cc-46f4-4d11-aa72-fb0841a1323c",

        "colab": {

          "base_uri": "https://localhost:8080/"

        }

      },

      "outputs": [

        {

          "output_type": "stream",

          "name": "stdout",

          "text": [

            "Corpus length: 600893\n",

            "Total chars: 56\n",

            "Number of sequences: 200295\n"

          ]

        },

       {

          "output_type": "stream",

          "name": "stderr",

          "text": [

            "<ipython-input-2-33853916f029>:24: DeprecationWarning: `np.bool` is a deprecated alias for the builtin `bool`. To silence this warning, use `bool` by itself. Doing this will not modify any behavior and is safe. If you specifically wanted the numpy scalar type, use `np.bool_` here.\n",

            "Deprecated in NumPy 1.20; for more details and guidance: https://numpy.org/devdocs/release/1.20.0-notes.html#deprecations\n",

            "  x = np.zeros((len(sentences), maxlen, len(chars)), dtype=np.bool)\n",

            "<ipython-input-2-33853916f029>:25: DeprecationWarning: `np.bool` is a deprecated alias for the builtin `bool`. To silence this warning, use `bool` by itself. Doing this will not modify any behavior and is safe. If you specifically wanted the numpy scalar type, use `np.bool_` here.\n",

            "Deprecated in NumPy 1.20; for more details and guidance: https://numpy.org/devdocs/release/1.20.0-notes.html#deprecations\n",

            "  y = np.zeros((len(sentences), len(chars)), dtype=np.bool)\n"

          ]

        }

      ],

      "source": [

        "path = keras.utils.get_file(\n",

        "    \"nietzsche.txt\", origin=\"https://s3.amazonaws.com/text-datasets/nietzsche.txt\"\n",

        ")\n",

        "with io.open(path, encoding=\"utf-8\") as f:\n",

        "    text = f.read().lower()\n",

        "text = text.replace(\"\\n\", \" \")  # We remove newlines chars for nicer display\n",

        "print(\"Corpus length:\", len(text))\n",

        "\n",

        "chars = sorted(list(set(text)))\n",

        "print(\"Total chars:\", len(chars))\n",

        "char_indices = dict((c, i) for i, c in enumerate(chars))\n",

        "indices_char = dict((i, c) for i, c in enumerate(chars))\n",

        "\n",

        "# cut the text in semi-redundant sequences of maxlen characters\n",

        "maxlen = 40\n",

        "step = 3\n",

        "sentences = []\n",

        "next_chars = []\n",

        "for i in range(0, len(text) - maxlen, step):\n",

        "    sentences.append(text[i : i + maxlen])\n",

        "    next_chars.append(text[i + maxlen])\n",

        "print(\"Number of sequences:\", len(sentences))\n",

        "\n",

        "x = np.zeros((len(sentences), maxlen, len(chars)), dtype=np.bool)\n",

        "y = np.zeros((len(sentences), len(chars)), dtype=np.bool)\n",

        "for i, sentence in enumerate(sentences):\n",

        "    for t, char in enumerate(sentence):\n",

        "        x[i, t, char_indices[char]] = 1\n",

        "    y[i, char_indices[next_chars[i]]] = 1\n",

        "\n"

      ]

    },

    {

      "cell_type": "markdown",

      "source": [

        "A sequential model using the Keras library, which is a high-level deep learning framework. The model architecture consists of three layers: an input layer, an LSTM layer, and a dense layer.\n",

        "\n",

        "---\n",

        "model = keras.Sequential(): This line initializes a sequential model object. The sequential model is a linear stack of layers where the output of one layer becomes the input of the next layer.\n",

        "\n",

        "keras.Input(shape=(maxlen, len(chars))): This line defines the input layer of the model. The keras.Input function creates a placeholder for the model's input data. In this case, the input shape is (maxlen, len(chars)), which means that the model expects input sequences of length maxlen with len(chars) features in each time step. This input shape is typically used in text or sequence processing tasks, where maxlen is the maximum sequence length and len(chars) represents the number of unique characters in the input data.\n",

        "\n",

        "layers.LSTM(128): This line adds an LSTM layer to the model. LSTM (Long Short-Term Memory) is a type of recurrent neural network (RNN) layer that is well-suited for processing sequential data. The number 128 represents the dimensionality of the output space of the LSTM layer, which means that the layer will have 128 units. Each unit processes the input sequence and produces an output at each time step.\n",

        "\n",

        "layers.Dense(len(chars), activation=\"softmax\"): This line adds a dense layer to the model. The dense layer is a fully connected layer where each neuron is connected to every neuron in the previous layer. The len(chars) specifies the number of units/neurons in this layer, which is equal to the number of unique characters in the input data. The activation=\"softmax\" argument specifies that the output of this layer should be normalized using the softmax activation function, which produces a probability distribution over the different classes (characters in this case).\n",

        "\n",

        "---\n",

        "The model takes input sequences of length maxlen with len(chars) features in each time step. It processes the input sequences using an LSTM layer with 128 units, and then passes the output to a dense layer with the softmax activation function, which generates a probability distribution over the characters. This model is commonly used for tasks such as text generation or character-level language modeling, where the goal is to predict the next character in a sequence given the previous characters.\n",

        "\n",

        "\n",

        "\n",

        "\n",

        "\n",

        "\n",

        "\n",

        "\n",

        "\n"

      ],

      "metadata": {

        "id": "WI0CjiVUicAh"

      }

    },

    {

      "cell_type": "code",

      "execution_count": null,

      "metadata": {

        "id": "kGxMrn3PbL5H"

      },

      "outputs": [],

      "source": [

        "model = keras.Sequential(\n",

        "    [\n",

        "        keras.Input(shape=(maxlen, len(chars))),\n",

        "        layers.LSTM(128),\n",

        "        layers.Dense(len(chars), activation=\"softmax\"),\n",

        "    ]\n",

        ")\n",

        "optimizer = keras.optimizers.RMSprop(learning_rate=0.01)\n",

        "model.compile(loss=\"categorical_crossentropy\", optimizer=optimizer)\n"

      ]

    },

    {

      "cell_type": "markdown",

      "source": [

        "keras.optimizers.RMSprop: This line creates an optimizer object of the RMSprop class. RMSprop is an optimization algorithm commonly used for training neural networks. It adapts the learning rate for each parameter based on the magnitude of recent gradients. RMSprop is known for its ability to handle sparse gradients, which makes it suitable for tasks with large datasets or complex models.\n",

        "\n",

        "learning_rate=0.01: This argument sets the learning rate for the optimizer. The learning rate determines the step size at each iteration during the optimization process. A higher learning rate allows for faster convergence but can risk overshooting the optimal solution, while a lower learning rate can result in slower convergence but potentially better accuracy.\n",

        "\n",

        "model.compile: This function compiles the Keras model with the specified loss function and optimizer. Compilation is an important step before training a model because it prepares the model for the training process by configuring the learning process.\n",

        "\n",

        "loss=\"categorical_crossentropy\": This argument sets the loss function to categorical cross-entropy. Categorical cross-entropy is commonly used when dealing with multi-class classification problems, where each sample belongs to one class out of multiple classes. It measures the difference between the predicted probability distribution and the true distribution of the classes.\n",

        "\n",

        "optimizer=optimizer: This argument sets the optimizer to the previously defined optimizer object (RMSprop with learning rate 0.01). The optimizer is responsible for updating the model's parameters during the training process based on the calculated gradients and the chosen optimization algorithm."

      ],

      "metadata": {

        "id": "yVDNGsphjECg"

      }

    },

    {

      "cell_type": "markdown",

      "source": [

        "## Prepare the text sampling function"

      ],

      "metadata": {

        "id": "Swz8E-4cjtwJ"

      }

    },

    {

      "cell_type": "code",

      "execution_count": null,

      "metadata": {

        "id": "f9dhilU8bL5I"

      },

      "outputs": [],

      "source": [

        "def sample(preds, temperature=1.0):\n",

        "    # helper function to sample an index from a probability array\n",

        "    preds = np.asarray(preds).astype(\"float64\")\n",

        "    preds = np.log(preds) / temperature\n",

        "    exp_preds = np.exp(preds)\n",

        "    preds = exp_preds / np.sum(exp_preds)\n",

        "    probas = np.random.multinomial(1, preds, 1)\n",

        "    return np.argmax(probas)\n",

        "\n"

      ]

    },

    {

      "cell_type": "markdown",

      "source": [

        "###Train the model"

      ],

      "metadata": {

        "id": "mdzloQYqjiF0"

      }

    },

    {

      "cell_type": "code",

      "execution_count": null,

      "metadata": {

        "id": "96ZTvPMnbL5J",

        "outputId": "d2a5b66f-9d8d-46f0-8e19-0e8663bb9e1d",

        "colab": {

          "base_uri": "https://localhost:8080/",

          "height": 1000

        }

      },

      "outputs": [

        {

          "output_type": "stream",

          "name": "stdout",

          "text": [

            "1565/1565 [==============================] - 59s 35ms/step - loss: 1.9642\n",

            "\n",

            "Generating text after epoch: 0\n",

            "...Diversity: 0.2\n",

            "...Generating with seed: \"spicion an\"\n",

            "...Generated:  d the such and and and the self in the sempent of the sear of the something and and and the something there as the sempance of the sear the something and the self the self there and the self the self the something the self the self the self the self the say are the something and the sear of the something the something is the some and the something and and the may and the somen and the self the som\n",

            "\n",

            "...Diversity: 0.5\n",

            "...Generating with seed: \"spicion an\"\n",

            "...Generated:  d in man need of the spilf of the something and the resportian in the somentance and the restor the sould and shill and are and and the seppopent and the seant uncertain of the soul of the out there to strucate of the spiction there there uncensation of mans the conselt the seally and accommans of the from and the pression, the desparty of the self or origin or the upprifictions and his stated the\n",

            "\n",

            "...Diversity: 1.0\n",

            "...Generating with seed: \"spicion an\"\n",

            "...Generated:  d o ovextke which all interple ans upor a dideary and ammen thingsity-\"has alsow. le-parber lithes, in, rediding asconfor to the latter bolity be likic, \"more where, and phinomal opeds canspoble of that a man is to sake and are houding the entress-and its bectrom, in these persing owning in emery lifefur there, anst a sentiente; orto where for the side, suthing is consision the art the seestoeses \n",

            "\n",

            "...Diversity: 1.2\n",

            "...Generating with seed: \"spicion an\"\n",

            "...Generated:  d lofhing readqul orly oner cintraped mistortuin. like moomdumolaÃ©tily onasem, of a lequek of lirey, munher kenowe nawed. dureds: and philosophers as it pactomence far ord\"e] of siccletn! buturs. otinednsp-gotay, onesfeels yours we stement cortge usood with greus\" a thing wyanvelesby delly\", and for ligvty utilimanaricacced their idils his waind?  of his noplowif it as for do, the parstiting and t\n",

            "\n",

            "1565/1565 [==============================] - 54s 34ms/step - loss: 1.5879\n",

            "\n",

            "Generating text after epoch: 1\n",

            "...Diversity: 0.2\n",

            "...Generating with seed: \"o know the\"\n",

            "...Generated:   procossess and all the some and something the some of the most and the some and something the some and something in the positions and the positions and the some and some and the positions and so the some of the some and some and the most the position of the power and the positions and something and something and strength to the some and strength and account and the some of the most and the some o\n",

            "\n",

            "...Diversity: 0.5\n",

            "...Generating with seed: \"o know the\"\n",

            "...Generated:   master and as such the actions of stronger to the respensed the most only an any like to be the conscient the form of the something to manking that the sould the some propounded, but and the some of him, and the do we have sonmality, and the most and who and strength the some of the most devere for perhaps the consciently in the absernieng in so the secriously and the forming and simble of the so\n",

            "\n",

            "...Diversity: 1.0\n",

            "...Generating with seed: \"o know the\"\n",

            "...Generated:   opposites formers griged, and so sy. of sucherly haddage to him whatmen no\"; find a sign rageness the fforsf all ordistoud spirits.=-hich belong, to mastere it experiousaring proligical canclate ages and every canneverness, dooud? also the mo the s.-tempts use! the na.romated the revaded and cos, lutts who knows in this most scholyof it sende, thereby ules of he inteunonesses hoveer hardly of utr\n",

            "\n",

            "...Diversity: 1.2\n",

            "...Generating with seed: \"o know the\"\n",

            "...Generated:   -whelo day, and stald haddghy causment--aboved with so oll ang gidu[usly a whonwe. uf oneliteved laws, and love.--acceatequanly, so  8remaely pleniged=--but qualit he to the karto. been found mind i consideban!  ,   unw hall, nain tyres. overhas pexhaped cintary. hardowt phast weighers aftizacho istly of necessing,\" that inte,\", quil: it fagher)o \"voof from hiche, edmenac spations of thut.\"--- in\n",

            "\n",

            "1565/1565 [==============================] - 54s 34ms/step - loss: 1.4865\n",

            "\n",

            "Generating text after epoch: 2\n",

            "...Diversity: 0.2\n",

            "...Generating with seed: \"iness\" of \"\n",

            "...Generated:  the senses to the senses of the presents of the some and the higher the contradiction of the senses of the senses to the senses to the most in the presents of the presents of the senses of the sensible of the subject the subject the subject the most the some of the senses of the some has been the same the senses of the sentiments of the subject the senses of the most of the contradical destruction\n",

            "\n",

            "...Diversity: 0.5\n",

            "...Generating with seed: \"iness\" of \"\n",

            "...Generated:  the greathest are and was stronger the constantly in the contradically and arrotration of the \"feeling of his own of the preach of the senses of the destructed to had and himself of the partic conduct of the plases of the great the order to individual in the finally to the \"contempt of the contempt of the serves, the himself in the presents and as the hibter, and were the most man in the massation\n",

            "\n",

            "...Diversity: 1.0\n",

            "...Generating with seed: \"iness\" of \"\n",

            "...Generated:  them, also more everything, in destled and up(ratie bur most sumblication and all every..  pe they us, would from briakessely, to the simple, must a chards and the part\" the not scholendful leadin by the most vant is christians mysh, that as it have there is theogingual onl chich anothers, the asten been condition, _empt sumantificacicizm.\" ans moralifality; that evion. easiss adain the lought usu\n",

            "\n",

            "...Diversity: 1.2\n",

            "...Generating with seed: \"iness\" of \"\n",

            "...Generated:  mar , a-wroold,--may to believe many plust had can powe-.: is forlem you what the spowering melforation buleth, and moseen fortwate in inany\" -respecianing from the untimewhood has a ba'se is a those the intombloundoest that why, and hevent his will.. these adder to morly mennitye-corious to early bur the time faired, as a diretism; what! a mennations of itmesity which we reads; diours_ind tasre m\n",

            "\n",

            "1565/1565 [==============================] - 55s 35ms/step - loss: 1.4347\n",

            "\n",

            "Generating text after epoch: 3\n",

            "...Diversity: 0.2\n",

            "...Generating with seed: \"efute it. \"\n",

            "...Generated:  the sense, and the power and a sense, and of the sound of the sound and all the senses of the post of the sound and the power of the self-dears the strict of the present the sound and selence of the sound in the sound of the preserved the sense, and the self-deart of the something and the present the fact of the former the power of the sound of the sound in the power of the power as the presention\n",

            "\n",

            "...Diversity: 0.5\n",

            "...Generating with seed: \"efute it. \"\n",

            "...Generated:  the person and his believed the feeling of the formular there is a reading and we is a person of the moral forthing, and subjection of form of the forms the prociments as the most the power, the preseral can be moral, as but in the soundance of the same corbered the good him and which one must of the philosophical decides himself, as the moral called distinctively as be comporess of the religious \n",

            "\n",

            "...Diversity: 1.0\n",

            "...Generating with seed: \"efute it. \"\n",

            "...Generated:  that he vies o1 the badned by surerally lects may, vidige with creed blind toger feelived them--somehis indulougkning and here, siygnts .withery only--with the individual desith, is rened of sour himself is there are as the  prehenses way dreartosts to assert, that preyouch and desirater, since of his tentery morality. all, that it is an enconstalts experonous it blable mind of virion and brach\" u\n",

            "\n",

            "...Diversity: 1.2\n",

            "...Generating with seed: \"efute it. \"\n",

            "...Generated:  sthenw used.\")--ounlverous if prayorous, there is not yourdob, to valuncy: he woken intixfent of compered insotiededs have smay satist eperbainen in ximilay to ridd. \"as melalispo, to saamme; \"being the  for physicom, honers'ritych) him each aboun workeed agarunt, when there are, that it wowldorn-?hershart ascrip.  1gon it pait of nowle., i higher it paterityly, distensed, and somethind-etaptarily\n",

            "\n",

            "1565/1565 [==============================] - 53s 34ms/step - loss: 1.4000\n",

            "\n",

            "Generating text after epoch: 4\n",

            "...Diversity: 0.2\n",

            "...Generating with seed: \"en, indeed\"\n",

            "...Generated:   the some fact that is the subjection of the same time that is the proper the subtle and as such a sense of the some for the play the sense of the problem of the subtle of the subjection of the subtless of the subtle as the starding of the most relation of the conscience of the sense of the same as the subtless of the subtle of the art of the proper to the sense of the process of the subjection of\n",

            "\n",

            "...Diversity: 0.5\n",

            "...Generating with seed: \"en, indeed\"\n",

            "...Generated:   and religion of the fact that an action of the some as on a phenomentay at experiences the other is always under the same of his as the time will more fine the case in the sense, who say a strang of the conceive the sake the same for the profuded of the approgres to appearance of the process of the something his heart and the same play to the the bad as the because an all a thing is has sake from\n",

            "\n",

            "...Diversity: 1.0\n",

            "...Generating with seed: \"en, indeed\"\n",

            "...Generated:  , ourslle pease-oligise them\"e the exthacter-takes of ascriffical cinceed jost withing higher has moget as the emmire establishn that beaut uisime a pout laugh, from we grow which thus in hypethise throughter is body perpe, thereby ecrose of the insektance which unedreaming to grasr to them the hacred and grester is \"his not, of truth to a the deligence that be layksness of christianity from the v\n",

            "\n",

            "...Diversity: 1.2\n",

            "...Generating with seed: \"en, indeed\"\n",

            "...Generated:  s a timome fad things because stand: can ethical over -daanieizangly purises of mitriss do, piryual acts (toevoul, throughest aplive halptay iveivity will had nothing orral. are--whill eation of a reimes most in ixstand ourselves knowments loss enright is ideam.n and desarily: from falsificauch, his hereth a or eit himself morals adds that is--prilogsl of involonged itselffrer! is exexce entiry, a\n",

            "\n",

            "1565/1565 [==============================] - 54s 35ms/step - loss: 1.3754\n",

            "\n",

            "Generating text after epoch: 5\n",

            "...Diversity: 0.2\n",

            "...Generating with seed: \"d endure l\"\n",

            "...Generated:  ike the same time where and the presents the same time with the sense the religion of the same time which is the present and seet the senses the supposing the same time with the senses the same time where all the thing is a supposing and which it is the same time where and also a true the senses and the same time will and the presents and the same time with the states and the sense of the present \n",

            "\n",

            "...Diversity: 0.5\n",

            "...Generating with seed: \"d endure l\"\n",

            "...Generated:  ike the endial and the secret of the proceptical supposing calls itself in such a man in the whole who hand consequence and perhaps the misse is the still merely conceive only of the religion of the life in the necessitading and in the willong also this and desires and interrones: when the pertone in the sense, the in the a states and seases to an inderstand of the senses to individual to come whe\n",

            "\n",

            "...Diversity: 1.0\n",

            "...Generating with seed: \"d endure l\"\n",

            "...Generated:  ooking morals, \"because\"\" \"crace an things of huself, beque, arcung traes emberitamive to itess \"tyomin no men the cased rogy odan the men of example a precisely by because themselves for it. a till\" orony dargs all maradabourally morable,\" or which i aprea.- a profound his needs underiginang,      regase only when the personality he see more now tarn is moral phin. whetelal on 2evereantive find i\n",

            "\n",

            "...Diversity: 1.2\n",

            "...Generating with seed: \"d endure l\"\n",

            "...Generated:  i virst thought,\" thouslikesing a on the prefercn first than meatorgable vogentual moded tooch overy, fegrengestily?  unan; aware insciol predibce words shelos to rights, aldig onl in claem and assured transferly cause by the coar4erval honour giansaments. from world, ahs\"wableane; wishor inthings to rind at by tulss in in rugance as that wone--its wandedom, it even whecerty \"inventive man extent.\n",

            "\n",

            "1565/1565 [==============================] - 54s 34ms/step - loss: 1.3579\n",

            "\n",

            "Generating text after epoch: 6\n",

            "...Diversity: 0.2\n",

            "...Generating with seed: \"e its imag\"\n",

            "...Generated:  e the subjection, and individual conscious and the profound of the profound and the whole subjection, and as a man as a subjections and sense of the profound of the form of the profound in the strignt and the strength of the subjection, and also the strength and the strength and the state of the subjection, and and despreaded in the profound and the subjection, and the highest and desire and the s\n",

            "\n",

            "...Diversity: 0.5\n",

            "...Generating with seed: \"e its imag\"\n",

            "...Generated:  e of the called the most poarted itself, and that is the subjection, and as the free made us bear instinct that the destruction will something in the spirit as the submirnt and allow whatever is its own and disenstitual often the profound speak and what is the cost the man at which procoss to make a south that is the concernation, the fact that is the made the love of the man of the and soul, the \n",

            "\n",

            "...Diversity: 1.0\n",

            "...Generating with seed: \"e its imag\"\n",

            "...Generated:  e by good at presents as the places: it must earth, modernce by putive that therehiros--a herseppay is not their instrugted to actual bask or a bothers wooked salid opperies is is one, for thcie lives sinven\" in adom its precused which the getcipace, the devinsible\". forthine, said hele outle for the be, transtions whatever, perhaps opportinging realits have at once the philosopher, it has allowme\n",

            "\n",

            "...Diversity: 1.2\n",

            "...Generating with seed: \"e its imag\"\n",

            "...Generated:  e! be sertiesms an,ically is alife follear endure, howeves at fice those of with: hence a tapal of humed and examenculy, itself pressetion--countatic of parte, that evel beactsd--ohined as for obpolish extrects, \"wears, he usenumouslike, the most clows, knownd  something or a xxacituaicy earling. \"whald ne wence. skin, attanrcies,--with the others of thought that ori1le corrort of invyporated to t\n",

            "\n",

            "1565/1565 [==============================] - 58s 37ms/step - loss: 1.3417\n",

            "\n",

            "Generating text after epoch: 7\n",

            "...Diversity: 0.2\n",

            "...Generating with seed: \"able quant\"\n",

            "...Generated:  ity of the present the spectacly belief in the string and contemple and desire in the present the strength of the present and suresting in the subjecting and desire to the soul as the self-determine the present the self-denuat and the present the same time and development and desire in the present state of the a present and striving the subtle as it is always to the present the strange to the pres\n",

            "\n",

            "...Diversity: 0.5\n",

            "...Generating with seed: \"able quant\"\n",

            "...Generated:  ity. in the present development, as he do destrusting the artists and self-definition of rank of our people and present really the preficed and always one would repulsing the princes to themselves such a same case standard staid advanced and action of such salvation of value the thing and a fact the self-determine of man. the spirits of the spectacly and soul in the progress of the state as a reli\n",

            "\n",

            "...Diversity: 1.0\n",

            "...Generating with seed: \"able quant\"\n",

            "...Generated:  ies. with an another an 8mptation of man what is soble or themselves--dain, and nation of history of suble erobious in the desire the everything in the atwomm ard ahong more forasthroug. the 3addralvess hod not guiltder--\"noe, the ewther poor christianity of dut a finft the what awkerwwards. horeagoe? -but be=the charisfulf-preached.--but a lifty unstilatics, it is fall the nemps, \"knowledges, his\n",

            "\n",

            "...Diversity: 1.2\n",

            "...Generating with seed: \"able quant\"\n",

            "...Generated:  ians itself strutelike. noccaiture ropbimatic and mounce, makes for the preterious away see a rracabingness of conoontageop nefest wrfhe of evolit thear wandarism--henheverly have undervated which \"sudden very metaphysici, accountly god, but.  reprecation, , backing in hope--this mixpors, a race bothness, stabing to rearly \"syllow in sublimationary buredy. on the whole be superninc wittoce, again \n",

            "\n",

            "1565/1565 [==============================] - 55s 35ms/step - loss: 1.3293\n",

            "\n",

            "Generating text after epoch: 8\n",

            "...Diversity: 0.2\n",

            "...Generating with seed: \"n thinkabl\"\n",

            "...Generated:  e to the sensual and the world of the world of the most the profoundly an any striving of the profoundly and more of the most subject of the truth is the man of the process of the most the will and the most a still and something of the most relations of the power of the profoundly an and man of the consider of the most process of the process of the procound to the same more one discoverels and all\n",

            "\n",

            "...Diversity: 0.5\n",

            "...Generating with seed: \"n thinkabl\"\n",

            "...Generated:  e to the belief and does not consider of countenual of his single and once which is a philosophical in every the ascest to an the dangerous as also a notion, and now that it is to sin, that they are everything, and the other at the exists which have almost instance, only an extent and for the other the man is not who has all the other profoundly the most sufficient moral man of an opposite of man \n",

            "\n",

            "...Diversity: 1.0\n",

            "...Generating with seed: \"n thinkabl\"\n",

            "...Generated:  y the wirci, higher is perkinge, would, all that gives i rid\" all deligate with the soul lead to the dangerous sand uperal hoger his vouptionated of the bearth; wear gair's himself in possibly the outlooof\" i might--how steal, as thought--a from the lacting afly tediop plause in thou ward, all any coarsures, a round, ye caunalialities, the ewicts.=--\"hervies-e. one man to the bewinss\") in both the\n",

            "\n",

            "...Diversity: 1.2\n",

            "...Generating with seed: \"n thinkabl\"\n",

            "...Generated:  e, retuated, grating other as that exists of the act. not best only the solitucaris believe than nvouthity thoro lotics.in'wit, manifestubled tho re(sectation, to retrom\"nces by an this sridual oft tseen wantaining mysteriogs proves by impeably es notion by the parhherly certain eyesh of theur idea much only thus contrusity, the ost must first, and grange. those virtions of our wish is himself at \n",

            "\n",

            "1565/1565 [==============================] - 56s 36ms/step - loss: 1.3184\n",

            "\n",

            "Generating text after epoch: 9\n",

            "...Diversity: 0.2\n",

            "...Generating with seed: \"an in such\"\n",

            "...Generated:   a strange the species of the presence of the presence of the proper of the presence of the same time the species of the proporated to the presence of the same time and all the presence of the same with the state of the person of the person and all the speciely and the senses and all the presence of the same time and all the subjection of the proper in the same time and the fact that it is a respe\n",

            "\n",

            "...Diversity: 0.5\n",

            "...Generating with seed: \"an in such\"\n",

            "...Generated:   a comparady the soul of friendlish and impliged in the same difficulty and the particies cruelty in the same with the power and predays that he has a new feeling as a hate of the former and and fear at an existence as the heart of the pheredity and collers of self and reality and still and existence of the proporated instinct of the soul whould and have the fact that he has not the world.   14  =\n",

            "\n",

            "...Diversity: 1.0\n",

            "...Generating with seed: \"an in such\"\n",

            "...Generated:   a attention of repogn=us \"spenizial fact of the truths themsild is appearance, a\"with--as booked duron\": in claveless whould as a longet one anfuivte, i have all there are affareness the unseems to the fears to be meanless of greacrage: he can neit powest like--and affecial to not envalceles as is highest, streag forth,--it is ond that it bul beliefe. he who is not had therefore with revent as wh\n",

            "\n",

            "...Diversity: 1.2\n",

            "...Generating with seed: \"an in such\"\n",

            "...Generated:   really penally; in judgment to patest comooni the experiencion to dueper[. foledray. the expeniantality, psychology,s to the form and they are absolote and strange, occ'sted to sevudivately one subjectm, thereforeful: indeepptity haw assensible, , perhaps his misslavecked of the borwernneshipe-cuansedly whose moten additicesa5: everything an eiver? that in moral cate and rulen intrilld of his gan\n",

            "\n",

            "1565/1565 [==============================] - 56s 36ms/step - loss: 1.3086\n",

            "\n",

            "Generating text after epoch: 10\n",

            "...Diversity: 0.2\n",

            "...Generating with seed: \"ractise po\"\n",

            "...Generated:  ssible the soul of the soul of the profounded the profound one is a man of a soul of the soul of the most sense of the soul of the profounded the soul of the sense of the sense of the same time who would be super-ides the soul, which is also the soul of the among the self-decepsed to the sense of the soul of the such a soul of the same still and not of the same time of the more conscious and the p\n",

            "\n",

            "...Diversity: 0.5\n",

            "...Generating with seed: \"ractise po\"\n",

            "...Generated:  ssible for the more contradictory, and is a danger to the sense and value of goes a truent incentive explanation of the world of the sense itself does to the soul of the philosophy is intellectual maturity of the soul of should be new opportunation of experience to the mares to be have remained to love of sole proud of the prospectation, and love of a prover self-deness of the science of the case \n",

            "\n",

            "...Diversity: 1.0\n",

            "...Generating with seed: \"ractise po\"\n",

            "...Generated:  tence, will hod class wat like in this nations.=--,rends also taste only element of the case or vanistiduad of man knownce, distorance of awknonged. whether struws. but is possess of outher woman, thus another, luck of imponsible hhader of its instincts upon hamment, classer-staken in : he qualities of dancilistics in edement, drounder phylogos has practive obclisf, and not been ourd his intention\n",

            "\n",

            "...Diversity: 1.2\n",

            "...Generating with seed: \"ractise po\"\n",

            "...Generated:  rtion of signs--not amongfitiaints,-pdais), so alstro,--quan!\" even. ?  noke were appear nots. there man?---sapperaalued, \"fri-no nogasn whoway and certain lide--dund  \"seryop of certains, in the greaten pathfuld all habit imagementful, they a yendigness of woman infructly althomitimusure htwiou wartulities of really pro-plebacted\" here your lastiness light that this mxties, inadued waluover, will\n",

            "\n",

            "1565/1565 [==============================] - 52s 33ms/step - loss: 1.2981\n",

            "\n",

            "Generating text after epoch: 11\n",

            "...Diversity: 0.2\n",

            "...Generating with seed: \"l-ordered \"\n",

            "...Generated:  to the problems which has been the soul as the soul as the subject of a conscious into the world of the problem of hand to the contrast that it is a concerning and subject of the self-conceited to the subject of the superficial concerning the subject of the contrast to the subject to the most subject of the subject of the problems which could be mankind in the subject of the truth of the subject o\n",

            "\n",

            "...Diversity: 0.5\n",

            "...Generating with seed: \"l-ordered \"\n",

            "...Generated:  in our problem of rank of history of does we from himself in the most danger does not the devervated to us be influence has from the basis soulce in the other conditions and also the extinction of the belief in its distinction to will not be may precisely and distinction of woman, and whatever in the conception of the depende on the world, and in the plust in the value to that such a supposition t\n",

            "\n",

            "...Diversity: 1.0\n",

            "...Generating with seed: \"l-ordered \"\n",

            "...Generated:  with only person?\" now from the guise himhess at this percommently, circumounts from light in embective uncourtes. how to or tart and becomencal ediebality ago expression with absolute alt, scall and distances whan some concernest and would be laught to himver being outhous probably grown then, for use, and in the clasfies, and of loven. thus adatteds.\" our order to any dound cease in generated, b\n",

            "\n",

            "...Diversity: 1.2\n",

            "...Generating with seed: \"l-ordered \"\n",

            "...Generated:  to bagut--\"unoging, those lits shrutc\"euscent class--relflu of than anitters-burbe ear to the malfrmmance in equality, nothing some rigulated by moralty classes of vopity--\"whatever to the nown grounce of a ubbebfering the brought tabery thos, tun cincistity. 1he eten of as muchly no raiblest morn--in the art! so frew origin--it rejuded chanineor elsee but oucle--all conceptions faller out things \n",

            "\n",

            "1565/1565 [==============================] - 51s 33ms/step - loss: 1.2935\n",

            "\n",

            "Generating text after epoch: 12\n",

            "...Diversity: 0.2\n",

            "...Generating with seed: \" its crude\"\n",

            "...Generated:   of the considered to the moral faith in the fact that the self the most suffering of the sense of the moral morality of the preserve the present the morality of the problem of such a super--the most distinction of the most depression of the faith in the self the more precisely of the problem of the most distinction of the self the most distinction of the subject the probably and all the self-dece\n",

            "\n",

            "...Diversity: 0.5\n",

            "...Generating with seed: \" its crude\"\n",

            "...Generated:   of any arist and the highest incline by fine in the most distinction of the religious most finglated and deceives about who mean of all the bad moral sense of moral faith his short, will make the distinction of the world is not all powerfely can nature\" the the subjection of its own deceive which perhaps the process of which perhaps soul of the most influences to all the render of all the most di\n",

            "\n",

            "...Diversity: 1.0\n",

            "...Generating with seed: \" its crude\"\n",

            "...Generated:   now discleres every modern of unforth of the belovg of be: for a mean of eperion of self lime obosher ends; let us reveration, after the secrecy of \"mooguts resting common. for it but and the suprownce himheranth; and is being gives withd pain.] that it harbour when the more heigaten of a new to the means sochative to believe in influenceles and and nature. on the hearts. where evidkeded to seems\n",

            "\n",

            "...Diversity: 1.2\n",

            "...Generating with seed: \" its crude\"\n",

            "...Generated:   of structy\" circle in those powintest meanent i clryf. he bevol or no subviks?res uf montitimate roptedsful most sysle on for facurth; the back; ihis pay things a demajes mrove one i estic, fivactinets it. that impowers hy astent a instinct prefersed all that anything, which and dengyoos of cerfere;--leingled hawmanist-xelf-their preach among dis man espropond among meanter into a commonbinly is \n",

            "\n",

            "1565/1565 [==============================] - 53s 34ms/step - loss: 1.2859\n",

            "\n",

            "Generating text after epoch: 13\n",

            "...Diversity: 0.2\n",

            "...Generating with seed: \"s place ha\"\n",

            "...Generated:  s always to say the same time of the sensation of the world and when he was such a man of the senses to the sensation of the properligation of the strength of the soul of the soul of the sensations of the senses to the senses to be the streagn and all the soul and the sensation of the sensation, and the strength of the soul of the strength, and the submty and saints and all the considerable and se\n",

            "\n",

            "...Diversity: 0.5\n",

            "...Generating with seed: \"s place ha\"\n",

            "...Generated:  s not always and in the \"fact, and among out of the sensual speaks, be one is a saderness of the traghas alled the thing as also art of himself a smile and more of the belief of sensual and and still have at all the master, the consequglted with the possible his sensible morality. the soul. the rise of the marnies of him fore will\" of the sensang to do have hay always be early of the soul and prob\n",

            "\n",

            "...Diversity: 1.0\n",

            "...Generating with seed: \"s place ha\"\n",

            "...Generated:  ve at laws, ham also that another as the form where you compites for sufficient-in knowledge among, this principle will appearant, with though and ewwoce, upon her where by conclusion is the lught not other, ladguity arism at precisely as but not or error are philosophy of anstance of hinds the relation may are plant woman itself to which themselves almost passes at dies, not, when he punished but\n",

            "\n",

            "...Diversity: 1.2\n",

            "...Generating with seed: \"s place ha\"\n",

            "...Generated:  s only by enough anco ut distinction: stacked; in chice, from their truth that be contemment, of which purpose of a comprewdest protegn vertoger. the other! he have it for which who we known, from cloid shamen tises woks-willly wish we is tover, felt makeful manferingle penu or as apreart of  stake belowm in the severtruon of our virtue, to many ty. we know that whom at noled increditior, but the \n",

            "\n",

            "1565/1565 [==============================] - 51s 33ms/step - loss: 1.2801\n",

            "\n",

            "Generating text after epoch: 14\n",

            "...Diversity: 0.2\n",

            "...Generating with seed: \"of thought\"\n",

            "...Generated:   the soul of the soul of the soul of the soul and all the conscienting the soul of the soul of the strength and the more of the soul of the soul of the soul of the soul of the strength and all the preservation, and the secret and the sensation of the soul of the strength and believe in the strength and soul and and consequently the strength and the strength of the strength of the soul of the stren\n",

            "\n",

            "...Diversity: 0.5\n",

            "...Generating with seed: \"of thought\"\n",

            "...Generated:   which they may be cause and the souls, in a mare agreed the original sensation of the condition of a sense of all strength and faccleror the religious taken an antithest the places are and favourable self-derivation of the artificial, but new the subject, in the conception that in the higher is the instances and a fainive parribication is not with the sensations, the preservation of the strength,\n",

            "\n",

            "...Diversity: 1.0\n",

            "...Generating with seed: \"of thought\"\n",

            "...Generated:   who scorn: commusionate agreed, but they orknenthest to mede, which call attashed or sow this to pote, in it, the papys, his privilegs: which hau power these fame woman tape they which!   3= andly cause as nothing christing se, and because account are not perhaps bring narist far never whours, to inverse enverse most particularly and and borter a radizated as much enwithancem, \"was possessed impu\n",

            "\n",

            "...Diversity: 1.2\n",

            "...Generating with seed: \"of thought\"\n",

            "...Generated:   . the hway can believes everything and especially domaiss, with recuspons of artist by sho, dicty thanks have overerwas: like,--\"caves2 yven-urpea coming pviest. indizing, in accusdous on, over the \"mor-censive the inquirt, remains, who redease, much there knows.whose--\"fevend without bel, \"precisely is plavorsh? the stnous revulkenistes lowers; it even his thounity a mothe evernations, who or pu\n",

            "\n",

            "1565/1565 [==============================] - 53s 34ms/step - loss: 1.2746\n",

            "\n",

            "Generating text after epoch: 15\n",

            "...Diversity: 0.2\n",

            "...Generating with seed: \"goethe it \"\n",

            "...Generated:  in the process in the sense of the seriousness, and the most such a thing is an and profound the power of the sense, and in the possessed to the possible the most soul. it is not and and process in the false of the power of the promised the promision of the sense of the most such a promised the process in the sense in the conscious of the sense of the self-conscience to the sense of the sense of t\n",

            "\n",

            "...Diversity: 0.5\n",

            "...Generating with seed: \"goethe it \"\n",

            "...Generated:  was the bestreagance of the great stands him the enough in peoples the \"go last and and most \"one was circu[vited and christian self-potters and the speaks, it is all the service, the result of man is a man who knows how multiful friendly and characteristed to one consequent and for an and honest place the case of the religion and impulses of the greatest than it is we may be sure, and and perhaps\n",

            "\n",

            "...Diversity: 1.0\n",

            "...Generating with seed: \"goethe it \"\n",

            "...Generated:  in itself that has the means of ethics were ganious misus, hipoponsing and overfurp, dury by the cades hoses for nations, that can, it in the child, herd the objectity, why or a ctricties, sorligingly mediod the great as it is one easies, small traditesles the reudlable who possessed of the cravegen, whatever, he does not , it will be cause by the appule of which purely god that it above all that-\n",

            "\n",

            "...Diversity: 1.2\n",

            "...Generating with seed: \"goethe it \"\n",

            "...Generated:  oun has de uls far togoe mechopstial, philosopic-inly.\" the whill in cace sympathy--deasiniim is life.my and sekm-micrytital perpecy to ever men, the dreal worldly use--as a natak, thereforese offendeve--do the trained upon can and book!--name, me:. madens? fright all thatk op, whull us. tho will sburific capable in their lughymination was consequently in the france iu_, becausitages at lasigder. \n",

            "\n",

            "1565/1565 [==============================] - 56s 36ms/step - loss: 1.2682\n",

            "\n",

            "Generating text after epoch: 16\n",

            "...Diversity: 0.2\n",

            "...Generating with seed: \"long endea\"\n",

            "...Generated:  t to the philosophers of the sentiment and state of the senses and subject to all the subject and the strength of the subject to the same as the subject and standard of the present to the senses and exastent and constitution of the sentiment and all the same time and are not the sentiment and standards of the senses and as the sentiment of the senses and state of the senses and subject to the sens\n",

            "\n",

            "...Diversity: 0.5\n",

            "...Generating with seed: \"long endea\"\n",

            "...Generated:  ver of the powers and finally be states of classification of the point of the solity, the free indicates the spectarce of the sentiment of society is an existed and all the spectarce of his strange to the same time and schopenhauer than the greatest and fearses of the former ages of the waration of care so the states, and in the conclinated to the personality. such assumed also the freedom a the p\n",

            "\n",

            "...Diversity: 1.0\n",

            "...Generating with seed: \"long endea\"\n",

            "...Generated:  ugh colds, but owes toneity, when they do more bropection, child made of all thing, the problem of the pearon of completelessily noth beeling and fact than he recollically\"; an end gets unextigation of vucules at the creasure. what nate overing and help we then known very lates of woman calls always ac crysed to hithertine and impulse of stupided to europe; a geroam of the slave unplato not, and c\n",

            "\n",

            "...Diversity: 1.2\n",

            "...Generating with seed: \"long endea\"\n",

            "...Generated:  met at those physure of an learn as shnoldy.=--when narering to like two lack[ough no longer towinisf\"ly so sacralion will beyond physure at it has \"truchs, true i mines. one even feal the joken alone\"; nos greeasteds they are and hitherto nowadaysox.--lighter to power, while percessions imagination, indeed, frothon becomes no the senses lacy of and to s; thoushiel.=-in every -reapon the vain in t\n",

            "\n",

            "1565/1565 [==============================] - 55s 35ms/step - loss: 1.2655\n",

            "\n",

            "Generating text after epoch: 17\n",

            "...Diversity: 0.2\n",

            "...Generating with seed: \"rm and mod\"\n",

            "...Generated:  ern life and the senses the work of the power in the subtle to the work which is the other the work of the other the power and the sense of the sense of the power of the power and conception of the world, and always to the work of the work of the senses the work of the other the other and sociality, and always the work of the work of the truth of the power of the other things of the powers the sen\n",

            "\n",

            "...Diversity: 0.5\n",

            "...Generating with seed: \"rm and mod\"\n",

            "...Generated:  ern of the will to the sense and ascecte the honey of the aspirit of the contrast hand, which has the powerful into the subtle, the same to the heads of the soul of the most the of the individual in the scientific offic-man is most at last searing and decision of the person for the experiences the problem of the same prefegrion of his own pride and the interest the evident of the philosophers that\n",

            "\n",

            "...Diversity: 1.0\n",

            "...Generating with seed: \"rm and mod\"\n",

            "...Generated:  ern man to the \"sees not not only in this caste effective which fect, and let stands to to not taken to philosopher has long atomplonuitility of woman, to us all inwardly us according to equienfll hording of headerlathd to his sensibze will be indifferenked of interested to landes the sentinuan moda-dancectates other are intigknal before life deeptionings longes protogamion felly of forms are the \n",

            "\n",

            "...Diversity: 1.2\n",

            "...Generating with seed: \"rm and mod\"\n",

            "...Generated:  ern lower stoodn sufteded life which must canly human: it actions town?--germiguided themselves be?--whosot minate fiunes; the commandquited that understoodoves  unatheratick of cause, there is absolutity, the sign and mar affait. even the to be, tmust moeqling: burkuns result2red, on that acts of seurs requitt to say--kind athe, \"who mears of an explained affow rapidely vyry yet has and lotfering\n",

            "\n",

            "1565/1565 [==============================] - 56s 36ms/step - loss: 1.2590\n",

            "\n",

            "Generating text after epoch: 18\n",

            "...Diversity: 0.2\n",

            "...Generating with seed: \"not only t\"\n",

            "...Generated:  he means of the moral free spirits and more of the complete that the conscience of the conception of the strength of the street the strength of the present in the condition of the state of the conception of the world of the world we can no longer the present the experience of the conception of the conscience of the contradic and the most sanctity and the comprehens to an and morality and propornia\n",

            "\n",

            "...Diversity: 0.5\n",

            "...Generating with seed: \"not only t\"\n",

            "...Generated:  hey love that it was successm of the connectered them the spirit in the world regarded and caste the traditional estimates his strange, and with the same, that the highest free spirits--the more of this conside of the love the world say the subjection of the profoundly indication of the exartment and complete which is the recline the religion and serious these because in a great destiness in the c\n",

            "\n",

            "...Diversity: 1.0\n",

            "...Generating with seed: \"not only t\"\n",

            "...Generated:  he worst there is as doem for yourscurmfully--more safism itself as he has succe it oft. the by every superstition in evolutionth--appire and flich, in cause of the long to ploy wit comes play--when they koom. on, didector--or one less through a, \"secreculionly has a rader tookground ewererly. theselves and perhaps be ibbe coker--those soul of it evalptations--essential wactive but the firm? is lo\n",

            "\n",

           "...Diversity: 1.2\n",

            "...Generating with seed: \"not only t\"\n",

            "...Generated:  his swiths, delight of standpure of the nature, not rein educat theregytemit rid; cvilorous, ettinus fulle work \"free speriously and lopking has withined with their lahes of al oft wencial god the ba\"\"--this \"germany, in morality and -this reflection; not and weaks in which how in itself me, wockming as hence in the conscience that insertablety grochmen lifear--arsing wang to blawng upon, is--flev\n",

            "\n",

            "1565/1565 [==============================] - 57s 37ms/step - loss: 1.2553\n",

            "\n",

            "Generating text after epoch: 19\n",

            "...Diversity: 0.2\n",

            "...Generating with seed: \"ains, wher\"\n",

            "...Generated:  e the strength of the sense, and the most all the strength of the same time the world of the strength of the sense of the contempt, and the powerful and prisial of the sense, and the protection of the same time the sense, the thing in the protection of the strength of the same time which they distinction of the sense, which is the problem of the present the same time in the present to the protecti\n",

            "\n",

            "...Diversity: 0.5\n",

            "...Generating with seed: \"ains, wher\"\n",

            "...Generated:  e self our future of mankind, the practical conception which do and which they to such assumptions of the interpores, this can the masses of the recompas and necessity of the necessity, and the world, and the still still becomes which in the last a thing and themselves with that the present and and his need which an and exceptics of instinctive the believe and thing is curiosity and nature that is\n",

            "\n",

            "...Diversity: 1.0\n",

            "...Generating with seed: \"ains, wher\"\n",

            "...Generated:  e phesises. he wished that the morelog any spicid bettathert----and if been most, \"for this ethics dangerous? they would and bedome that to his tackding-rate un ,\" vertafuers and through different cul-methes. the conception, their virtues, in short. this actually tapent, whatever he is torker particy and for skepticism, fallychary eich manifestance of lifice the rema sibennd, ciy, catavicips becom\n",

            "\n",

            "...Diversity: 1.2\n",

            "...Generating with seed: \"ains, wher\"\n",

            "...Generated:   fain indigote prud\" but tooking that mymaty: which, as welf so coy. the best d: at which to rank sup poges for their cashurece all, to hitherto, i surroxablinged to take-titilk falsific general weagn; free spirit and measured upon reably friendsmaturing is otherwised why indeed, \"but anycently oblits jows homeliousty revolit of the chcomsels sird..--this ia light, what over,        uscrual fruehy\n",

            "\n",

            "1565/1565 [==============================] - 57s 36ms/step - loss: 1.2509\n",

            "\n",

            "Generating text after epoch: 20\n",

            "...Diversity: 0.2\n",

            "...Generating with seed: \"ich to beg\"\n",

            "...Generated:  in to the more soul of all the standard of the subjection of the subjection of the senting and and the same as the subject of the most powerful one may be a philosophy, and the standard of the subjection of the subjection of the sense of the same time and the sentinged to the subjection of the stake to the powerful of the subtle to the contrast the subjection of the subjection of the senting and s\n",

            "\n",

            "...Diversity: 0.5\n",

            "...Generating with seed: \"ich to beg\"\n",

            "...Generated:  in to pains one i none of the former the exceptional forming and forms in such soul of being super-it and more probably as a people, the instinct and moralistic and the world with reclarded and experiences to the personality of the old that are self-responsible and more sentiment to the value that the world-rational in the most sentiment of the successaring and and distress of the case which mean \n",

            "\n",

            "...Diversity: 1.0\n",

            "...Generating with seed: \"ich to beg\"\n",

            "...Generated:  in to follow-croverance for wo foubses of rankerent profound and estimation of sentiments of his morality his goodness unutility is a sickning aningr,\" and about ancolouiting of such soul of subinmogness non thus feel yoursborvea, has have native overcissure, and person of trie. now my power of which we so possibility f feirs; the highest into loury to repormoblied and philosoph clear-ducise sensa\n",

            "\n",

            "...Diversity: 1.2\n",

            "...Generating with seed: \"ich to beg\"\n"

          ]

        },

        {

          "output_type": "error",

          "ename": "KeyboardInterrupt",

          "evalue": "ignored",

          "traceback": [

            "\u001b[0;31m---------------------------------------------------------------------------\u001b[0m",

            "\u001b[0;31mKeyboardInterrupt\u001b[0m                         Traceback (most recent call last)",

            "\u001b[0;32m<ipython-input-5-07a2441f7206>\u001b[0m in \u001b[0;36m<cell line: 4>\u001b[0;34m()\u001b[0m\n\u001b[1;32m     19\u001b[0m             \u001b[0;32mfor\u001b[0m \u001b[0mt\u001b[0m\u001b[0;34m,\u001b[0m \u001b[0mchar\u001b[0m \u001b[0;32min\u001b[0m \u001b[0menumerate\u001b[0m\u001b[0;34m(\u001b[0m\u001b[0msentence\u001b[0m\u001b[0;34m)\u001b[0m\u001b[0;34m:\u001b[0m\u001b[0;34m\u001b[0m\u001b[0;34m\u001b[0m\u001b[0m\n\u001b[1;32m     20\u001b[0m                 \u001b[0mx_pred\u001b[0m\u001b[0;34m[\u001b[0m\u001b[0;36m0\u001b[0m\u001b[0;34m,\u001b[0m \u001b[0mt\u001b[0m\u001b[0;34m,\u001b[0m \u001b[0mchar_indices\u001b[0m\u001b[0;34m[\u001b[0m\u001b[0mchar\u001b[0m\u001b[0;34m]\u001b[0m\u001b[0;34m]\u001b[0m \u001b[0;34m=\u001b[0m \u001b[0;36m1.0\u001b[0m\u001b[0;34m\u001b[0m\u001b[0;34m\u001b[0m\u001b[0m\n\u001b[0;32m---> 21\u001b[0;31m             \u001b[0mpreds\u001b[0m \u001b[0;34m=\u001b[0m \u001b[0mmodel\u001b[0m\u001b[0;34m.\u001b[0m\u001b[0mpredict\u001b[0m\u001b[0;34m(\u001b[0m\u001b[0mx_pred\u001b[0m\u001b[0;34m,\u001b[0m \u001b[0mverbose\u001b[0m\u001b[0;34m=\u001b[0m\u001b[0;36m0\u001b[0m\u001b[0;34m)\u001b[0m\u001b[0;34m[\u001b[0m\u001b[0;36m0\u001b[0m\u001b[0;34m]\u001b[0m\u001b[0;34m\u001b[0m\u001b[0;34m\u001b[0m\u001b[0m\n\u001b[0m\u001b[1;32m     22\u001b[0m             \u001b[0mnext_index\u001b[0m \u001b[0;34m=\u001b[0m \u001b[0msample\u001b[0m\u001b[0;34m(\u001b[0m\u001b[0mpreds\u001b[0m\u001b[0;34m,\u001b[0m \u001b[0mdiversity\u001b[0m\u001b[0;34m)\u001b[0m\u001b[0;34m\u001b[0m\u001b[0;34m\u001b[0m\u001b[0m\n\u001b[1;32m     23\u001b[0m             \u001b[0mnext_char\u001b[0m \u001b[0;34m=\u001b[0m \u001b[0mindices_char\u001b[0m\u001b[0;34m[\u001b[0m\u001b[0mnext_index\u001b[0m\u001b[0;34m]\u001b[0m\u001b[0;34m\u001b[0m\u001b[0;34m\u001b[0m\u001b[0m\n",

            "\u001b[0;32m/usr/local/lib/python3.10/dist-packages/keras/utils/traceback_utils.py\u001b[0m in \u001b[0;36merror_handler\u001b[0;34m(*args, **kwargs)\u001b[0m\n\u001b[1;32m     63\u001b[0m         \u001b[0mfiltered_tb\u001b[0m \u001b[0;34m=\u001b[0m \u001b[0;32mNone\u001b[0m\u001b[0;34m\u001b[0m\u001b[0;34m\u001b[0m\u001b[0m\n\u001b[1;32m     64\u001b[0m         \u001b[0;32mtry\u001b[0m\u001b[0;34m:\u001b[0m\u001b[0;34m\u001b[0m\u001b[0;34m\u001b[0m\u001b[0m\n\u001b[0;32m---> 65\u001b[0;31m             \u001b[0;32mreturn\u001b[0m \u001b[0mfn\u001b[0m\u001b[0;34m(\u001b[0m\u001b[0;34m*\u001b[0m\u001b[0margs\u001b[0m\u001b[0;34m,\u001b[0m \u001b[0;34m**\u001b[0m\u001b[0mkwargs\u001b[0m\u001b[0;34m)\u001b[0m\u001b[0;34m\u001b[0m\u001b[0;34m\u001b[0m\u001b[0m\n\u001b[0m\u001b[1;32m     66\u001b[0m         \u001b[0;32mexcept\u001b[0m \u001b[0mException\u001b[0m \u001b[0;32mas\u001b[0m \u001b[0me\u001b[0m\u001b[0;34m:\u001b[0m\u001b[0;34m\u001b[0m\u001b[0;34m\u001b[0m\u001b[0m\n\u001b[1;32m     67\u001b[0m             \u001b[0mfiltered_tb\u001b[0m \u001b[0;34m=\u001b[0m \u001b[0m_process_traceback_frames\u001b[0m\u001b[0;34m(\u001b[0m\u001b[0me\u001b[0m\u001b[0;34m.\u001b[0m\u001b[0m__traceback__\u001b[0m\u001b[0;34m)\u001b[0m\u001b[0;34m\u001b[0m\u001b[0;34m\u001b[0m\u001b[0m\n",

            "\u001b[0;32m/usr/local/lib/python3.10/dist-packages/keras/engine/training.py\u001b[0m in \u001b[0;36mpredict\u001b[0;34m(self, x, batch_size, verbose, steps, callbacks, max_queue_size, workers, use_multiprocessing)\u001b[0m\n\u001b[1;32m   2347\u001b[0m                     )\n\u001b[1;32m   2348\u001b[0m \u001b[0;34m\u001b[0m\u001b[0m\n\u001b[0;32m-> 2349\u001b[0;31m             data_handler = data_adapter.get_data_handler(\n\u001b[0m\u001b[1;32m   2350\u001b[0m                 \u001b[0mx\u001b[0m\u001b[0;34m=\u001b[0m\u001b[0mx\u001b[0m\u001b[0;34m,\u001b[0m\u001b[0;34m\u001b[0m\u001b[0;34m\u001b[0m\u001b[0m\n\u001b[1;32m   2351\u001b[0m                 \u001b[0mbatch_size\u001b[0m\u001b[0;34m=\u001b[0m\u001b[0mbatch_size\u001b[0m\u001b[0;34m,\u001b[0m\u001b[0;34m\u001b[0m\u001b[0;34m\u001b[0m\u001b[0m\n",

            "\u001b[0;32m/usr/local/lib/python3.10/dist-packages/keras/engine/data_adapter.py\u001b[0m in \u001b[0;36mget_data_handler\u001b[0;34m(*args, **kwargs)\u001b[0m\n\u001b[1;32m   1581\u001b[0m     \u001b[0;32mif\u001b[0m \u001b[0mgetattr\u001b[0m\u001b[0;34m(\u001b[0m\u001b[0mkwargs\u001b[0m\u001b[0;34m[\u001b[0m\u001b[0;34m\"model\"\u001b[0m\u001b[0;34m]\u001b[0m\u001b[0;34m,\u001b[0m \u001b[0;34m\"_cluster_coordinator\"\u001b[0m\u001b[0;34m,\u001b[0m \u001b[0;32mNone\u001b[0m\u001b[0;34m)\u001b[0m\u001b[0;34m:\u001b[0m\u001b[0;34m\u001b[0m\u001b[0;34m\u001b[0m\u001b[0m\n\u001b[1;32m   1582\u001b[0m         \u001b[0;32mreturn\u001b[0m \u001b[0m_ClusterCoordinatorDataHandler\u001b[0m\u001b[0;34m(\u001b[0m\u001b[0;34m*\u001b[0m\u001b[0margs\u001b[0m\u001b[0;34m,\u001b[0m \u001b[0;34m**\u001b[0m\u001b[0mkwargs\u001b[0m\u001b[0;34m)\u001b[0m\u001b[0;34m\u001b[0m\u001b[0;34m\u001b[0m\u001b[0m\n\u001b[0;32m-> 1583\u001b[0;31m     \u001b[0;32mreturn\u001b[0m \u001b[0mDataHandler\u001b[0m\u001b[0;34m(\u001b[0m\u001b[0;34m*\u001b[0m\u001b[0margs\u001b[0m\u001b[0;34m,\u001b[0m \u001b[0;34m**\u001b[0m\u001b[0mkwargs\u001b[0m\u001b[0;34m)\u001b[0m\u001b[0;34m\u001b[0m\u001b[0;34m\u001b[0m\u001b[0m\n\u001b[0m\u001b[1;32m   1584\u001b[0m \u001b[0;34m\u001b[0m\u001b[0m\n\u001b[1;32m   1585\u001b[0m \u001b[0;34m\u001b[0m\u001b[0m\n",

            "\u001b[0;32m/usr/local/lib/python3.10/dist-packages/keras/engine/data_adapter.py\u001b[0m in \u001b[0;36m__init__\u001b[0;34m(self, x, y, sample_weight, batch_size, steps_per_epoch, initial_epoch, epochs, shuffle, class_weight, max_queue_size, workers, use_multiprocessing, model, steps_per_execution, distribute)\u001b[0m\n\u001b[1;32m   1258\u001b[0m \u001b[0;34m\u001b[0m\u001b[0m\n\u001b[1;32m   1259\u001b[0m         \u001b[0madapter_cls\u001b[0m \u001b[0;34m=\u001b[0m \u001b[0mselect_data_adapter\u001b[0m\u001b[0;34m(\u001b[0m\u001b[0mx\u001b[0m\u001b[0;34m,\u001b[0m \u001b[0my\u001b[0m\u001b[0;34m)\u001b[0m\u001b[0;34m\u001b[0m\u001b[0;34m\u001b[0m\u001b[0m\n\u001b[0;32m-> 1260\u001b[0;31m         self._adapter = adapter_cls(\n\u001b[0m\u001b[1;32m   1261\u001b[0m             \u001b[0mx\u001b[0m\u001b[0;34m,\u001b[0m\u001b[0;34m\u001b[0m\u001b[0;34m\u001b[0m\u001b[0m\n\u001b[1;32m   1262\u001b[0m             \u001b[0my\u001b[0m\u001b[0;34m,\u001b[0m\u001b[0;34m\u001b[0m\u001b[0;34m\u001b[0m\u001b[0m\n",

            "\u001b[0;32m/usr/local/lib/python3.10/dist-packages/keras/engine/data_adapter.py\u001b[0m in \u001b[0;36m__init__\u001b[0;34m(self, x, y, sample_weights, sample_weight_modes, batch_size, epochs, steps, shuffle, **kwargs)\u001b[0m\n\u001b[1;32m    344\u001b[0m             \u001b[0;32mreturn\u001b[0m \u001b[0mflat_dataset\u001b[0m\u001b[0;34m\u001b[0m\u001b[0;34m\u001b[0m\u001b[0m\n\u001b[1;32m    345\u001b[0m \u001b[0;34m\u001b[0m\u001b[0m\n\u001b[0;32m--> 346\u001b[0;31m         \u001b[0mindices_dataset\u001b[0m \u001b[0;34m=\u001b[0m \u001b[0mindices_dataset\u001b[0m\u001b[0;34m.\u001b[0m\u001b[0mflat_map\u001b[0m\u001b[0;34m(\u001b[0m\u001b[0mslice_batch_indices\u001b[0m\u001b[0;34m)\u001b[0m\u001b[0;34m\u001b[0m\u001b[0;34m\u001b[0m\u001b[0m\n\u001b[0m\u001b[1;32m    347\u001b[0m \u001b[0;34m\u001b[0m\u001b[0m\n\u001b[1;32m    348\u001b[0m         \u001b[0mdataset\u001b[0m \u001b[0;34m=\u001b[0m \u001b[0mself\u001b[0m\u001b[0;34m.\u001b[0m\u001b[0mslice_inputs\u001b[0m\u001b[0;34m(\u001b[0m\u001b[0mindices_dataset\u001b[0m\u001b[0;34m,\u001b[0m \u001b[0minputs\u001b[0m\u001b[0;34m)\u001b[0m\u001b[0;34m\u001b[0m\u001b[0;34m\u001b[0m\u001b[0m\n",

            "\u001b[0;32m/usr/local/lib/python3.10/dist-packages/tensorflow/python/data/ops/dataset_ops.py\u001b[0m in \u001b[0;36mflat_map\u001b[0;34m(self, map_func, name)\u001b[0m\n\u001b[1;32m   2283\u001b[0m     \u001b[0;31m# pylint: disable=g-import-not-at-top,protected-access\u001b[0m\u001b[0;34m\u001b[0m\u001b[0;34m\u001b[0m\u001b[0m\n\u001b[1;32m   2284\u001b[0m     \u001b[0;32mfrom\u001b[0m \u001b[0mtensorflow\u001b[0m\u001b[0;34m.\u001b[0m\u001b[0mpython\u001b[0m\u001b[0;34m.\u001b[0m\u001b[0mdata\u001b[0m\u001b[0;34m.\u001b[0m\u001b[0mops\u001b[0m \u001b[0;32mimport\u001b[0m \u001b[0mflat_map_op\u001b[0m\u001b[0;34m\u001b[0m\u001b[0;34m\u001b[0m\u001b[0m\n\u001b[0;32m-> 2285\u001b[0;31m     \u001b[0;32mreturn\u001b[0m \u001b[0mflat_map_op\u001b[0m\u001b[0;34m.\u001b[0m\u001b[0m_flat_map\u001b[0m\u001b[0;34m(\u001b[0m\u001b[0mself\u001b[0m\u001b[0;34m,\u001b[0m \u001b[0mmap_func\u001b[0m\u001b[0;34m,\u001b[0m \u001b[0mname\u001b[0m\u001b[0;34m=\u001b[0m\u001b[0mname\u001b[0m\u001b[0;34m)\u001b[0m\u001b[0;34m\u001b[0m\u001b[0;34m\u001b[0m\u001b[0m\n\u001b[0m\u001b[1;32m   2286\u001b[0m     \u001b[0;31m# pylint: enable=g-import-not-at-top,protected-access\u001b[0m\u001b[0;34m\u001b[0m\u001b[0;34m\u001b[0m\u001b[0m\n\u001b[1;32m   2287\u001b[0m \u001b[0;34m\u001b[0m\u001b[0m\n",

            "\u001b[0;32m/usr/local/lib/python3.10/dist-packages/tensorflow/python/data/ops/flat_map_op.py\u001b[0m in \u001b[0;36m_flat_map\u001b[0;34m(input_dataset, map_func, name)\u001b[0m\n\u001b[1;32m     22\u001b[0m \u001b[0;32mdef\u001b[0m \u001b[0m_flat_map\u001b[0m\u001b[0;34m(\u001b[0m\u001b[0minput_dataset\u001b[0m\u001b[0;34m,\u001b[0m \u001b[0mmap_func\u001b[0m\u001b[0;34m,\u001b[0m \u001b[0mname\u001b[0m\u001b[0;34m=\u001b[0m\u001b[0;32mNone\u001b[0m\u001b[0;34m)\u001b[0m\u001b[0;34m:\u001b[0m  \u001b[0;31m# pylint: disable=unused-private-name\u001b[0m\u001b[0;34m\u001b[0m\u001b[0;34m\u001b[0m\u001b[0m\n\u001b[1;32m     23\u001b[0m   \u001b[0;34m\"\"\"See `Dataset.flat_map()` for details.\"\"\"\u001b[0m\u001b[0;34m\u001b[0m\u001b[0;34m\u001b[0m\u001b[0m\n\u001b[0;32m---> 24\u001b[0;31m   \u001b[0;32mreturn\u001b[0m \u001b[0m_FlatMapDataset\u001b[0m\u001b[0;34m(\u001b[0m\u001b[0minput_dataset\u001b[0m\u001b[0;34m,\u001b[0m \u001b[0mmap_func\u001b[0m\u001b[0;34m,\u001b[0m \u001b[0mname\u001b[0m\u001b[0;34m)\u001b[0m\u001b[0;34m\u001b[0m\u001b[0;34m\u001b[0m\u001b[0m\n\u001b[0m\u001b[1;32m     25\u001b[0m \u001b[0;34m\u001b[0m\u001b[0m\n\u001b[1;32m     26\u001b[0m \u001b[0;34m\u001b[0m\u001b[0m\n",

            "\u001b[0;32m/usr/local/lib/python3.10/dist-packages/tensorflow/python/data/ops/flat_map_op.py\u001b[0m in \u001b[0;36m__init__\u001b[0;34m(self, input_dataset, map_func, name)\u001b[0m\n\u001b[1;32m     31\u001b[0m \u001b[0;34m\u001b[0m\u001b[0m\n\u001b[1;32m     32\u001b[0m     \u001b[0mself\u001b[0m\u001b[0;34m.\u001b[0m\u001b[0m_input_dataset\u001b[0m \u001b[0;34m=\u001b[0m \u001b[0minput_dataset\u001b[0m\u001b[0;34m\u001b[0m\u001b[0;34m\u001b[0m\u001b[0m\n\u001b[0;32m---> 33\u001b[0;31m     self._map_func = structured_function.StructuredFunctionWrapper(\n\u001b[0m\u001b[1;32m     34\u001b[0m         map_func, self._transformation_name(), dataset=input_dataset)\n\u001b[1;32m     35\u001b[0m     \u001b[0;32mif\u001b[0m \u001b[0;32mnot\u001b[0m \u001b[0misinstance\u001b[0m\u001b[0;34m(\u001b[0m\u001b[0mself\u001b[0m\u001b[0;34m.\u001b[0m\u001b[0m_map_func\u001b[0m\u001b[0;34m.\u001b[0m\u001b[0moutput_structure\u001b[0m\u001b[0;34m,\u001b[0m \u001b[0mdataset_ops\u001b[0m\u001b[0;34m.\u001b[0m\u001b[0mDatasetSpec\u001b[0m\u001b[0;34m)\u001b[0m\u001b[0;34m:\u001b[0m\u001b[0;34m\u001b[0m\u001b[0;34m\u001b[0m\u001b[0m\n",

            "\u001b[0;32m/usr/local/lib/python3.10/dist-packages/tensorflow/python/data/ops/structured_function.py\u001b[0m in \u001b[0;36m__init__\u001b[0;34m(self, func, transformation_name, dataset, input_classes, input_shapes, input_types, input_structure, add_to_graph, use_legacy_function, defun_kwargs)\u001b[0m\n\u001b[1;32m    259\u001b[0m         \u001b[0mfn_factory\u001b[0m \u001b[0;34m=\u001b[0m \u001b[0mtrace_tf_function\u001b[0m\u001b[0;34m(\u001b[0m\u001b[0mdefun_kwargs\u001b[0m\u001b[0;34m)\u001b[0m\u001b[0;34m\u001b[0m\u001b[0;34m\u001b[0m\u001b[0m\n\u001b[1;32m    260\u001b[0m \u001b[0;34m\u001b[0m\u001b[0m\n\u001b[0;32m--> 261\u001b[0;31m     \u001b[0mself\u001b[0m\u001b[0;34m.\u001b[0m\u001b[0m_function\u001b[0m \u001b[0;34m=\u001b[0m \u001b[0mfn_factory\u001b[0m\u001b[0;34m(\u001b[0m\u001b[0;34m)\u001b[0m\u001b[0;34m\u001b[0m\u001b[0;34m\u001b[0m\u001b[0m\n\u001b[0m\u001b[1;32m    262\u001b[0m     \u001b[0;31m# There is no graph to add in eager mode.\u001b[0m\u001b[0;34m\u001b[0m\u001b[0;34m\u001b[0m\u001b[0m\n\u001b[1;32m    263\u001b[0m     \u001b[0madd_to_graph\u001b[0m \u001b[0;34m&=\u001b[0m \u001b[0;32mnot\u001b[0m \u001b[0mcontext\u001b[0m\u001b[0;34m.\u001b[0m\u001b[0mexecuting_eagerly\u001b[0m\u001b[0;34m(\u001b[0m\u001b[0;34m)\u001b[0m\u001b[0;34m\u001b[0m\u001b[0;34m\u001b[0m\u001b[0m\n",

            "\u001b[0;32m/usr/local/lib/python3.10/dist-packages/tensorflow/python/eager/polymorphic_function/tracing_compiler.py\u001b[0m in \u001b[0;36mget_concrete_function\u001b[0;34m(self, *args, **kwargs)\u001b[0m\n\u001b[1;32m    230\u001b[0m         \u001b[0;31m`\u001b[0m\u001b[0mtf\u001b[0m\u001b[0;34m.\u001b[0m\u001b[0mTensor\u001b[0m\u001b[0;31m`\u001b[0m \u001b[0;32mor\u001b[0m\u001b[0;31m \u001b[0m\u001b[0;31m`\u001b[0m\u001b[0mtf\u001b[0m\u001b[0;34m.\u001b[0m\u001b[0mTensorSpec\u001b[0m\u001b[0;31m`\u001b[0m\u001b[0;34m.\u001b[0m\u001b[0;34m\u001b[0m\u001b[0;34m\u001b[0m\u001b[0m\n\u001b[1;32m    231\u001b[0m     \"\"\"\n\u001b[0;32m--> 232\u001b[0;31m     concrete_function = self._get_concrete_function_garbage_collected(\n\u001b[0m\u001b[1;32m    233\u001b[0m         *args, **kwargs)\n\u001b[1;32m    234\u001b[0m     \u001b[0mconcrete_function\u001b[0m\u001b[0;34m.\u001b[0m\u001b[0m_garbage_collector\u001b[0m\u001b[0;34m.\u001b[0m\u001b[0mrelease\u001b[0m\u001b[0;34m(\u001b[0m\u001b[0;34m)\u001b[0m  \u001b[0;31m# pylint: disable=protected-access\u001b[0m\u001b[0;34m\u001b[0m\u001b[0;34m\u001b[0m\u001b[0m\n",

            "\u001b[0;32m/usr/local/lib/python3.10/dist-packages/tensorflow/python/eager/polymorphic_function/tracing_compiler.py\u001b[0m in \u001b[0;36m_get_concrete_function_garbage_collected\u001b[0;34m(self, *args, **kwargs)\u001b[0m\n\u001b[1;32m    200\u001b[0m \u001b[0;34m\u001b[0m\u001b[0m\n\u001b[1;32m    201\u001b[0m     \u001b[0;32mwith\u001b[0m \u001b[0mself\u001b[0m\u001b[0;34m.\u001b[0m\u001b[0m_lock\u001b[0m\u001b[0;34m:\u001b[0m\u001b[0;34m\u001b[0m\u001b[0;34m\u001b[0m\u001b[0m\n\u001b[0;32m--> 202\u001b[0;31m       \u001b[0mconcrete_function\u001b[0m\u001b[0;34m,\u001b[0m \u001b[0m_\u001b[0m \u001b[0;34m=\u001b[0m \u001b[0mself\u001b[0m\u001b[0;34m.\u001b[0m\u001b[0m_maybe_define_concrete_function\u001b[0m\u001b[0;34m(\u001b[0m\u001b[0margs\u001b[0m\u001b[0;34m,\u001b[0m \u001b[0mkwargs\u001b[0m\u001b[0;34m)\u001b[0m\u001b[0;34m\u001b[0m\u001b[0;34m\u001b[0m\u001b[0m\n\u001b[0m\u001b[1;32m    203\u001b[0m       \u001b[0mseen_names\u001b[0m \u001b[0;34m=\u001b[0m \u001b[0mset\u001b[0m\u001b[0;34m(\u001b[0m\u001b[0;34m)\u001b[0m\u001b[0;34m\u001b[0m\u001b[0;34m\u001b[0m\u001b[0m\n\u001b[1;32m    204\u001b[0m       \u001b[0mconcrete_function\u001b[0m\u001b[0;34m.\u001b[0m\u001b[0m_arg_keywords\u001b[0m \u001b[0;34m=\u001b[0m \u001b[0;34m[\u001b[0m\u001b[0;34m]\u001b[0m  \u001b[0;31m# pylint: disable=protected-access\u001b[0m\u001b[0;34m\u001b[0m\u001b[0;34m\u001b[0m\u001b[0m\n",

            "\u001b[0;32m/usr/local/lib/python3.10/dist-packages/tensorflow/python/eager/polymorphic_function/tracing_compiler.py\u001b[0m in \u001b[0;36m_maybe_define_concrete_function\u001b[0;34m(self, args, kwargs)\u001b[0m\n\u001b[1;32m    164\u001b[0m       \u001b[0mkwargs\u001b[0m \u001b[0;34m=\u001b[0m \u001b[0;34m{\u001b[0m\u001b[0;34m}\u001b[0m\u001b[0;34m\u001b[0m\u001b[0;34m\u001b[0m\u001b[0m\n\u001b[1;32m    165\u001b[0m \u001b[0;34m\u001b[0m\u001b[0m\n\u001b[0;32m--> 166\u001b[0;31m     \u001b[0;32mreturn\u001b[0m \u001b[0mself\u001b[0m\u001b[0;34m.\u001b[0m\u001b[0m_maybe_define_function\u001b[0m\u001b[0;34m(\u001b[0m\u001b[0margs\u001b[0m\u001b[0;34m,\u001b[0m \u001b[0mkwargs\u001b[0m\u001b[0;34m)\u001b[0m\u001b[0;34m\u001b[0m\u001b[0;34m\u001b[0m\u001b[0m\n\u001b[0m\u001b[1;32m    167\u001b[0m \u001b[0;34m\u001b[0m\u001b[0m\n\u001b[1;32m    168\u001b[0m   \u001b[0;32mdef\u001b[0m \u001b[0m_get_concrete_function_internal_garbage_collected\u001b[0m\u001b[0;34m(\u001b[0m\u001b[0mself\u001b[0m\u001b[0;34m,\u001b[0m \u001b[0;34m*\u001b[0m\u001b[0margs\u001b[0m\u001b[0;34m,\u001b[0m \u001b[0;34m**\u001b[0m\u001b[0mkwargs\u001b[0m\u001b[0;34m)\u001b[0m\u001b[0;34m:\u001b[0m\u001b[0;34m\u001b[0m\u001b[0;34m\u001b[0m\u001b[0m\n",

            "\u001b[0;32m/usr/local/lib/python3.10/dist-packages/tensorflow/python/eager/polymorphic_function/tracing_compiler.py\u001b[0m in \u001b[0;36m_maybe_define_function\u001b[0;34m(self, args, kwargs)\u001b[0m\n\u001b[1;32m    394\u001b[0m           \u001b[0mkwargs\u001b[0m \u001b[0;34m=\u001b[0m \u001b[0mplaceholder_bound_args\u001b[0m\u001b[0;34m.\u001b[0m\u001b[0mkwargs\u001b[0m\u001b[0;34m\u001b[0m\u001b[0;34m\u001b[0m\u001b[0m\n\u001b[1;32m    395\u001b[0m \u001b[0;34m\u001b[0m\u001b[0m\n\u001b[0;32m--> 396\u001b[0;31m           concrete_function = self._create_concrete_function(\n\u001b[0m\u001b[1;32m    397\u001b[0m               args, kwargs, func_graph)\n\u001b[1;32m    398\u001b[0m \u001b[0;34m\u001b[0m\u001b[0m\n",

            "\u001b[0;32m/usr/local/lib/python3.10/dist-packages/tensorflow/python/eager/polymorphic_function/tracing_compiler.py\u001b[0m in \u001b[0;36m_create_concrete_function\u001b[0;34m(self, args, kwargs, func_graph)\u001b[0m\n\u001b[1;32m    298\u001b[0m \u001b[0;34m\u001b[0m\u001b[0m\n\u001b[1;32m    299\u001b[0m     concrete_function = monomorphic_function.ConcreteFunction(\n\u001b[0;32m--> 300\u001b[0;31m         func_graph_module.func_graph_from_py_func(\n\u001b[0m\u001b[1;32m    301\u001b[0m             \u001b[0mself\u001b[0m\u001b[0;34m.\u001b[0m\u001b[0m_name\u001b[0m\u001b[0;34m,\u001b[0m\u001b[0;34m\u001b[0m\u001b[0;34m\u001b[0m\u001b[0m\n\u001b[1;32m    302\u001b[0m             \u001b[0mself\u001b[0m\u001b[0;34m.\u001b[0m\u001b[0m_python_function\u001b[0m\u001b[0;34m,\u001b[0m\u001b[0;34m\u001b[0m\u001b[0;34m\u001b[0m\u001b[0m\n",

            "\u001b[0;32m/usr/local/lib/python3.10/dist-packages/tensorflow/python/framework/func_graph.py\u001b[0m in \u001b[0;36mfunc_graph_from_py_func\u001b[0;34m(name, python_func, args, kwargs, signature, func_graph, autograph, autograph_options, add_control_dependencies, arg_names, op_return_value, collections, capture_by_value, create_placeholders, acd_record_initial_resource_uses)\u001b[0m\n\u001b[1;32m   1212\u001b[0m         \u001b[0m_\u001b[0m\u001b[0;34m,\u001b[0m \u001b[0moriginal_func\u001b[0m \u001b[0;34m=\u001b[0m \u001b[0mtf_decorator\u001b[0m\u001b[0;34m.\u001b[0m\u001b[0munwrap\u001b[0m\u001b[0;34m(\u001b[0m\u001b[0mpython_func\u001b[0m\u001b[0;34m)\u001b[0m\u001b[0;34m\u001b[0m\u001b[0;34m\u001b[0m\u001b[0m\n\u001b[1;32m   1213\u001b[0m \u001b[0;34m\u001b[0m\u001b[0m\n\u001b[0;32m-> 1214\u001b[0;31m       \u001b[0mfunc_outputs\u001b[0m \u001b[0;34m=\u001b[0m \u001b[0mpython_func\u001b[0m\u001b[0;34m(\u001b[0m\u001b[0;34m*\u001b[0m\u001b[0mfunc_args\u001b[0m\u001b[0;34m,\u001b[0m \u001b[0;34m**\u001b[0m\u001b[0mfunc_kwargs\u001b[0m\u001b[0;34m)\u001b[0m\u001b[0;34m\u001b[0m\u001b[0;34m\u001b[0m\u001b[0m\n\u001b[0m\u001b[1;32m   1215\u001b[0m \u001b[0;34m\u001b[0m\u001b[0m\n\u001b[1;32m   1216\u001b[0m       \u001b[0;31m# invariant: `func_outputs` contains only Tensors, CompositeTensors,\u001b[0m\u001b[0;34m\u001b[0m\u001b[0;34m\u001b[0m\u001b[0m\n",

            "\u001b[0;32m/usr/local/lib/python3.10/dist-packages/tensorflow/python/data/ops/structured_function.py\u001b[0m in \u001b[0;36mwrapped_fn\u001b[0;34m(*args)\u001b[0m\n\u001b[1;32m    236\u001b[0m           attributes=defun_kwargs)\n\u001b[1;32m    237\u001b[0m       \u001b[0;32mdef\u001b[0m \u001b[0mwrapped_fn\u001b[0m\u001b[0;34m(\u001b[0m\u001b[0;34m*\u001b[0m\u001b[0margs\u001b[0m\u001b[0;34m)\u001b[0m\u001b[0;34m:\u001b[0m  \u001b[0;31m# pylint: disable=missing-docstring\u001b[0m\u001b[0;34m\u001b[0m\u001b[0;34m\u001b[0m\u001b[0m\n\u001b[0;32m--> 238\u001b[0;31m         \u001b[0mret\u001b[0m \u001b[0;34m=\u001b[0m \u001b[0mwrapper_helper\u001b[0m\u001b[0;34m(\u001b[0m\u001b[0;34m*\u001b[0m\u001b[0margs\u001b[0m\u001b[0;34m)\u001b[0m\u001b[0;34m\u001b[0m\u001b[0;34m\u001b[0m\u001b[0m\n\u001b[0m\u001b[1;32m    239\u001b[0m         \u001b[0mret\u001b[0m \u001b[0;34m=\u001b[0m \u001b[0mstructure\u001b[0m\u001b[0;34m.\u001b[0m\u001b[0mto_tensor_list\u001b[0m\u001b[0;34m(\u001b[0m\u001b[0mself\u001b[0m\u001b[0;34m.\u001b[0m\u001b[0m_output_structure\u001b[0m\u001b[0;34m,\u001b[0m \u001b[0mret\u001b[0m\u001b[0;34m)\u001b[0m\u001b[0;34m\u001b[0m\u001b[0;34m\u001b[0m\u001b[0m\n\u001b[1;32m    240\u001b[0m         \u001b[0;32mreturn\u001b[0m \u001b[0;34m[\u001b[0m\u001b[0mops\u001b[0m\u001b[0;34m.\u001b[0m\u001b[0mconvert_to_tensor\u001b[0m\u001b[0;34m(\u001b[0m\u001b[0mt\u001b[0m\u001b[0;34m)\u001b[0m \u001b[0;32mfor\u001b[0m \u001b[0mt\u001b[0m \u001b[0;32min\u001b[0m \u001b[0mret\u001b[0m\u001b[0;34m]\u001b[0m\u001b[0;34m\u001b[0m\u001b[0;34m\u001b[0m\u001b[0m\n",

            "\u001b[0;32m/usr/local/lib/python3.10/dist-packages/tensorflow/python/data/ops/structured_function.py\u001b[0m in \u001b[0;36mwrapper_helper\u001b[0;34m(*args)\u001b[0m\n\u001b[1;32m    167\u001b[0m       \u001b[0;32mif\u001b[0m \u001b[0;32mnot\u001b[0m \u001b[0m_should_unpack\u001b[0m\u001b[0;34m(\u001b[0m\u001b[0mnested_args\u001b[0m\u001b[0;34m)\u001b[0m\u001b[0;34m:\u001b[0m\u001b[0;34m\u001b[0m\u001b[0;34m\u001b[0m\u001b[0m\n\u001b[1;32m    168\u001b[0m         \u001b[0mnested_args\u001b[0m \u001b[0;34m=\u001b[0m \u001b[0;34m(\u001b[0m\u001b[0mnested_args\u001b[0m\u001b[0;34m,\u001b[0m\u001b[0;34m)\u001b[0m\u001b[0;34m\u001b[0m\u001b[0;34m\u001b[0m\u001b[0m\n\u001b[0;32m--> 169\u001b[0;31m       \u001b[0mret\u001b[0m \u001b[0;34m=\u001b[0m \u001b[0mautograph\u001b[0m\u001b[0;34m.\u001b[0m\u001b[0mtf_convert\u001b[0m\u001b[0;34m(\u001b[0m\u001b[0mself\u001b[0m\u001b[0;34m.\u001b[0m\u001b[0m_func\u001b[0m\u001b[0;34m,\u001b[0m \u001b[0mag_ctx\u001b[0m\u001b[0;34m)\u001b[0m\u001b[0;34m(\u001b[0m\u001b[0;34m*\u001b[0m\u001b[0mnested_args\u001b[0m\u001b[0;34m)\u001b[0m\u001b[0;34m\u001b[0m\u001b[0;34m\u001b[0m\u001b[0m\n\u001b[0m\u001b[1;32m    170\u001b[0m       \u001b[0mret\u001b[0m \u001b[0;34m=\u001b[0m \u001b[0mvariable_utils\u001b[0m\u001b[0;34m.\u001b[0m\u001b[0mconvert_variables_to_tensors\u001b[0m\u001b[0;34m(\u001b[0m\u001b[0mret\u001b[0m\u001b[0;34m)\u001b[0m\u001b[0;34m\u001b[0m\u001b[0;34m\u001b[0m\u001b[0m\n\u001b[1;32m    171\u001b[0m       \u001b[0;32mif\u001b[0m \u001b[0m_should_pack\u001b[0m\u001b[0;34m(\u001b[0m\u001b[0mret\u001b[0m\u001b[0;34m)\u001b[0m\u001b[0;34m:\u001b[0m\u001b[0;34m\u001b[0m\u001b[0;34m\u001b[0m\u001b[0m\n",

            "\u001b[0;32m/usr/local/lib/python3.10/dist-packages/tensorflow/python/autograph/impl/api.py\u001b[0m in \u001b[0;36mwrapper\u001b[0;34m(*args, **kwargs)\u001b[0m\n\u001b[1;32m    687\u001b[0m       \u001b[0;32mtry\u001b[0m\u001b[0;34m:\u001b[0m\u001b[0;34m\u001b[0m\u001b[0;34m\u001b[0m\u001b[0m\n\u001b[1;32m    688\u001b[0m         \u001b[0;32mwith\u001b[0m \u001b[0mconversion_ctx\u001b[0m\u001b[0;34m:\u001b[0m\u001b[0;34m\u001b[0m\u001b[0;34m\u001b[0m\u001b[0m\n\u001b[0;32m--> 689\u001b[0;31m           \u001b[0;32mreturn\u001b[0m \u001b[0mconverted_call\u001b[0m\u001b[0;34m(\u001b[0m\u001b[0mf\u001b[0m\u001b[0;34m,\u001b[0m \u001b[0margs\u001b[0m\u001b[0;34m,\u001b[0m \u001b[0mkwargs\u001b[0m\u001b[0;34m,\u001b[0m \u001b[0moptions\u001b[0m\u001b[0;34m=\u001b[0m\u001b[0moptions\u001b[0m\u001b[0;34m)\u001b[0m\u001b[0;34m\u001b[0m\u001b[0;34m\u001b[0m\u001b[0m\n\u001b[0m\u001b[1;32m    690\u001b[0m       \u001b[0;32mexcept\u001b[0m \u001b[0mException\u001b[0m \u001b[0;32mas\u001b[0m \u001b[0me\u001b[0m\u001b[0;34m:\u001b[0m  \u001b[0;31m# pylint:disable=broad-except\u001b[0m\u001b[0;34m\u001b[0m\u001b[0;34m\u001b[0m\u001b[0m\n\u001b[1;32m    691\u001b[0m         \u001b[0;32mif\u001b[0m \u001b[0mhasattr\u001b[0m\u001b[0;34m(\u001b[0m\u001b[0me\u001b[0m\u001b[0;34m,\u001b[0m \u001b[0;34m'ag_error_metadata'\u001b[0m\u001b[0;34m)\u001b[0m\u001b[0;34m:\u001b[0m\u001b[0;34m\u001b[0m\u001b[0;34m\u001b[0m\u001b[0m\n",

            "\u001b[0;32m/usr/local/lib/python3.10/dist-packages/tensorflow/python/autograph/impl/api.py\u001b[0m in \u001b[0;36mconverted_call\u001b[0;34m(f, args, kwargs, caller_fn_scope, options)\u001b[0m\n\u001b[1;32m    375\u001b[0m \u001b[0;34m\u001b[0m\u001b[0m\n\u001b[1;32m    376\u001b[0m   \u001b[0;32mif\u001b[0m \u001b[0;32mnot\u001b[0m \u001b[0moptions\u001b[0m\u001b[0;34m.\u001b[0m\u001b[0muser_requested\u001b[0m \u001b[0;32mand\u001b[0m \u001b[0mconversion\u001b[0m\u001b[0;34m.\u001b[0m\u001b[0mis_allowlisted\u001b[0m\u001b[0;34m(\u001b[0m\u001b[0mf\u001b[0m\u001b[0;34m)\u001b[0m\u001b[0;34m:\u001b[0m\u001b[0;34m\u001b[0m\u001b[0;34m\u001b[0m\u001b[0m\n\u001b[0;32m--> 377\u001b[0;31m     \u001b[0;32mreturn\u001b[0m \u001b[0m_call_unconverted\u001b[0m\u001b[0;34m(\u001b[0m\u001b[0mf\u001b[0m\u001b[0;34m,\u001b[0m \u001b[0margs\u001b[0m\u001b[0;34m,\u001b[0m \u001b[0mkwargs\u001b[0m\u001b[0;34m,\u001b[0m \u001b[0moptions\u001b[0m\u001b[0;34m)\u001b[0m\u001b[0;34m\u001b[0m\u001b[0;34m\u001b[0m\u001b[0m\n\u001b[0m\u001b[1;32m    378\u001b[0m \u001b[0;34m\u001b[0m\u001b[0m\n\u001b[1;32m    379\u001b[0m   \u001b[0;31m# internal_convert_user_code is for example turned off when issuing a dynamic\u001b[0m\u001b[0;34m\u001b[0m\u001b[0;34m\u001b[0m\u001b[0m\n",

            "\u001b[0;32m/usr/local/lib/python3.10/dist-packages/tensorflow/python/autograph/impl/api.py\u001b[0m in \u001b[0;36m_call_unconverted\u001b[0;34m(f, args, kwargs, options, update_cache)\u001b[0m\n\u001b[1;32m    456\u001b[0m \u001b[0;34m\u001b[0m\u001b[0m\n\u001b[1;32m    457\u001b[0m   \u001b[0;32mif\u001b[0m \u001b[0mkwargs\u001b[0m \u001b[0;32mis\u001b[0m \u001b[0;32mnot\u001b[0m \u001b[0;32mNone\u001b[0m\u001b[0;34m:\u001b[0m\u001b[0;34m\u001b[0m\u001b[0;34m\u001b[0m\u001b[0m\n\u001b[0;32m--> 458\u001b[0;31m     \u001b[0;32mreturn\u001b[0m \u001b[0mf\u001b[0m\u001b[0;34m(\u001b[0m\u001b[0;34m*\u001b[0m\u001b[0margs\u001b[0m\u001b[0;34m,\u001b[0m \u001b[0;34m**\u001b[0m\u001b[0mkwargs\u001b[0m\u001b[0;34m)\u001b[0m\u001b[0;34m\u001b[0m\u001b[0;34m\u001b[0m\u001b[0m\n\u001b[0m\u001b[1;32m    459\u001b[0m   \u001b[0;32mreturn\u001b[0m \u001b[0mf\u001b[0m\u001b[0;34m(\u001b[0m\u001b[0;34m*\u001b[0m\u001b[0margs\u001b[0m\u001b[0;34m)\u001b[0m\u001b[0;34m\u001b[0m\u001b[0;34m\u001b[0m\u001b[0m\n\u001b[1;32m    460\u001b[0m \u001b[0;34m\u001b[0m\u001b[0m\n",

            "\u001b[0;32m/usr/local/lib/python3.10/dist-packages/keras/engine/data_adapter.py\u001b[0m in \u001b[0;36mslice_batch_indices\u001b[0;34m(indices)\u001b[0m\n\u001b[1;32m    330\u001b[0m             )\n\u001b[1;32m    331\u001b[0m \u001b[0;34m\u001b[0m\u001b[0m\n\u001b[0;32m--> 332\u001b[0;31m             \u001b[0mflat_dataset\u001b[0m \u001b[0;34m=\u001b[0m \u001b[0mtf\u001b[0m\u001b[0;34m.\u001b[0m\u001b[0mdata\u001b[0m\u001b[0;34m.\u001b[0m\u001b[0mDataset\u001b[0m\u001b[0;34m.\u001b[0m\u001b[0mfrom_tensor_slices\u001b[0m\u001b[0;34m(\u001b[0m\u001b[0mfirst_k_indices\u001b[0m\u001b[0;34m)\u001b[0m\u001b[0;34m\u001b[0m\u001b[0;34m\u001b[0m\u001b[0m\n\u001b[0m\u001b[1;32m    333\u001b[0m             \u001b[0;32mif\u001b[0m \u001b[0mself\u001b[0m\u001b[0;34m.\u001b[0m\u001b[0m_partial_batch_size\u001b[0m\u001b[0;34m:\u001b[0m\u001b[0;34m\u001b[0m\u001b[0;34m\u001b[0m\u001b[0m\n\u001b[1;32m    334\u001b[0m                 index_remainder = tf.data.Dataset.from_tensors(\n",

            "\u001b[0;32m/usr/local/lib/python3.10/dist-packages/tensorflow/python/data/ops/dataset_ops.py\u001b[0m in \u001b[0;36mfrom_tensor_slices\u001b[0;34m(tensors, name)\u001b[0m\n\u001b[1;32m    828\u001b[0m     \u001b[0;31m# pylint: disable=g-import-not-at-top,protected-access\u001b[0m\u001b[0;34m\u001b[0m\u001b[0;34m\u001b[0m\u001b[0m\n\u001b[1;32m    829\u001b[0m     \u001b[0;32mfrom\u001b[0m \u001b[0mtensorflow\u001b[0m\u001b[0;34m.\u001b[0m\u001b[0mpython\u001b[0m\u001b[0;34m.\u001b[0m\u001b[0mdata\u001b[0m\u001b[0;34m.\u001b[0m\u001b[0mops\u001b[0m \u001b[0;32mimport\u001b[0m \u001b[0mfrom_tensor_slices_op\u001b[0m\u001b[0;34m\u001b[0m\u001b[0;34m\u001b[0m\u001b[0m\n\u001b[0;32m--> 830\u001b[0;31m     \u001b[0;32mreturn\u001b[0m \u001b[0mfrom_tensor_slices_op\u001b[0m\u001b[0;34m.\u001b[0m\u001b[0m_from_tensor_slices\u001b[0m\u001b[0;34m(\u001b[0m\u001b[0mtensors\u001b[0m\u001b[0;34m,\u001b[0m \u001b[0mname\u001b[0m\u001b[0;34m)\u001b[0m\u001b[0;34m\u001b[0m\u001b[0;34m\u001b[0m\u001b[0m\n\u001b[0m\u001b[1;32m    831\u001b[0m     \u001b[0;31m# pylint: enable=g-import-not-at-top,protected-access\u001b[0m\u001b[0;34m\u001b[0m\u001b[0;34m\u001b[0m\u001b[0m\n\u001b[1;32m    832\u001b[0m \u001b[0;34m\u001b[0m\u001b[0m\n",

            "\u001b[0;32m/usr/local/lib/python3.10/dist-packages/tensorflow/python/data/ops/from_tensor_slices_op.py\u001b[0m in \u001b[0;36m_from_tensor_slices\u001b[0;34m(tensors, name)\u001b[0m\n\u001b[1;32m     23\u001b[0m \u001b[0;34m\u001b[0m\u001b[0m\n\u001b[1;32m     24\u001b[0m \u001b[0;32mdef\u001b[0m \u001b[0m_from_tensor_slices\u001b[0m\u001b[0;34m(\u001b[0m\u001b[0mtensors\u001b[0m\u001b[0;34m,\u001b[0m \u001b[0mname\u001b[0m\u001b[0;34m=\u001b[0m\u001b[0;32mNone\u001b[0m\u001b[0;34m)\u001b[0m\u001b[0;34m:\u001b[0m\u001b[0;34m\u001b[0m\u001b[0;34m\u001b[0m\u001b[0m\n\u001b[0;32m---> 25\u001b[0;31m   \u001b[0;32mreturn\u001b[0m \u001b[0m_TensorSliceDataset\u001b[0m\u001b[0;34m(\u001b[0m\u001b[0mtensors\u001b[0m\u001b[0;34m,\u001b[0m \u001b[0mname\u001b[0m\u001b[0;34m=\u001b[0m\u001b[0mname\u001b[0m\u001b[0;34m)\u001b[0m\u001b[0;34m\u001b[0m\u001b[0;34m\u001b[0m\u001b[0m\n\u001b[0m\u001b[1;32m     26\u001b[0m \u001b[0;34m\u001b[0m\u001b[0m\n\u001b[1;32m     27\u001b[0m \u001b[0;34m\u001b[0m\u001b[0m\n",

            "\u001b[0;32m/usr/local/lib/python3.10/dist-packages/tensorflow/python/data/ops/from_tensor_slices_op.py\u001b[0m in \u001b[0;36m__init__\u001b[0;34m(self, element, is_files, name)\u001b[0m\n\u001b[1;32m     47\u001b[0m               tensor_shape.dimension_value(t.get_shape()[0])))\n\u001b[1;32m     48\u001b[0m \u001b[0;34m\u001b[0m\u001b[0m\n\u001b[0;32m---> 49\u001b[0;31m     variant_tensor = gen_dataset_ops.tensor_slice_dataset(\n\u001b[0m\u001b[1;32m     50\u001b[0m         \u001b[0mself\u001b[0m\u001b[0;34m.\u001b[0m\u001b[0m_tensors\u001b[0m\u001b[0;34m,\u001b[0m\u001b[0;34m\u001b[0m\u001b[0;34m\u001b[0m\u001b[0m\n\u001b[1;32m     51\u001b[0m         \u001b[0moutput_shapes\u001b[0m\u001b[0;34m=\u001b[0m\u001b[0mstructure\u001b[0m\u001b[0;34m.\u001b[0m\u001b[0mget_flat_tensor_shapes\u001b[0m\u001b[0;34m(\u001b[0m\u001b[0mself\u001b[0m\u001b[0;34m.\u001b[0m\u001b[0m_structure\u001b[0m\u001b[0;34m)\u001b[0m\u001b[0;34m,\u001b[0m\u001b[0;34m\u001b[0m\u001b[0;34m\u001b[0m\u001b[0m\n",

            "\u001b[0;32m/usr/local/lib/python3.10/dist-packages/tensorflow/python/ops/gen_dataset_ops.py\u001b[0m in \u001b[0;36mtensor_slice_dataset\u001b[0;34m(components, output_shapes, is_files, metadata, replicate_on_split, name)\u001b[0m\n\u001b[1;32m   7642\u001b[0m     \u001b[0mreplicate_on_split\u001b[0m \u001b[0;34m=\u001b[0m \u001b[0;32mFalse\u001b[0m\u001b[0;34m\u001b[0m\u001b[0;34m\u001b[0m\u001b[0m\n\u001b[1;32m   7643\u001b[0m   \u001b[0mreplicate_on_split\u001b[0m \u001b[0;34m=\u001b[0m \u001b[0m_execute\u001b[0m\u001b[0;34m.\u001b[0m\u001b[0mmake_bool\u001b[0m\u001b[0;34m(\u001b[0m\u001b[0mreplicate_on_split\u001b[0m\u001b[0;34m,\u001b[0m \u001b[0;34m\"replicate_on_split\"\u001b[0m\u001b[0;34m)\u001b[0m\u001b[0;34m\u001b[0m\u001b[0;34m\u001b[0m\u001b[0m\n\u001b[0;32m-> 7644\u001b[0;31m   _, _, _op, _outputs = _op_def_library._apply_op_helper(\n\u001b[0m\u001b[1;32m   7645\u001b[0m         \u001b[0;34m\"TensorSliceDataset\"\u001b[0m\u001b[0;34m,\u001b[0m \u001b[0mcomponents\u001b[0m\u001b[0;34m=\u001b[0m\u001b[0mcomponents\u001b[0m\u001b[0;34m,\u001b[0m\u001b[0;34m\u001b[0m\u001b[0;34m\u001b[0m\u001b[0m\n\u001b[1;32m   7646\u001b[0m                               \u001b[0moutput_shapes\u001b[0m\u001b[0;34m=\u001b[0m\u001b[0moutput_shapes\u001b[0m\u001b[0;34m,\u001b[0m \u001b[0mis_files\u001b[0m\u001b[0;34m=\u001b[0m\u001b[0mis_files\u001b[0m\u001b[0;34m,\u001b[0m\u001b[0;34m\u001b[0m\u001b[0;34m\u001b[0m\u001b[0m\n",

            "\u001b[0;32m/usr/local/lib/python3.10/dist-packages/tensorflow/python/framework/op_def_library.py\u001b[0m in \u001b[0;36m_apply_op_helper\u001b[0;34m(op_type_name, name, **keywords)\u001b[0m\n\u001b[1;32m    793\u001b[0m       \u001b[0;31m# Add Op to graph\u001b[0m\u001b[0;34m\u001b[0m\u001b[0;34m\u001b[0m\u001b[0m\n\u001b[1;32m    794\u001b[0m       \u001b[0;31m# pylint: disable=protected-access\u001b[0m\u001b[0;34m\u001b[0m\u001b[0;34m\u001b[0m\u001b[0m\n\u001b[0;32m--> 795\u001b[0;31m       op = g._create_op_internal(op_type_name, inputs, dtypes=None,\n\u001b[0m\u001b[1;32m    796\u001b[0m                                  \u001b[0mname\u001b[0m\u001b[0;34m=\u001b[0m\u001b[0mscope\u001b[0m\u001b[0;34m,\u001b[0m \u001b[0minput_types\u001b[0m\u001b[0;34m=\u001b[0m\u001b[0minput_types\u001b[0m\u001b[0;34m,\u001b[0m\u001b[0;34m\u001b[0m\u001b[0;34m\u001b[0m\u001b[0m\n\u001b[1;32m    797\u001b[0m                                  attrs=attr_protos, op_def=op_def)\n",

            "\u001b[0;32m/usr/local/lib/python3.10/dist-packages/tensorflow/python/framework/func_graph.py\u001b[0m in \u001b[0;36m_create_op_internal\u001b[0;34m(self, op_type, inputs, dtypes, input_types, name, attrs, op_def, compute_device)\u001b[0m\n\u001b[1;32m    705\u001b[0m       \u001b[0minp\u001b[0m \u001b[0;34m=\u001b[0m \u001b[0mself\u001b[0m\u001b[0;34m.\u001b[0m\u001b[0mcapture\u001b[0m\u001b[0;34m(\u001b[0m\u001b[0minp\u001b[0m\u001b[0;34m)\u001b[0m\u001b[0;34m\u001b[0m\u001b[0;34m\u001b[0m\u001b[0m\n\u001b[1;32m    706\u001b[0m       \u001b[0mcaptured_inputs\u001b[0m\u001b[0;34m.\u001b[0m\u001b[0mappend\u001b[0m\u001b[0;34m(\u001b[0m\u001b[0minp\u001b[0m\u001b[0;34m)\u001b[0m\u001b[0;34m\u001b[0m\u001b[0;34m\u001b[0m\u001b[0m\n\u001b[0;32m--> 707\u001b[0;31m     return super()._create_op_internal(  # pylint: disable=protected-access\n\u001b[0m\u001b[1;32m    708\u001b[0m         \u001b[0mop_type\u001b[0m\u001b[0;34m,\u001b[0m \u001b[0mcaptured_inputs\u001b[0m\u001b[0;34m,\u001b[0m \u001b[0mdtypes\u001b[0m\u001b[0;34m,\u001b[0m \u001b[0minput_types\u001b[0m\u001b[0;34m,\u001b[0m \u001b[0mname\u001b[0m\u001b[0;34m,\u001b[0m \u001b[0mattrs\u001b[0m\u001b[0;34m,\u001b[0m \u001b[0mop_def\u001b[0m\u001b[0;34m,\u001b[0m\u001b[0;34m\u001b[0m\u001b[0;34m\u001b[0m\u001b[0m\n\u001b[1;32m    709\u001b[0m         compute_device)\n",

            "\u001b[0;32m/usr/local/lib/python3.10/dist-packages/tensorflow/python/framework/ops.py\u001b[0m in \u001b[0;36m_create_op_internal\u001b[0;34m(self, op_type, inputs, dtypes, input_types, name, attrs, op_def, compute_device)\u001b[0m\n\u001b[1;32m   3812\u001b[0m     \u001b[0;31m# Session.run call cannot occur between creating and mutating the op.\u001b[0m\u001b[0;34m\u001b[0m\u001b[0;34m\u001b[0m\u001b[0m\n\u001b[1;32m   3813\u001b[0m     \u001b[0;32mwith\u001b[0m \u001b[0mself\u001b[0m\u001b[0;34m.\u001b[0m\u001b[0m_mutation_lock\u001b[0m\u001b[0;34m(\u001b[0m\u001b[0;34m)\u001b[0m\u001b[0;34m:\u001b[0m\u001b[0;34m\u001b[0m\u001b[0;34m\u001b[0m\u001b[0m\n\u001b[0;32m-> 3814\u001b[0;31m       ret = Operation(\n\u001b[0m\u001b[1;32m   3815\u001b[0m           \u001b[0mnode_def\u001b[0m\u001b[0;34m,\u001b[0m\u001b[0;34m\u001b[0m\u001b[0;34m\u001b[0m\u001b[0m\n\u001b[1;32m   3816\u001b[0m           \u001b[0mself\u001b[0m\u001b[0;34m,\u001b[0m\u001b[0;34m\u001b[0m\u001b[0;34m\u001b[0m\u001b[0m\n",

            "\u001b[0;32m/usr/local/lib/python3.10/dist-packages/tensorflow/python/framework/ops.py\u001b[0m in \u001b[0;36m__init__\u001b[0;34m(***failed resolving arguments***)\u001b[0m\n\u001b[1;32m   2110\u001b[0m \u001b[0;34m\u001b[0m\u001b[0m\n\u001b[1;32m   2111\u001b[0m     \u001b[0;31m# Initialize c_op from node_def and other inputs\u001b[0m\u001b[0;34m\u001b[0m\u001b[0;34m\u001b[0m\u001b[0m\n\u001b[0;32m-> 2112\u001b[0;31m     \u001b[0mc_op\u001b[0m \u001b[0;34m=\u001b[0m \u001b[0m_create_c_op\u001b[0m\u001b[0;34m(\u001b[0m\u001b[0mg\u001b[0m\u001b[0;34m,\u001b[0m \u001b[0mnode_def\u001b[0m\u001b[0;34m,\u001b[0m \u001b[0minputs\u001b[0m\u001b[0;34m,\u001b[0m \u001b[0mcontrol_input_ops\u001b[0m\u001b[0;34m,\u001b[0m \u001b[0mop_def\u001b[0m\u001b[0;34m=\u001b[0m\u001b[0mop_def\u001b[0m\u001b[0;34m)\u001b[0m\u001b[0;34m\u001b[0m\u001b[0;34m\u001b[0m\u001b[0m\n\u001b[0m\u001b[1;32m   2113\u001b[0m     \u001b[0mself\u001b[0m\u001b[0;34m.\u001b[0m\u001b[0m_init_from_c_op\u001b[0m\u001b[0;34m(\u001b[0m\u001b[0mc_op\u001b[0m\u001b[0;34m=\u001b[0m\u001b[0mc_op\u001b[0m\u001b[0;34m,\u001b[0m \u001b[0mg\u001b[0m\u001b[0;34m=\u001b[0m\u001b[0mg\u001b[0m\u001b[0;34m)\u001b[0m\u001b[0;34m\u001b[0m\u001b[0;34m\u001b[0m\u001b[0m\n\u001b[1;32m   2114\u001b[0m \u001b[0;34m\u001b[0m\u001b[0m\n",

            "\u001b[0;32m/usr/local/lib/python3.10/dist-packages/tensorflow/python/util/traceback_utils.py\u001b[0m in \u001b[0;36merror_handler\u001b[0;34m(*args, **kwargs)\u001b[0m\n\u001b[1;32m    148\u001b[0m     \u001b[0mfiltered_tb\u001b[0m \u001b[0;34m=\u001b[0m \u001b[0;32mNone\u001b[0m\u001b[0;34m\u001b[0m\u001b[0;34m\u001b[0m\u001b[0m\n\u001b[1;32m    149\u001b[0m     \u001b[0;32mtry\u001b[0m\u001b[0;34m:\u001b[0m\u001b[0;34m\u001b[0m\u001b[0;34m\u001b[0m\u001b[0m\n\u001b[0;32m--> 150\u001b[0;31m       \u001b[0;32mreturn\u001b[0m \u001b[0mfn\u001b[0m\u001b[0;34m(\u001b[0m\u001b[0;34m*\u001b[0m\u001b[0margs\u001b[0m\u001b[0;34m,\u001b[0m \u001b[0;34m**\u001b[0m\u001b[0mkwargs\u001b[0m\u001b[0;34m)\u001b[0m\u001b[0;34m\u001b[0m\u001b[0;34m\u001b[0m\u001b[0m\n\u001b[0m\u001b[1;32m    151\u001b[0m     \u001b[0;32mexcept\u001b[0m \u001b[0mException\u001b[0m \u001b[0;32mas\u001b[0m \u001b[0me\u001b[0m\u001b[0;34m:\u001b[0m\u001b[0;34m\u001b[0m\u001b[0;34m\u001b[0m\u001b[0m\n\u001b[1;32m    152\u001b[0m       \u001b[0mfiltered_tb\u001b[0m \u001b[0;34m=\u001b[0m \u001b[0m_process_traceback_frames\u001b[0m\u001b[0;34m(\u001b[0m\u001b[0me\u001b[0m\u001b[0;34m.\u001b[0m\u001b[0m__traceback__\u001b[0m\u001b[0;34m)\u001b[0m\u001b[0;34m\u001b[0m\u001b[0;34m\u001b[0m\u001b[0m\n",

            "\u001b[0;32m/usr/local/lib/python3.10/dist-packages/tensorflow/python/framework/ops.py\u001b[0m in \u001b[0;36m_create_c_op\u001b[0;34m(graph, node_def, inputs, control_inputs, op_def, extract_traceback)\u001b[0m\n\u001b[1;32m   1940\u001b[0m   \u001b[0minputs\u001b[0m \u001b[0;34m=\u001b[0m \u001b[0m_reconstruct_sequence_inputs\u001b[0m\u001b[0;34m(\u001b[0m\u001b[0mop_def\u001b[0m\u001b[0;34m,\u001b[0m \u001b[0minputs\u001b[0m\u001b[0;34m,\u001b[0m \u001b[0mnode_def\u001b[0m\u001b[0;34m.\u001b[0m\u001b[0mattr\u001b[0m\u001b[0;34m)\u001b[0m\u001b[0;34m\u001b[0m\u001b[0;34m\u001b[0m\u001b[0m\n\u001b[1;32m   1941\u001b[0m   \u001b[0;31m# pylint: disable=protected-access\u001b[0m\u001b[0;34m\u001b[0m\u001b[0;34m\u001b[0m\u001b[0m\n\u001b[0;32m-> 1942\u001b[0;31m   \u001b[0;32mwith\u001b[0m \u001b[0mgraph\u001b[0m\u001b[0;34m.\u001b[0m\u001b[0m_c_graph\u001b[0m\u001b[0;34m.\u001b[0m\u001b[0mget\u001b[0m\u001b[0;34m(\u001b[0m\u001b[0;34m)\u001b[0m \u001b[0;32mas\u001b[0m \u001b[0mc_graph\u001b[0m\u001b[0;34m:\u001b[0m\u001b[0;34m\u001b[0m\u001b[0;34m\u001b[0m\u001b[0m\n\u001b[0m\u001b[1;32m   1943\u001b[0m     op_desc = pywrap_tf_session.TF_NewOperation(c_graph,\n\u001b[1;32m   1944\u001b[0m                                                 \u001b[0mcompat\u001b[0m\u001b[0;34m.\u001b[0m\u001b[0mas_str\u001b[0m\u001b[0;34m(\u001b[0m\u001b[0mnode_def\u001b[0m\u001b[0;34m.\u001b[0m\u001b[0mop\u001b[0m\u001b[0;34m)\u001b[0m\u001b[0;34m,\u001b[0m\u001b[0;34m\u001b[0m\u001b[0;34m\u001b[0m\u001b[0m\n",

            "\u001b[0;32m/usr/lib/python3.10/contextlib.py\u001b[0m in \u001b[0;36mhelper\u001b[0;34m(*args, **kwds)\u001b[0m\n\u001b[1;32m    279\u001b[0m     \u001b[0;34m@\u001b[0m\u001b[0mwraps\u001b[0m\u001b[0;34m(\u001b[0m\u001b[0mfunc\u001b[0m\u001b[0;34m)\u001b[0m\u001b[0;34m\u001b[0m\u001b[0;34m\u001b[0m\u001b[0m\n\u001b[1;32m    280\u001b[0m     \u001b[0;32mdef\u001b[0m \u001b[0mhelper\u001b[0m\u001b[0;34m(\u001b[0m\u001b[0;34m*\u001b[0m\u001b[0margs\u001b[0m\u001b[0;34m,\u001b[0m \u001b[0;34m**\u001b[0m\u001b[0mkwds\u001b[0m\u001b[0;34m)\u001b[0m\u001b[0;34m:\u001b[0m\u001b[0;34m\u001b[0m\u001b[0;34m\u001b[0m\u001b[0m\n\u001b[0;32m--> 281\u001b[0;31m         \u001b[0;32mreturn\u001b[0m \u001b[0m_GeneratorContextManager\u001b[0m\u001b[0;34m(\u001b[0m\u001b[0mfunc\u001b[0m\u001b[0;34m,\u001b[0m \u001b[0margs\u001b[0m\u001b[0;34m,\u001b[0m \u001b[0mkwds\u001b[0m\u001b[0;34m)\u001b[0m\u001b[0;34m\u001b[0m\u001b[0;34m\u001b[0m\u001b[0m\n\u001b[0m\u001b[1;32m    282\u001b[0m     \u001b[0;32mreturn\u001b[0m \u001b[0mhelper\u001b[0m\u001b[0;34m\u001b[0m\u001b[0;34m\u001b[0m\u001b[0m\n\u001b[1;32m    283\u001b[0m \u001b[0;34m\u001b[0m\u001b[0m\n",

            "\u001b[0;32m/usr/lib/python3.10/contextlib.py\u001b[0m in \u001b[0;36m__init__\u001b[0;34m(self, func, args, kwds)\u001b[0m\n\u001b[1;32m    104\u001b[0m         \u001b[0mself\u001b[0m\u001b[0;34m.\u001b[0m\u001b[0mfunc\u001b[0m\u001b[0;34m,\u001b[0m \u001b[0mself\u001b[0m\u001b[0;34m.\u001b[0m\u001b[0margs\u001b[0m\u001b[0;34m,\u001b[0m \u001b[0mself\u001b[0m\u001b[0;34m.\u001b[0m\u001b[0mkwds\u001b[0m \u001b[0;34m=\u001b[0m \u001b[0mfunc\u001b[0m\u001b[0;34m,\u001b[0m \u001b[0margs\u001b[0m\u001b[0;34m,\u001b[0m \u001b[0mkwds\u001b[0m\u001b[0;34m\u001b[0m\u001b[0;34m\u001b[0m\u001b[0m\n\u001b[1;32m    105\u001b[0m         \u001b[0;31m# Issue 19330: ensure context manager instances have good docstrings\u001b[0m\u001b[0;34m\u001b[0m\u001b[0;34m\u001b[0m\u001b[0m\n\u001b[0;32m--> 106\u001b[0;31m         \u001b[0mdoc\u001b[0m \u001b[0;34m=\u001b[0m \u001b[0mgetattr\u001b[0m\u001b[0;34m(\u001b[0m\u001b[0mfunc\u001b[0m\u001b[0;34m,\u001b[0m \u001b[0;34m\"__doc__\"\u001b[0m\u001b[0;34m,\u001b[0m \u001b[0;32mNone\u001b[0m\u001b[0;34m)\u001b[0m\u001b[0;34m\u001b[0m\u001b[0;34m\u001b[0m\u001b[0m\n\u001b[0m\u001b[1;32m    107\u001b[0m         \u001b[0;32mif\u001b[0m \u001b[0mdoc\u001b[0m \u001b[0;32mis\u001b[0m \u001b[0;32mNone\u001b[0m\u001b[0;34m:\u001b[0m\u001b[0;34m\u001b[0m\u001b[0;34m\u001b[0m\u001b[0m\n\u001b[1;32m    108\u001b[0m             \u001b[0mdoc\u001b[0m \u001b[0;34m=\u001b[0m \u001b[0mtype\u001b[0m\u001b[0;34m(\u001b[0m\u001b[0mself\u001b[0m\u001b[0;34m)\u001b[0m\u001b[0;34m.\u001b[0m\u001b[0m__doc__\u001b[0m\u001b[0;34m\u001b[0m\u001b[0;34m\u001b[0m\u001b[0m\n",

            "\u001b[0;31mKeyboardInterrupt\u001b[0m: "

          ]

        }

      ],

      "source": [

        "epochs = 40\n",

        "batch_size = 128\n",

        "\n",

        "for epoch in range(epochs):\n",

        "    model.fit(x, y, batch_size=batch_size, epochs=1)\n",

        "    print()\n",

        "    print(\"Generating text after epoch: %d\" % epoch)\n",

        "\n",

        "    start_index = random.randint(0, len(text) - maxlen - 1)\n",

        "    for diversity in [0.2, 0.5, 1.0, 1.2]:\n",

        "        print(\"...Diversity:\", diversity)\n",

        "\n",

        "        generated = \"\"\n",

        "        sentence = text[start_index : start_index + maxlen]\n",

        "        print('...Generating with seed: \"' + sentence + '\"')\n",

        "\n",

        "        for i in range(400):\n",

        "            x_pred = np.zeros((1, maxlen, len(chars)))\n",

        "            for t, char in enumerate(sentence):\n",

        "                x_pred[0, t, char_indices[char]] = 1.0\n",

        "            preds = model.predict(x_pred, verbose=0)[0]\n",

        "            next_index = sample(preds, diversity)\n",

        "            next_char = indices_char[next_index]\n",

        "            sentence = sentence[1:] + next_char\n",

        "            generated += next_char\n",

        "\n",

        "        print(\"...Generated: \", generated)\n",

        "        print()\n"

      ]

    },

    {

      "cell_type": "markdown",

      "source": [

        "###Exercise: What modifications to the above code are required to be done that text generation is of words instead of characters. What benefit would be the there. Would the output be better?"

      ],

      "metadata": {

        "id": "UoYZt8EpAPKy"

      }

    },

    {

      "cell_type": "markdown",

      "source": [

        "###Project 2 (Language Translation using LSTMs or GRUs)"

      ],

      "metadata": {

        "id": "UFgPtr8SAErT"

      }

    }

  ]

}

 

