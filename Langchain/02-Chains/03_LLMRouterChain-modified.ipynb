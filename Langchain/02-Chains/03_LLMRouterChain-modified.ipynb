{
  "cells": [
    {
      "cell_type": "markdown",
      "id": "bcded1a6-2430-4707-a78c-c82f4c5ee6fc",
      "metadata": {
        "id": "bcded1a6-2430-4707-a78c-c82f4c5ee6fc"
      },
      "source": [
        "<a href = \"https://www.pieriantraining.com\"><img src=\"../PT Centered Purple.png\"> </a>\n",
        "\n",
        "<em style=\"text-align:center\">Copyrighted by Pierian Training</em>"
      ]
    },
    {
      "cell_type": "markdown",
      "id": "728f1747-b8fc-4d31-96c2-047fc83c079d",
      "metadata": {
        "id": "728f1747-b8fc-4d31-96c2-047fc83c079d"
      },
      "source": [
        "#  LLMRouterChain"
      ]
    },
    {
      "cell_type": "markdown",
      "id": "34c70034-3204-41f7-af62-f25c9cc5a2de",
      "metadata": {
        "id": "34c70034-3204-41f7-af62-f25c9cc5a2de"
      },
      "source": [
        "### Route Templates"
      ]
    },
    {
      "cell_type": "code",
      "source": [
        "!pip install openai\n",
        "!pip install langchain"
      ],
      "metadata": {
        "colab": {
          "base_uri": "https://localhost:8080/"
        },
        "id": "ueGT7O1jfu3F",
        "outputId": "efdbe370-116b-4611-d743-696efda1bafc"
      },
      "id": "ueGT7O1jfu3F",
      "execution_count": 1,
      "outputs": [
        {
          "output_type": "stream",
          "name": "stdout",
          "text": [
            "Collecting openai\n",
            "  Downloading openai-1.23.3-py3-none-any.whl (311 kB)\n",
            "\u001b[2K     \u001b[90m━━━━━━━━━━━━━━━━━━━━━━━━━━━━━━━━━━━━━━━━\u001b[0m \u001b[32m311.5/311.5 kB\u001b[0m \u001b[31m2.5 MB/s\u001b[0m eta \u001b[36m0:00:00\u001b[0m\n",
            "\u001b[?25hRequirement already satisfied: anyio<5,>=3.5.0 in /usr/local/lib/python3.10/dist-packages (from openai) (3.7.1)\n",
            "Requirement already satisfied: distro<2,>=1.7.0 in /usr/lib/python3/dist-packages (from openai) (1.7.0)\n",
            "Collecting httpx<1,>=0.23.0 (from openai)\n",
            "  Downloading httpx-0.27.0-py3-none-any.whl (75 kB)\n",
            "\u001b[2K     \u001b[90m━━━━━━━━━━━━━━━━━━━━━━━━━━━━━━━━━━━━━━━━\u001b[0m \u001b[32m75.6/75.6 kB\u001b[0m \u001b[31m5.9 MB/s\u001b[0m eta \u001b[36m0:00:00\u001b[0m\n",
            "\u001b[?25hRequirement already satisfied: pydantic<3,>=1.9.0 in /usr/local/lib/python3.10/dist-packages (from openai) (2.7.0)\n",
            "Requirement already satisfied: sniffio in /usr/local/lib/python3.10/dist-packages (from openai) (1.3.1)\n",
            "Requirement already satisfied: tqdm>4 in /usr/local/lib/python3.10/dist-packages (from openai) (4.66.2)\n",
            "Requirement already satisfied: typing-extensions<5,>=4.7 in /usr/local/lib/python3.10/dist-packages (from openai) (4.11.0)\n",
            "Requirement already satisfied: idna>=2.8 in /usr/local/lib/python3.10/dist-packages (from anyio<5,>=3.5.0->openai) (3.7)\n",
            "Requirement already satisfied: exceptiongroup in /usr/local/lib/python3.10/dist-packages (from anyio<5,>=3.5.0->openai) (1.2.1)\n",
            "Requirement already satisfied: certifi in /usr/local/lib/python3.10/dist-packages (from httpx<1,>=0.23.0->openai) (2024.2.2)\n",
            "Collecting httpcore==1.* (from httpx<1,>=0.23.0->openai)\n",
            "  Downloading httpcore-1.0.5-py3-none-any.whl (77 kB)\n",
            "\u001b[2K     \u001b[90m━━━━━━━━━━━━━━━━━━━━━━━━━━━━━━━━━━━━━━━━\u001b[0m \u001b[32m77.9/77.9 kB\u001b[0m \u001b[31m4.7 MB/s\u001b[0m eta \u001b[36m0:00:00\u001b[0m\n",
            "\u001b[?25hCollecting h11<0.15,>=0.13 (from httpcore==1.*->httpx<1,>=0.23.0->openai)\n",
            "  Downloading h11-0.14.0-py3-none-any.whl (58 kB)\n",
            "\u001b[2K     \u001b[90m━━━━━━━━━━━━━━━━━━━━━━━━━━━━━━━━━━━━━━━━\u001b[0m \u001b[32m58.3/58.3 kB\u001b[0m \u001b[31m4.5 MB/s\u001b[0m eta \u001b[36m0:00:00\u001b[0m\n",
            "\u001b[?25hRequirement already satisfied: annotated-types>=0.4.0 in /usr/local/lib/python3.10/dist-packages (from pydantic<3,>=1.9.0->openai) (0.6.0)\n",
            "Requirement already satisfied: pydantic-core==2.18.1 in /usr/local/lib/python3.10/dist-packages (from pydantic<3,>=1.9.0->openai) (2.18.1)\n",
            "Installing collected packages: h11, httpcore, httpx, openai\n",
            "Successfully installed h11-0.14.0 httpcore-1.0.5 httpx-0.27.0 openai-1.23.3\n",
            "Collecting langchain\n",
            "  Downloading langchain-0.1.16-py3-none-any.whl (817 kB)\n",
            "\u001b[2K     \u001b[90m━━━━━━━━━━━━━━━━━━━━━━━━━━━━━━━━━━━━━━━━\u001b[0m \u001b[32m817.7/817.7 kB\u001b[0m \u001b[31m5.6 MB/s\u001b[0m eta \u001b[36m0:00:00\u001b[0m\n",
            "\u001b[?25hRequirement already satisfied: PyYAML>=5.3 in /usr/local/lib/python3.10/dist-packages (from langchain) (6.0.1)\n",
            "Requirement already satisfied: SQLAlchemy<3,>=1.4 in /usr/local/lib/python3.10/dist-packages (from langchain) (2.0.29)\n",
            "Requirement already satisfied: aiohttp<4.0.0,>=3.8.3 in /usr/local/lib/python3.10/dist-packages (from langchain) (3.9.5)\n",
            "Requirement already satisfied: async-timeout<5.0.0,>=4.0.0 in /usr/local/lib/python3.10/dist-packages (from langchain) (4.0.3)\n",
            "Collecting dataclasses-json<0.7,>=0.5.7 (from langchain)\n",
            "  Downloading dataclasses_json-0.6.4-py3-none-any.whl (28 kB)\n",
            "Collecting jsonpatch<2.0,>=1.33 (from langchain)\n",
            "  Downloading jsonpatch-1.33-py2.py3-none-any.whl (12 kB)\n",
            "Collecting langchain-community<0.1,>=0.0.32 (from langchain)\n",
            "  Downloading langchain_community-0.0.34-py3-none-any.whl (1.9 MB)\n",
            "\u001b[2K     \u001b[90m━━━━━━━━━━━━━━━━━━━━━━━━━━━━━━━━━━━━━━━━\u001b[0m \u001b[32m1.9/1.9 MB\u001b[0m \u001b[31m10.2 MB/s\u001b[0m eta \u001b[36m0:00:00\u001b[0m\n",
            "\u001b[?25hCollecting langchain-core<0.2.0,>=0.1.42 (from langchain)\n",
            "  Downloading langchain_core-0.1.45-py3-none-any.whl (291 kB)\n",
            "\u001b[2K     \u001b[90m━━━━━━━━━━━━━━━━━━━━━━━━━━━━━━━━━━━━━━━━\u001b[0m \u001b[32m291.3/291.3 kB\u001b[0m \u001b[31m11.2 MB/s\u001b[0m eta \u001b[36m0:00:00\u001b[0m\n",
            "\u001b[?25hCollecting langchain-text-splitters<0.1,>=0.0.1 (from langchain)\n",
            "  Downloading langchain_text_splitters-0.0.1-py3-none-any.whl (21 kB)\n",
            "Collecting langsmith<0.2.0,>=0.1.17 (from langchain)\n",
            "  Downloading langsmith-0.1.50-py3-none-any.whl (115 kB)\n",
            "\u001b[2K     \u001b[90m━━━━━━━━━━━━━━━━━━━━━━━━━━━━━━━━━━━━━━━━\u001b[0m \u001b[32m115.5/115.5 kB\u001b[0m \u001b[31m15.1 MB/s\u001b[0m eta \u001b[36m0:00:00\u001b[0m\n",
            "\u001b[?25hRequirement already satisfied: numpy<2,>=1 in /usr/local/lib/python3.10/dist-packages (from langchain) (1.25.2)\n",
            "Requirement already satisfied: pydantic<3,>=1 in /usr/local/lib/python3.10/dist-packages (from langchain) (2.7.0)\n",
            "Requirement already satisfied: requests<3,>=2 in /usr/local/lib/python3.10/dist-packages (from langchain) (2.31.0)\n",
            "Requirement already satisfied: tenacity<9.0.0,>=8.1.0 in /usr/local/lib/python3.10/dist-packages (from langchain) (8.2.3)\n",
            "Requirement already satisfied: aiosignal>=1.1.2 in /usr/local/lib/python3.10/dist-packages (from aiohttp<4.0.0,>=3.8.3->langchain) (1.3.1)\n",
            "Requirement already satisfied: attrs>=17.3.0 in /usr/local/lib/python3.10/dist-packages (from aiohttp<4.0.0,>=3.8.3->langchain) (23.2.0)\n",
            "Requirement already satisfied: frozenlist>=1.1.1 in /usr/local/lib/python3.10/dist-packages (from aiohttp<4.0.0,>=3.8.3->langchain) (1.4.1)\n",
            "Requirement already satisfied: multidict<7.0,>=4.5 in /usr/local/lib/python3.10/dist-packages (from aiohttp<4.0.0,>=3.8.3->langchain) (6.0.5)\n",
            "Requirement already satisfied: yarl<2.0,>=1.0 in /usr/local/lib/python3.10/dist-packages (from aiohttp<4.0.0,>=3.8.3->langchain) (1.9.4)\n",
            "Collecting marshmallow<4.0.0,>=3.18.0 (from dataclasses-json<0.7,>=0.5.7->langchain)\n",
            "  Downloading marshmallow-3.21.1-py3-none-any.whl (49 kB)\n",
            "\u001b[2K     \u001b[90m━━━━━━━━━━━━━━━━━━━━━━━━━━━━━━━━━━━━━━━━\u001b[0m \u001b[32m49.4/49.4 kB\u001b[0m \u001b[31m3.6 MB/s\u001b[0m eta \u001b[36m0:00:00\u001b[0m\n",
            "\u001b[?25hCollecting typing-inspect<1,>=0.4.0 (from dataclasses-json<0.7,>=0.5.7->langchain)\n",
            "  Downloading typing_inspect-0.9.0-py3-none-any.whl (8.8 kB)\n",
            "Collecting jsonpointer>=1.9 (from jsonpatch<2.0,>=1.33->langchain)\n",
            "  Downloading jsonpointer-2.4-py2.py3-none-any.whl (7.8 kB)\n",
            "Collecting packaging<24.0,>=23.2 (from langchain-core<0.2.0,>=0.1.42->langchain)\n",
            "  Downloading packaging-23.2-py3-none-any.whl (53 kB)\n",
            "\u001b[2K     \u001b[90m━━━━━━━━━━━━━━━━━━━━━━━━━━━━━━━━━━━━━━━━\u001b[0m \u001b[32m53.0/53.0 kB\u001b[0m \u001b[31m7.2 MB/s\u001b[0m eta \u001b[36m0:00:00\u001b[0m\n",
            "\u001b[?25hCollecting orjson<4.0.0,>=3.9.14 (from langsmith<0.2.0,>=0.1.17->langchain)\n",
            "  Downloading orjson-3.10.1-cp310-cp310-manylinux_2_17_x86_64.manylinux2014_x86_64.whl (141 kB)\n",
            "\u001b[2K     \u001b[90m━━━━━━━━━━━━━━━━━━━━━━━━━━━━━━━━━━━━━━━━\u001b[0m \u001b[32m141.1/141.1 kB\u001b[0m \u001b[31m13.9 MB/s\u001b[0m eta \u001b[36m0:00:00\u001b[0m\n",
            "\u001b[?25hRequirement already satisfied: annotated-types>=0.4.0 in /usr/local/lib/python3.10/dist-packages (from pydantic<3,>=1->langchain) (0.6.0)\n",
            "Requirement already satisfied: pydantic-core==2.18.1 in /usr/local/lib/python3.10/dist-packages (from pydantic<3,>=1->langchain) (2.18.1)\n",
            "Requirement already satisfied: typing-extensions>=4.6.1 in /usr/local/lib/python3.10/dist-packages (from pydantic<3,>=1->langchain) (4.11.0)\n",
            "Requirement already satisfied: charset-normalizer<4,>=2 in /usr/local/lib/python3.10/dist-packages (from requests<3,>=2->langchain) (3.3.2)\n",
            "Requirement already satisfied: idna<4,>=2.5 in /usr/local/lib/python3.10/dist-packages (from requests<3,>=2->langchain) (3.7)\n",
            "Requirement already satisfied: urllib3<3,>=1.21.1 in /usr/local/lib/python3.10/dist-packages (from requests<3,>=2->langchain) (2.0.7)\n",
            "Requirement already satisfied: certifi>=2017.4.17 in /usr/local/lib/python3.10/dist-packages (from requests<3,>=2->langchain) (2024.2.2)\n",
            "Requirement already satisfied: greenlet!=0.4.17 in /usr/local/lib/python3.10/dist-packages (from SQLAlchemy<3,>=1.4->langchain) (3.0.3)\n",
            "Collecting mypy-extensions>=0.3.0 (from typing-inspect<1,>=0.4.0->dataclasses-json<0.7,>=0.5.7->langchain)\n",
            "  Downloading mypy_extensions-1.0.0-py3-none-any.whl (4.7 kB)\n",
            "Installing collected packages: packaging, orjson, mypy-extensions, jsonpointer, typing-inspect, marshmallow, jsonpatch, langsmith, dataclasses-json, langchain-core, langchain-text-splitters, langchain-community, langchain\n",
            "  Attempting uninstall: packaging\n",
            "    Found existing installation: packaging 24.0\n",
            "    Uninstalling packaging-24.0:\n",
            "      Successfully uninstalled packaging-24.0\n",
            "Successfully installed dataclasses-json-0.6.4 jsonpatch-1.33 jsonpointer-2.4 langchain-0.1.16 langchain-community-0.0.34 langchain-core-0.1.45 langchain-text-splitters-0.0.1 langsmith-0.1.50 marshmallow-3.21.1 mypy-extensions-1.0.0 orjson-3.10.1 packaging-23.2 typing-inspect-0.9.0\n"
          ]
        }
      ]
    },
    {
      "cell_type": "code",
      "source": [
        "import openai"
      ],
      "metadata": {
        "id": "YgtWznCEf5IF"
      },
      "id": "YgtWznCEf5IF",
      "execution_count": 2,
      "outputs": []
    },
    {
      "cell_type": "code",
      "source": [],
      "metadata": {
        "id": "fIiHhOMHf0hO"
      },
      "id": "fIiHhOMHf0hO",
      "execution_count": null,
      "outputs": []
    },
    {
      "cell_type": "code",
      "execution_count": 3,
      "id": "ddea86e7-9240-4369-a938-38aaff2c6d5a",
      "metadata": {
        "id": "ddea86e7-9240-4369-a938-38aaff2c6d5a"
      },
      "outputs": [],
      "source": [
        "beginner_template = '''You are a physics teacher who is really\n",
        "focused on beginners and explaining complex topics in simple to understand terms.\n",
        "You assume no prior knowledge. Here is the question\\n{input}'''"
      ]
    },
    {
      "cell_type": "code",
      "execution_count": 4,
      "id": "bb91294c-14cc-48f8-9fd3-12f59f178fe9",
      "metadata": {
        "id": "bb91294c-14cc-48f8-9fd3-12f59f178fe9"
      },
      "outputs": [],
      "source": [
        "expert_template = '''You are a world expert physics professor who explains physics topics\n",
        "to advanced audience members. You can assume anyone you answer has a\n",
        "PhD level understanding of Physics. Here is the question\\n{input}'''"
      ]
    },
    {
      "cell_type": "code",
      "execution_count": 5,
      "id": "92180e62-1a77-4f85-bad4-44225a08d7db",
      "metadata": {
        "id": "92180e62-1a77-4f85-bad4-44225a08d7db"
      },
      "outputs": [],
      "source": [
        "# ADD YOUR OWN TEMPLATES !\n",
        "empty_template = 'empty'"
      ]
    },
    {
      "cell_type": "markdown",
      "id": "00f2c29f-dd15-4821-ac3a-2f5f6321b172",
      "metadata": {
        "id": "00f2c29f-dd15-4821-ac3a-2f5f6321b172"
      },
      "source": [
        "### Route Prompts"
      ]
    },
    {
      "cell_type": "code",
      "execution_count": 6,
      "id": "1ad19090-69a5-481d-87cf-2d4c8119c3ca",
      "metadata": {
        "id": "1ad19090-69a5-481d-87cf-2d4c8119c3ca"
      },
      "outputs": [],
      "source": [
        "prompt_infos = [\n",
        "    {'name':'empty','description':'Replies to empty questions','prompt_template':empty_template},\n",
        "    {'name':'advanced physics','description': 'Answers advanced physics questions',\n",
        "     'prompt_template':expert_template},\n",
        "    {'name':'beginner physics','description': 'Answers basic beginner physics questions',\n",
        "     'prompt_template':beginner_template},\n",
        "\n",
        "]"
      ]
    },
    {
      "cell_type": "markdown",
      "id": "92e7e03a-a8ed-4405-ae33-7770deccd0a9",
      "metadata": {
        "id": "92e7e03a-a8ed-4405-ae33-7770deccd0a9"
      },
      "source": [
        "### ConversationChain"
      ]
    },
    {
      "cell_type": "code",
      "execution_count": 7,
      "id": "0b759163-2c87-45c7-8b0d-47cb1f6df76d",
      "metadata": {
        "id": "0b759163-2c87-45c7-8b0d-47cb1f6df76d"
      },
      "outputs": [],
      "source": [
        "from langchain.chat_models import ChatOpenAI\n",
        "from langchain.prompts import ChatPromptTemplate\n",
        "from langchain.chains import LLMChain"
      ]
    },
    {
      "cell_type": "code",
      "execution_count": 8,
      "id": "184aefe6-0e02-402d-8172-4a44e78ac42d",
      "metadata": {
        "colab": {
          "base_uri": "https://localhost:8080/"
        },
        "id": "184aefe6-0e02-402d-8172-4a44e78ac42d",
        "outputId": "1e8c882d-c6c1-4e13-d483-8f67e6d91a9b"
      },
      "outputs": [
        {
          "output_type": "stream",
          "name": "stderr",
          "text": [
            "/usr/local/lib/python3.10/dist-packages/langchain_core/_api/deprecation.py:119: LangChainDeprecationWarning: The class `ChatOpenAI` was deprecated in LangChain 0.0.10 and will be removed in 0.2.0. An updated version of the class exists in the langchain-openai package and should be used instead. To use it run `pip install -U langchain-openai` and import as `from langchain_openai import ChatOpenAI`.\n",
            "  warn_deprecated(\n"
          ]
        }
      ],
      "source": [
        "llm = ChatOpenAI()"
      ]
    },
    {
      "cell_type": "code",
      "execution_count": 9,
      "id": "aa78da93-c52d-4ea3-b680-7ae5c677b8c5",
      "metadata": {
        "id": "aa78da93-c52d-4ea3-b680-7ae5c677b8c5"
      },
      "outputs": [],
      "source": [
        "destination_chains = {}\n",
        "for p_info in prompt_infos:\n",
        "    name = p_info[\"name\"]\n",
        "    prompt_template = p_info[\"prompt_template\"]\n",
        "    prompt = ChatPromptTemplate.from_template(template=prompt_template)\n",
        "    chain = LLMChain(llm=llm, prompt=prompt)\n",
        "    destination_chains[name] = chain"
      ]
    },
    {
      "cell_type": "code",
      "execution_count": null,
      "id": "ed26ebca-bd7c-41c4-8c20-d0e90e06490a",
      "metadata": {
        "id": "ed26ebca-bd7c-41c4-8c20-d0e90e06490a"
      },
      "outputs": [],
      "source": [
        "# destination_chains"
      ]
    },
    {
      "cell_type": "code",
      "execution_count": 10,
      "id": "cfabfe49-a9dc-4d0e-9e40-bfc042719487",
      "metadata": {
        "id": "cfabfe49-a9dc-4d0e-9e40-bfc042719487"
      },
      "outputs": [],
      "source": [
        "default_prompt = ChatPromptTemplate.from_template(\"{input}\")\n",
        "default_chain = LLMChain(llm=llm,prompt=default_prompt)"
      ]
    },
    {
      "cell_type": "markdown",
      "id": "15856b11-d9ab-4a7a-b7af-6f4726ab0d2d",
      "metadata": {
        "id": "15856b11-d9ab-4a7a-b7af-6f4726ab0d2d"
      },
      "source": [
        "### Multi Routing Template"
      ]
    },
    {
      "cell_type": "code",
      "execution_count": 11,
      "id": "9bd303e5-44b1-424d-93e6-7340d24cfb48",
      "metadata": {
        "id": "9bd303e5-44b1-424d-93e6-7340d24cfb48"
      },
      "outputs": [],
      "source": [
        "from langchain.chains.router.multi_prompt_prompt import MULTI_PROMPT_ROUTER_TEMPLATE"
      ]
    },
    {
      "cell_type": "code",
      "execution_count": 12,
      "id": "548eae05-4292-48a0-8147-1b4d1fb0433b",
      "metadata": {
        "colab": {
          "base_uri": "https://localhost:8080/"
        },
        "id": "548eae05-4292-48a0-8147-1b4d1fb0433b",
        "outputId": "fe93d119-6628-4ef5-cc0c-87c6dd67270e"
      },
      "outputs": [
        {
          "output_type": "stream",
          "name": "stdout",
          "text": [
            "Given a raw text input to a language model select the model prompt best suited for the input. You will be given the names of the available prompts and a description of what the prompt is best suited for. You may also revise the original input if you think that revising it will ultimately lead to a better response from the language model.\n",
            "\n",
            "<< FORMATTING >>\n",
            "Return a markdown code snippet with a JSON object formatted to look like:\n",
            "```json\n",
            "{{{{\n",
            "    \"destination\": string \\ name of the prompt to use or \"DEFAULT\"\n",
            "    \"next_inputs\": string \\ a potentially modified version of the original input\n",
            "}}}}\n",
            "```\n",
            "\n",
            "REMEMBER: \"destination\" MUST be one of the candidate prompt names specified below OR it can be \"DEFAULT\" if the input is not well suited for any of the candidate prompts.\n",
            "REMEMBER: \"next_inputs\" can just be the original input if you don't think any modifications are needed.\n",
            "\n",
            "<< CANDIDATE PROMPTS >>\n",
            "{destinations}\n",
            "\n",
            "<< INPUT >>\n",
            "{{input}}\n",
            "\n",
            "<< OUTPUT (must include ```json at the start of the response) >>\n",
            "<< OUTPUT (must end with ```) >>\n",
            "\n"
          ]
        }
      ],
      "source": [
        "print(MULTI_PROMPT_ROUTER_TEMPLATE)"
      ]
    },
    {
      "cell_type": "markdown",
      "id": "1152ed30-7c5e-46ec-bd9f-8fa2ff42950e",
      "metadata": {
        "id": "1152ed30-7c5e-46ec-bd9f-8fa2ff42950e"
      },
      "source": [
        "### Routing Destinations\n"
      ]
    },
    {
      "cell_type": "code",
      "execution_count": 13,
      "id": "635cbf1e-52ce-4d26-a25f-ddc81fa21340",
      "metadata": {
        "id": "635cbf1e-52ce-4d26-a25f-ddc81fa21340"
      },
      "outputs": [],
      "source": [
        "destinations = [f\"{p['name']}: {p['description']}\" for p in prompt_infos]\n",
        "destinations_str = \"\\n\".join(destinations)"
      ]
    },
    {
      "cell_type": "code",
      "execution_count": 14,
      "id": "7ac5f3a0-32e7-45a5-8564-b433d42eeeb2",
      "metadata": {
        "colab": {
          "base_uri": "https://localhost:8080/"
        },
        "id": "7ac5f3a0-32e7-45a5-8564-b433d42eeeb2",
        "outputId": "3057f9fa-b71d-4c7c-88df-bf1f69dbac50"
      },
      "outputs": [
        {
          "output_type": "stream",
          "name": "stdout",
          "text": [
            "empty: Replies to empty questions\n",
            "advanced physics: Answers advanced physics questions\n",
            "beginner physics: Answers basic beginner physics questions\n"
          ]
        }
      ],
      "source": [
        "print(destinations_str)"
      ]
    },
    {
      "cell_type": "markdown",
      "id": "4c9c0879-3d03-4b2b-b98b-1476a809ed25",
      "metadata": {
        "id": "4c9c0879-3d03-4b2b-b98b-1476a809ed25"
      },
      "source": [
        "### Router Prompt"
      ]
    },
    {
      "cell_type": "code",
      "execution_count": 15,
      "id": "7dbfd595-c65a-49e6-91f6-026528f58e3f",
      "metadata": {
        "id": "7dbfd595-c65a-49e6-91f6-026528f58e3f"
      },
      "outputs": [],
      "source": [
        "from langchain.prompts import PromptTemplate\n",
        "from langchain.chains.router.llm_router import LLMRouterChain,RouterOutputParser"
      ]
    },
    {
      "cell_type": "code",
      "execution_count": 16,
      "id": "fefd428a-059e-41ba-b49e-b0016b72541b",
      "metadata": {
        "id": "fefd428a-059e-41ba-b49e-b0016b72541b"
      },
      "outputs": [],
      "source": [
        "router_template = MULTI_PROMPT_ROUTER_TEMPLATE.format(\n",
        "    destinations=destinations_str\n",
        ")\n",
        "router_prompt = PromptTemplate(\n",
        "    template=router_template,\n",
        "    input_variables=[\"input\"],\n",
        "    output_parser=RouterOutputParser(),\n",
        ")"
      ]
    },
    {
      "cell_type": "code",
      "execution_count": 17,
      "id": "cf19d2c3-0bbb-4a0d-8d69-ac177e814afa",
      "metadata": {
        "colab": {
          "base_uri": "https://localhost:8080/"
        },
        "id": "cf19d2c3-0bbb-4a0d-8d69-ac177e814afa",
        "outputId": "378728d3-c0df-451c-c067-a288240bf0c5"
      },
      "outputs": [
        {
          "output_type": "stream",
          "name": "stdout",
          "text": [
            "Given a raw text input to a language model select the model prompt best suited for the input. You will be given the names of the available prompts and a description of what the prompt is best suited for. You may also revise the original input if you think that revising it will ultimately lead to a better response from the language model.\n",
            "\n",
            "<< FORMATTING >>\n",
            "Return a markdown code snippet with a JSON object formatted to look like:\n",
            "```json\n",
            "{{\n",
            "    \"destination\": string \\ name of the prompt to use or \"DEFAULT\"\n",
            "    \"next_inputs\": string \\ a potentially modified version of the original input\n",
            "}}\n",
            "```\n",
            "\n",
            "REMEMBER: \"destination\" MUST be one of the candidate prompt names specified below OR it can be \"DEFAULT\" if the input is not well suited for any of the candidate prompts.\n",
            "REMEMBER: \"next_inputs\" can just be the original input if you don't think any modifications are needed.\n",
            "\n",
            "<< CANDIDATE PROMPTS >>\n",
            "empty: Replies to empty questions\n",
            "advanced physics: Answers advanced physics questions\n",
            "beginner physics: Answers basic beginner physics questions\n",
            "\n",
            "<< INPUT >>\n",
            "{input}\n",
            "\n",
            "<< OUTPUT (must include ```json at the start of the response) >>\n",
            "<< OUTPUT (must end with ```) >>\n",
            "\n"
          ]
        }
      ],
      "source": [
        "print(router_template)"
      ]
    },
    {
      "cell_type": "markdown",
      "id": "fd4ba041-a4fe-425d-a6e7-0d357dae6ef6",
      "metadata": {
        "id": "fd4ba041-a4fe-425d-a6e7-0d357dae6ef6"
      },
      "source": [
        "### Routing Chain Call"
      ]
    },
    {
      "cell_type": "code",
      "execution_count": 18,
      "id": "d1a82b26-438a-4882-bcdd-aa7548f4f961",
      "metadata": {
        "id": "d1a82b26-438a-4882-bcdd-aa7548f4f961"
      },
      "outputs": [],
      "source": [
        "from langchain.chains.router import MultiPromptChain"
      ]
    },
    {
      "cell_type": "code",
      "execution_count": 19,
      "id": "4100748e-75a5-4e40-998d-a3a959d9a58f",
      "metadata": {
        "id": "4100748e-75a5-4e40-998d-a3a959d9a58f"
      },
      "outputs": [],
      "source": [
        "router_chain = LLMRouterChain.from_llm(llm, router_prompt)"
      ]
    },
    {
      "cell_type": "code",
      "execution_count": 20,
      "id": "1e5600e9-f60f-466c-8321-ec2f32e0cbf1",
      "metadata": {
        "id": "1e5600e9-f60f-466c-8321-ec2f32e0cbf1"
      },
      "outputs": [],
      "source": [
        "chain = MultiPromptChain(router_chain=router_chain,\n",
        "                         destination_chains=destination_chains,\n",
        "                         default_chain=default_chain, verbose=True\n",
        "                        )"
      ]
    },
    {
      "cell_type": "code",
      "execution_count": 21,
      "id": "1a77635b-b475-4bdf-bb35-d0ca5983911d",
      "metadata": {
        "colab": {
          "base_uri": "https://localhost:8080/",
          "height": 263
        },
        "id": "1a77635b-b475-4bdf-bb35-d0ca5983911d",
        "outputId": "f01ed6cc-8387-41a3-8b30-fbf2f842d70b"
      },
      "outputs": [
        {
          "output_type": "stream",
          "name": "stderr",
          "text": [
            "/usr/local/lib/python3.10/dist-packages/langchain_core/_api/deprecation.py:119: LangChainDeprecationWarning: The method `Chain.run` was deprecated in langchain 0.1.0 and will be removed in 0.2.0. Use invoke instead.\n",
            "  warn_deprecated(\n"
          ]
        },
        {
          "output_type": "stream",
          "name": "stdout",
          "text": [
            "\n",
            "\n",
            "\u001b[1m> Entering new MultiPromptChain chain...\u001b[0m\n",
            "beginner physics: {'input': 'How do magnets work?'}\n",
            "\u001b[1m> Finished chain.\u001b[0m\n"
          ]
        },
        {
          "output_type": "execute_result",
          "data": {
            "text/plain": [
              "\"Great question! Let's break it down into simple terms. \\n\\nMagnets have something called magnetic fields, which are invisible forces that attract or repel certain materials. These materials are usually metals like iron, nickel, and cobalt.\\n\\nInside a magnet, there are tiny particles called electrons. These electrons move around in a specific way, creating the magnetic field. When two magnets are near each other, their magnetic fields interact. If the magnetic fields are facing in opposite directions, the magnets will attract each other. If the magnetic fields are facing in the same direction, the magnets will repel each other.\\n\\nSo basically, magnets work by creating magnetic fields that either attract or repel other magnets or magnetic materials. It's like a secret force that pulls or pushes things without us being able to see it!\""
            ],
            "application/vnd.google.colaboratory.intrinsic+json": {
              "type": "string"
            }
          },
          "metadata": {},
          "execution_count": 21
        }
      ],
      "source": [
        "chain.run(\"How do magnets work?\")"
      ]
    },
    {
      "cell_type": "code",
      "execution_count": 22,
      "id": "1c7ed272-808e-4974-ad21-6af0ba31fb98",
      "metadata": {
        "colab": {
          "base_uri": "https://localhost:8080/",
          "height": 226
        },
        "id": "1c7ed272-808e-4974-ad21-6af0ba31fb98",
        "outputId": "e617343b-e53a-4def-88ba-c9f29f184d59"
      },
      "outputs": [
        {
          "output_type": "stream",
          "name": "stdout",
          "text": [
            "\n",
            "\n",
            "\u001b[1m> Entering new MultiPromptChain chain...\u001b[0m\n",
            "advanced physics: {'input': 'How do Feynman Diagrams work?'}\n",
            "\u001b[1m> Finished chain.\u001b[0m\n"
          ]
        },
        {
          "output_type": "execute_result",
          "data": {
            "text/plain": [
              "'Feynman diagrams are graphical representations used in particle physics to visualize and calculate the interactions between particles. They were developed by physicist Richard Feynman in the 1940s as a way to simplify and understand complex quantum field theory calculations.\\n\\nIn Feynman diagrams, particles are represented by lines, with different types of particles indicated by different styles of lines (such as solid lines for fermions and wavy lines for bosons). The interactions between particles are represented by vertices, where lines come together and split apart. The vertices are associated with coupling constants that determine the strength of the interaction.\\n\\nThe lines in Feynman diagrams can also be associated with propagators, which represent the probability amplitude for a particle to propagate from one point to another in spacetime. The propagators depend on the mass and energy of the particle, as well as the momentum transfer between particles.\\n\\nBy combining these graphical elements, Feynman diagrams allow physicists to visualize and calculate the probability amplitudes for different particle interactions. These calculations can be used to predict the outcomes of particle collisions and other physical processes, providing valuable insights into the behavior of fundamental particles and the forces that govern their interactions.\\n\\nOverall, Feynman diagrams serve as a powerful tool for understanding the complex interactions of particles in quantum field theory, allowing physicists to make precise predictions about the behavior of the natural world at the smallest scales.'"
            ],
            "application/vnd.google.colaboratory.intrinsic+json": {
              "type": "string"
            }
          },
          "metadata": {},
          "execution_count": 22
        }
      ],
      "source": [
        "chain.run(\"How do Feynman Diagrams work?\")"
      ]
    },
    {
      "cell_type": "code",
      "execution_count": null,
      "id": "60400b3d-aab3-4dee-8b1e-f7096fa78aa3",
      "metadata": {
        "id": "60400b3d-aab3-4dee-8b1e-f7096fa78aa3"
      },
      "outputs": [],
      "source": []
    }
  ],
  "metadata": {
    "kernelspec": {
      "display_name": "Python 3 (ipykernel)",
      "language": "python",
      "name": "python3"
    },
    "language_info": {
      "codemirror_mode": {
        "name": "ipython",
        "version": 3
      },
      "file_extension": ".py",
      "mimetype": "text/x-python",
      "name": "python",
      "nbconvert_exporter": "python",
      "pygments_lexer": "ipython3",
      "version": "3.9.12"
    },
    "colab": {
      "provenance": []
    }
  },
  "nbformat": 4,
  "nbformat_minor": 5
}