{
  "nbformat": 4,
  "nbformat_minor": 0,
  "metadata": {
    "colab": {
      "provenance": []
    },
    "kernelspec": {
      "name": "python3",
      "display_name": "Python 3"
    },
    "language_info": {
      "name": "python"
    }
  },
  "cells": [
    {
      "cell_type": "code",
      "execution_count": 1,
      "metadata": {
        "colab": {
          "base_uri": "https://localhost:8080/"
        },
        "id": "C1NW96XuQFHL",
        "outputId": "9af1049d-2dc0-4729-f161-02618ee2d3aa"
      },
      "outputs": [
        {
          "output_type": "stream",
          "name": "stdout",
          "text": [
            "Epoch 1, Test accuracy: 0.8650\n",
            "Epoch 2, Test accuracy: 0.8350\n",
            "Epoch 3, Test accuracy: 0.4200\n",
            "Epoch 4, Test accuracy: 0.7500\n",
            "Epoch 5, Test accuracy: 0.8350\n",
            "Epoch 6, Test accuracy: 0.6300\n",
            "Epoch 7, Test accuracy: 0.8700\n",
            "Epoch 8, Test accuracy: 0.8450\n",
            "Epoch 9, Test accuracy: 0.8650\n",
            "Epoch 10, Test accuracy: 0.7750\n",
            "Final Test accuracy: 0.7750\n"
          ]
        }
      ],
      "source": [
        "from sklearn.datasets import make_classification\n",
        "from sklearn.linear_model import Perceptron\n",
        "import numpy as np\n",
        "\n",
        "# Generate a simple synthetic dataset\n",
        "X, y = make_classification(n_samples=1000, n_features=2, n_informative=2, n_redundant=0, random_state=42)\n",
        "\n",
        "# Split the dataset into training and test sets\n",
        "train_size = 800\n",
        "X_train, X_test = X[:train_size], X[train_size:]\n",
        "y_train, y_test = y[:train_size], y[train_size:]\n",
        "\n",
        "# Initialize the Perceptron model\n",
        "perceptron = Perceptron(max_iter=1, warm_start=True)\n",
        "\n",
        "# Simulate online learning by iterating through the dataset multiple times\n",
        "for epoch in range(10):  # Simulate 10 epochs\n",
        "    for i in range(train_size):\n",
        "        X_i = X_train[i].reshape(1, -1)\n",
        "        y_i = np.array([y_train[i]])\n",
        "        perceptron.partial_fit(X_i, y_i, classes=np.unique(y_train))\n",
        "\n",
        "    # Evaluate the model on the test set after each epoch\n",
        "    score = perceptron.score(X_test, y_test)\n",
        "    print(f\"Epoch {epoch + 1}, Test accuracy: {score:.4f}\")\n",
        "\n",
        "# Final evaluation\n",
        "final_score = perceptron.score(X_test, y_test)\n",
        "print(f\"Final Test accuracy: {final_score:.4f}\")\n"
      ]
    }
  ]
}