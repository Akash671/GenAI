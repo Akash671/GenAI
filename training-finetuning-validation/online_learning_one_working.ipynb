{
  "nbformat": 4,
  "nbformat_minor": 0,
  "metadata": {
    "colab": {
      "provenance": []
    },
    "kernelspec": {
      "name": "python3",
      "display_name": "Python 3"
    },
    "language_info": {
      "name": "python"
    }
  },
  "cells": [
    {
      "cell_type": "code",
      "source": [
        "import numpy as np\n",
        "from sklearn.linear_model import Perceptron\n",
        "from sklearn.datasets import make_classification\n",
        "import time\n",
        "\n",
        "# Initialize the Perceptron model\n",
        "perceptron = Perceptron(max_iter=1, warm_start=True)\n",
        "\n",
        "# Function to simulate online data stream\n",
        "def online_data_stream(n_samples=1000, n_features=2):\n",
        "    for _ in range(n_samples):\n",
        "        X, y = make_classification(n_samples=1, n_features=n_features, n_informative=n_features, n_redundant=0, random_state=None)\n",
        "        yield X[0], y[0]\n",
        "\n",
        "# Generate and process the online data stream\n",
        "n_samples = 1000\n",
        "test_accuracy_list = []\n",
        "for i, (X_i, y_i) in enumerate(online_data_stream(n_samples=n_samples)):\n",
        "    X_i = X_i.reshape(1, -1)\n",
        "    y_i = np.array([y_i])\n",
        "\n",
        "    # Update the model with the current data point\n",
        "    perceptron.partial_fit(X_i, y_i, classes=np.array([0, 1]))\n",
        "\n",
        "    # Every 100 samples, evaluate the model on a new batch of data\n",
        "    if (i + 1) % 100 == 0:\n",
        "        X_test, y_test = make_classification(n_samples=200, n_features=2, n_informative=2, n_redundant=0, random_state=42)\n",
        "        test_score = perceptron.score(X_test, y_test)\n",
        "        test_accuracy_list.append(test_score)\n",
        "        print(f\"Processed {i + 1} samples, Test accuracy: {test_score:.4f}\")\n",
        "        time.sleep(1)  # Simulate delay in data arrival\n",
        "\n",
        "# Final evaluation after all samples are processed\n",
        "print(\"Final Test Accuracies:\", test_accuracy_list)\n"
      ],
      "metadata": {
        "colab": {
          "base_uri": "https://localhost:8080/"
        },
        "id": "sWAHbs6WREZG",
        "outputId": "6a09c605-13ee-4030-ff80-0a7cad0ac675"
      },
      "execution_count": 1,
      "outputs": [
        {
          "output_type": "stream",
          "name": "stdout",
          "text": [
            "Processed 100 samples, Test accuracy: 0.7100\n",
            "Processed 200 samples, Test accuracy: 0.5000\n",
            "Processed 300 samples, Test accuracy: 0.5000\n",
            "Processed 400 samples, Test accuracy: 0.5000\n",
            "Processed 500 samples, Test accuracy: 0.6850\n",
            "Processed 600 samples, Test accuracy: 0.6700\n",
            "Processed 700 samples, Test accuracy: 0.5000\n",
            "Processed 800 samples, Test accuracy: 0.5000\n",
            "Processed 900 samples, Test accuracy: 0.5000\n",
            "Processed 1000 samples, Test accuracy: 0.5000\n",
            "Final Test Accuracies: [0.71, 0.5, 0.5, 0.5, 0.685, 0.67, 0.5, 0.5, 0.5, 0.5]\n"
          ]
        }
      ]
    }
  ]
}