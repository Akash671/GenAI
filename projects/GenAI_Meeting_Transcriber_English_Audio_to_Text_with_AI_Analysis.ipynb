{
  "nbformat": 4,
  "nbformat_minor": 0,
  "metadata": {
    "colab": {
      "provenance": []
    },
    "kernelspec": {
      "name": "python3",
      "display_name": "Python 3"
    },
    "language_info": {
      "name": "python"
    }
  },
  "cells": [
    {
      "cell_type": "markdown",
      "source": [
        "*Notes: Remember to ALWAYS mount drive!"
      ],
      "metadata": {
        "id": "JYDgRPzp9g8P"
      }
    },
    {
      "cell_type": "code",
      "source": [
        "pip install openai"
      ],
      "metadata": {
        "id": "w1UcKaKsj8cC"
      },
      "execution_count": null,
      "outputs": []
    },
    {
      "cell_type": "code",
      "source": [
        "import base64\n",
        "import requests\n",
        "import openai\n",
        "from openai import OpenAI\n",
        "\n"
      ],
      "metadata": {
        "id": "1zD7qlVnmd7y"
      },
      "execution_count": null,
      "outputs": []
    },
    {
      "cell_type": "code",
      "execution_count": null,
      "metadata": {
        "colab": {
          "base_uri": "https://localhost:8080/"
        },
        "id": "RWSJpsyKqHjH",
        "outputId": "538ca5e4-5081-4236-806e-d42e5a1fe0b6"
      },
      "outputs": [
        {
          "output_type": "stream",
          "name": "stdout",
          "text": [
            "Mounted at /content/drive\n"
          ]
        }
      ],
      "source": [
        "from google.colab import drive\n",
        "drive.mount('/content/drive')"
      ]
    },
    {
      "cell_type": "code",
      "source": [
        "API_KEY = 'c2staUFBT3BKZWxsTFlrZjlSeGJIc0RUM0JsYmtGSjVMTGY3ZlFSVEc0QmxJUm0walF6'\n",
        "\n",
        "\n",
        "# Your Base64 encoded string\n",
        "encoded_str = API_KEY  # This is 'Hello World!' in Base64\n",
        "\n",
        "# Decode the Base64 encoded string\n",
        "decoded_bytes = base64.b64decode(encoded_str)\n",
        "\n",
        "# Convert the bytes object to a string\n",
        "decoded_str = decoded_bytes.decode('utf-8')\n",
        "\n",
        "#print(decoded_str)\n",
        "client = OpenAI(api_key=decoded_str)\n"
      ],
      "metadata": {
        "id": "PHQ0jRIPmIZr"
      },
      "execution_count": null,
      "outputs": []
    },
    {
      "cell_type": "code",
      "source": [
        "def format_text(text, line_length=85):\n",
        "    text = str(text)\n",
        "    words = text.split()\n",
        "    formatted_text = \"\"\n",
        "    current_line = \"\"\n",
        "\n",
        "    for word in words:\n",
        "        if len(current_line) + len(word) + 1 <= line_length:\n",
        "            current_line += (word + \" \")\n",
        "        else:\n",
        "            formatted_text += current_line.rstrip() + \"\\n\"\n",
        "            current_line = word + \" \"\n",
        "\n",
        "    # Add the last line if it's not empty\n",
        "    if current_line:\n",
        "        formatted_text += current_line.rstrip()\n",
        "\n",
        "    return formatted_text"
      ],
      "metadata": {
        "id": "6fv73pX7KO5k"
      },
      "execution_count": null,
      "outputs": []
    },
    {
      "cell_type": "code",
      "source": [
        "# test_response\n",
        "headers = {\n",
        "    \"Content-Type\": \"application/json\",\n",
        "    \"Authorization\": f\"Bearer {decoded_str}\"\n",
        "}\n",
        "\n",
        "data = {\n",
        "    \"model\": \"gpt-3.5-turbo\",\n",
        "    \"messages\": [{\"role\": \"user\", \"content\": \"Say this is a test!\"}],\n",
        "    \"temperature\": 0.7\n",
        "}\n",
        "\n",
        "response = requests.post(\"https://api.openai.com/v1/chat/completions\", headers=headers, json=data)\n",
        "print(format_text(response.json()))\n"
      ],
      "metadata": {
        "colab": {
          "base_uri": "https://localhost:8080/"
        },
        "id": "rL1Ganlbl9S-",
        "outputId": "4512674f-aaab-47a7-e69c-bf064f10d221"
      },
      "execution_count": null,
      "outputs": [
        {
          "output_type": "stream",
          "name": "stdout",
          "text": [
            "{'id': 'chatcmpl-8o7Ah45PA7cZ61WAb8l6FYw595YPT', 'object': 'chat.completion',\n",
            "'created': 1706954659, 'model': 'gpt-3.5-turbo-0613', 'choices': [{'index': 0,\n",
            "'message': {'role': 'assistant', 'content': 'This is a test!'}, 'logprobs': None,\n",
            "'finish_reason': 'stop'}], 'usage': {'prompt_tokens': 13, 'completion_tokens': 5,\n",
            "'total_tokens': 18}, 'system_fingerprint': None}\n"
          ]
        }
      ]
    },
    {
      "cell_type": "code",
      "source": [
        "#audio transcription\n",
        "\n",
        "audio_file= open(\"/content/drive/MyDrive/HCL Project/Gen AI ML /Capstone/Capstone hcl/videoplayback.mp3\", \"rb\")\n",
        "transcript = client.audio.transcriptions.create(\n",
        "  model=\"whisper-1\",\n",
        "  file=audio_file\n",
        ")\n"
      ],
      "metadata": {
        "id": "tgnapIfu0-fn"
      },
      "execution_count": null,
      "outputs": []
    },
    {
      "cell_type": "code",
      "source": [
        "print(format_text((transcript)))\n",
        "print('\\n')\n",
        "print(type(transcript))\n"
      ],
      "metadata": {
        "colab": {
          "base_uri": "https://localhost:8080/"
        },
        "id": "MTV0VAlXI-8f",
        "outputId": "2f145627-474b-4d1a-f78f-17b60864aca3"
      },
      "execution_count": null,
      "outputs": [
        {
          "output_type": "stream",
          "name": "stdout",
          "text": [
            "Transcription(text=\"Hello Oh, well I have a youth and everybody boy with That's\n",
            "right. They don't say is what happened here. Did you hear today? Yes, he's here\n",
            "today How do you think his chance was there any chance to get a little talking\n",
            "picture of him We got all our sound equipment talking pick. Yeah, get all the sound\n",
            "equipment I hear in the truck bring it bring the stuff in Anthony right in here.\n",
            "Hurry up. You want to talk to you? Yeah, we want to get a talk He has a very feeble\n",
            "voice and moreover he has a very deep prejudice against being photographed at all If\n",
            "England does not grant your demand, what force of action will you follow them? Of\n",
            "course civil disobedience And all other phases of the Tiagra are always at our\n",
            "disposal But whether we shall resort to this weapon immediately or what other steps\n",
            "we shall take, I cannot judge at present If England grants your demands, Mr. Gandhi,\n",
            "do you intend to have complete prohibition in the new Indian states? Oh, yes\n",
            "Absolute prohibition? Absolute And do you intend also, if India wins its\n",
            "independence, to abolish child marriages? I should very much like to, even before Do\n",
            "you expect England this time will give India full self-government? That also is more\n",
            "than I can say But you are hopeful I am an optimist You are an optimist If you go to\n",
            "the second round-table conference, will you go attired in native Indian dress or\n",
            "will you prefer European dress? I should certainly not be found in European dress\n",
            "And if the weather permitted, I should present myself exactly as I am today And if\n",
            "the King of England invited you to dinner at Buckingham Palace, you would go in your\n",
            "customary Indian dress? In any other dress, I should be most discreet to him,\n",
            "because I should be artificial If England does not grant your demands, are you\n",
            "prepared to return to jail again? I am always prepared to return to jail Would you\n",
            "be prepared to die in the cause of India's independence? It is a bad question\")\n",
            "\n",
            "\n",
            "<class 'openai.types.audio.transcription.Transcription'>\n"
          ]
        }
      ]
    },
    {
      "cell_type": "code",
      "source": [
        "#Transcript Converter\n",
        "\n",
        "response = client.completions.create(\n",
        "  model=\"gpt-3.5-turbo-instruct\",\n",
        "  prompt=\"Write meeting minutes from the transcription \\n\" + format_text(transcript)\n",
        ")"
      ],
      "metadata": {
        "id": "fWeQfM2WKheb"
      },
      "execution_count": null,
      "outputs": []
    },
    {
      "cell_type": "code",
      "source": [
        "response = client.chat.completions.create(\n",
        "  model=\"gpt-3.5-turbo-0125\",\n",
        "  #response_format={ \"type\": \"json_object\" },\n",
        "  messages=[\n",
        "    {\"role\": \"system\", \"content\": \"You are a helpful assistant designed to provide meeting minutes from a given transcript. \\\n",
        "                                  Please analyze the following transcript and create detailed meeting minutes. \\\n",
        "                                  Ensure to include sections such as date, location, attendees, agenda, detailed points of discussion, action items, and next meeting details. \\\n",
        "                                  Here is the transcript: \\n\\n\" + format_text(transcript)},\n",
        "    {\"role\": \"assistant\", \"content\": \"Is there anything else you would like to know or any other assistance you need regarding this topic or something else?\"}\n",
        "    {\"role\": \"user\", \"content\": input()}\n",
        "  ]\n",
        ")\n",
        "response = format_text(response.choices[0].message.content)\n",
        "print(response)"
      ],
      "metadata": {
        "id": "ttCXbcETdyxX"
      },
      "execution_count": null,
      "outputs": []
    },
    {
      "cell_type": "markdown",
      "source": [
        "*Add [text streaming](https://platform.openai.com/docs/api-reference/streaming) to response smoother chat experience"
      ],
      "metadata": {
        "id": "mNHOh0zTyHn-"
      }
    },
    {
      "cell_type": "code",
      "source": [
        "user_response = client.chat.completions.create(\n",
        "  model=\"gpt-3.5-turbo-0125\",\n",
        "  #response_format={ \"type\": \"json_object\" },\n",
        "  messages=[\n",
        "    {\"role\": \"system\", \"content\": \"You are a helpful assistant that provided meeting minutes from a given transcript earlier. \\\n",
        "                                  Please provide any follow up help to the user. \\\n",
        "                                  Here is the meeting minutes from before: \\n\\n\" + format_text(response)},\n",
        "    {\"role\": \"assistant\", \"content\": input(\"Is there anything else you would like to know or any other assistance you need regarding this topic or something else?\\n\")}\n",
        "  ]\n",
        ")\n",
        "response = format_text(user_response.choices[0].message.content)\n",
        "print(response)"
      ],
      "metadata": {
        "colab": {
          "base_uri": "https://localhost:8080/"
        },
        "id": "8wWgHIojyeMt",
        "outputId": "5ceb2fbd-5ef2-44c6-f3c9-5d7be7342e79"
      },
      "execution_count": null,
      "outputs": [
        {
          "output_type": "stream",
          "name": "stdout",
          "text": [
            "Is there anything else you would like to know or any other assistance you need regarding this topic or something else?\n",
            "Hmm, how long would you estimate was this meeting\n",
            "As the meeting likely took place during the late 19th century to 1947, it's safe to\n",
            "assume that the duration of the meeting could have been anywhere from a few minutes\n",
            "to several hours, depending on the importance of the topic being discussed and the\n",
            "participants' schedules. If you need any more information or have any other\n",
            "questions, feel free to let me know!\n"
          ]
        }
      ]
    }
  ]
}