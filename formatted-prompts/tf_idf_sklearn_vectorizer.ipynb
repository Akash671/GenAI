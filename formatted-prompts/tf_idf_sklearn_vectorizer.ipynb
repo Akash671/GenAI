{
  "nbformat": 4,
  "nbformat_minor": 0,
  "metadata": {
    "colab": {
      "provenance": []
    },
    "kernelspec": {
      "name": "python3",
      "display_name": "Python 3"
    },
    "language_info": {
      "name": "python"
    }
  },
  "cells": [
    {
      "cell_type": "code",
      "source": [
        "import pandas as pd"
      ],
      "metadata": {
        "id": "dU0cK4zH_ZDj"
      },
      "execution_count": 4,
      "outputs": []
    },
    {
      "cell_type": "code",
      "source": [
        "from sklearn.feature_extraction.text import TfidfVectorizer\n",
        "\n",
        "data = [\"He is William\",\n",
        "        \"He is Peter\",\n",
        "        \"He isn't Antony who study Mathematics\"]\n",
        "\n",
        "# fit and tranform your data\n",
        "vectorizer = TfidfVectorizer()\n",
        "vectorized_matrix = vectorizer.fit_transform(data)\n",
        "vectorized_tokens = vectorizer.get_feature_names_out(data)\n",
        "\n",
        "print(vectorized_tokens)\n",
        "print(\"\")\n",
        "print(vectorized_matrix)\n",
        "print(\"\")\n",
        "print(vectorizer.get_stop_words())\n",
        ""
      ],
      "metadata": {
        "colab": {
          "base_uri": "https://localhost:8080/"
        },
        "id": "WWDmXNHIIX3f",
        "outputId": "e59026cf-03cc-4d85-e9c1-ac9b3ac1ea52"
      },
      "execution_count": 2,
      "outputs": [
        {
          "output_type": "stream",
          "name": "stdout",
          "text": [
            "['antony' 'he' 'is' 'isn' 'mathematics' 'peter' 'study' 'who' 'william']\n",
            "\n",
            "  (0, 8)\t0.7203334490549893\n",
            "  (0, 2)\t0.5478321549274363\n",
            "  (0, 1)\t0.4254405389711991\n",
            "  (1, 5)\t0.7203334490549893\n",
            "  (1, 2)\t0.5478321549274363\n",
            "  (1, 1)\t0.4254405389711991\n",
            "  (2, 4)\t0.4323850887896905\n",
            "  (2, 6)\t0.4323850887896905\n",
            "  (2, 7)\t0.4323850887896905\n",
            "  (2, 0)\t0.4323850887896905\n",
            "  (2, 3)\t0.4323850887896905\n",
            "  (2, 1)\t0.25537359879528915\n",
            "\n",
            "None\n"
          ]
        }
      ]
    },
    {
      "cell_type": "code",
      "source": [
        "# Initialize the TfidfVectorizer with default parameters\n",
        "vectorizer = TfidfVectorizer()\n",
        "\n",
        "# Fit and transform the data to calculate TF-IDF\n",
        "tfidf_matrix = vectorizer.fit_transform(data)\n",
        "\n",
        "# Get the feature names (unique words)\n",
        "feature_names = vectorizer.get_feature_names_out()\n",
        "\n",
        "# Get the TF-IDF values in a dense matrix\n",
        "dense_tfidf_matrix = tfidf_matrix.todense()\n",
        "\n",
        "# Create a DataFrame for TF-IDF values\n",
        "tfidf_df = pd.DataFrame(dense_tfidf_matrix, columns=feature_names)\n",
        "print(\"TF-IDF Matrix:\")\n",
        "print(tfidf_df)\n"
      ],
      "metadata": {
        "colab": {
          "base_uri": "https://localhost:8080/"
        },
        "id": "dO1rf2O0_Bgt",
        "outputId": "5d308adf-8bcf-47ff-d8a9-91e95a4a422c"
      },
      "execution_count": 5,
      "outputs": [
        {
          "output_type": "stream",
          "name": "stdout",
          "text": [
            "TF-IDF Matrix:\n",
            "     antony        he        is       isn  mathematics     peter     study  \\\n",
            "0  0.000000  0.425441  0.547832  0.000000     0.000000  0.000000  0.000000   \n",
            "1  0.000000  0.425441  0.547832  0.000000     0.000000  0.720333  0.000000   \n",
            "2  0.432385  0.255374  0.000000  0.432385     0.432385  0.000000  0.432385   \n",
            "\n",
            "        who   william  \n",
            "0  0.000000  0.720333  \n",
            "1  0.000000  0.000000  \n",
            "2  0.432385  0.000000  \n"
          ]
        }
      ]
    },
    {
      "cell_type": "code",
      "source": [
        "import numpy as np\n",
        "import pandas as pd\n",
        "from sklearn.feature_extraction.text import TfidfVectorizer\n",
        "\n",
        "# Define the small corpus\n",
        "data = [\"He is William\",\n",
        "        \"He is Peter\",\n",
        "        \"He isn't Antony who study Mathematics\"]\n",
        "\n",
        "# Initialize the TfidfVectorizer\n",
        "vectorizer = TfidfVectorizer()\n",
        "\n",
        "# Fit and transform the data to calculate TF-IDF\n",
        "tfidf_matrix = vectorizer.fit_transform(data)\n",
        "\n",
        "# Get the feature names (unique words)\n",
        "feature_names = vectorizer.get_feature_names_out()\n",
        "\n",
        "# Convert the TF-IDF matrix to a dense format\n",
        "dense_tfidf_matrix = tfidf_matrix.todense()\n",
        "\n",
        "# Create a DataFrame for TF-IDF values\n",
        "tfidf_df = pd.DataFrame(dense_tfidf_matrix, columns=feature_names)\n",
        "print(\"TF-IDF Matrix:\")\n",
        "print(tfidf_df)\n",
        "\n",
        "# Calculate Term Frequency (TF)\n",
        "def compute_tf(term, document):\n",
        "    return document.count(term) / len(document.split())\n",
        "\n",
        "tf_values = {term: [compute_tf(term, doc) for doc in data] for term in feature_names}\n",
        "tf_df = pd.DataFrame(tf_values)\n",
        "print(\"\\nTerm Frequency (TF) Matrix:\")\n",
        "print(tf_df)\n",
        "\n",
        "# Calculate Inverse Document Frequency (IDF)\n",
        "def compute_idf(term, documents):\n",
        "    num_docs_containing_term = sum(1 for doc in documents if term in doc.split())\n",
        "    return np.log((1 + len(documents)) / (1 + num_docs_containing_term)) + 1\n",
        "\n",
        "idf_values = {term: compute_idf(term, data) for term in feature_names}\n",
        "idf_df = pd.DataFrame(idf_values, index=[\"IDF\"]).T\n",
        "print(\"\\nInverse Document Frequency (IDF) Values:\")\n",
        "print(idf_df)\n",
        "\n",
        "# Calculate TF-IDF manually and normalize\n",
        "tfidf_manual_df = tf_df * idf_df.T.values\n",
        "tfidf_manual_df_normalized = tfidf_manual_df.div(np.sqrt((tfidf_manual_df**2).sum(axis=1)), axis=0)\n",
        "print(\"\\nTF-IDF Matrix (Manual Calculation, Normalized):\")\n",
        "print(tfidf_manual_df_normalized)\n"
      ],
      "metadata": {
        "colab": {
          "base_uri": "https://localhost:8080/"
        },
        "id": "v0LrjEdqAeZ7",
        "outputId": "1e7b7eda-46ee-4c24-fef4-7d81cad44dbb"
      },
      "execution_count": 6,
      "outputs": [
        {
          "output_type": "stream",
          "name": "stdout",
          "text": [
            "TF-IDF Matrix:\n",
            "     antony        he        is       isn  mathematics     peter     study  \\\n",
            "0  0.000000  0.425441  0.547832  0.000000     0.000000  0.000000  0.000000   \n",
            "1  0.000000  0.425441  0.547832  0.000000     0.000000  0.720333  0.000000   \n",
            "2  0.432385  0.255374  0.000000  0.432385     0.432385  0.000000  0.432385   \n",
            "\n",
            "        who   william  \n",
            "0  0.000000  0.720333  \n",
            "1  0.000000  0.000000  \n",
            "2  0.432385  0.000000  \n",
            "\n",
            "Term Frequency (TF) Matrix:\n",
            "   antony        he        is       isn  mathematics  peter     study  \\\n",
            "0     0.0  0.000000  0.333333  0.000000          0.0    0.0  0.000000   \n",
            "1     0.0  0.000000  0.333333  0.000000          0.0    0.0  0.000000   \n",
            "2     0.0  0.166667  0.166667  0.166667          0.0    0.0  0.166667   \n",
            "\n",
            "        who  william  \n",
            "0  0.000000      0.0  \n",
            "1  0.000000      0.0  \n",
            "2  0.166667      0.0  \n",
            "\n",
            "Inverse Document Frequency (IDF) Values:\n",
            "                  IDF\n",
            "antony       2.386294\n",
            "he           2.386294\n",
            "is           1.287682\n",
            "isn          2.386294\n",
            "mathematics  2.386294\n",
            "peter        2.386294\n",
            "study        1.693147\n",
            "who          1.693147\n",
            "william      2.386294\n",
            "\n",
            "TF-IDF Matrix (Manual Calculation, Normalized):\n",
            "   antony        he        is       isn  mathematics  peter     study  \\\n",
            "0     0.0  0.000000  1.000000  0.000000          0.0    0.0  0.000000   \n",
            "1     0.0  0.000000  1.000000  0.000000          0.0    0.0  0.000000   \n",
            "2     0.0  0.550645  0.297136  0.550645          0.0    0.0  0.390699   \n",
            "\n",
            "        who  william  \n",
            "0  0.000000      0.0  \n",
            "1  0.000000      0.0  \n",
            "2  0.390699      0.0  \n"
          ]
        }
      ]
    }
  ]
}