{
  "nbformat": 4,
  "nbformat_minor": 0,
  "metadata": {
    "colab": {
      "provenance": []
    },
    "kernelspec": {
      "name": "python3",
      "display_name": "Python 3"
    },
    "language_info": {
      "name": "python"
    }
  },
  "cells": [
    {
      "cell_type": "code",
      "source": [
        "from sklearn.feature_extraction.text import TfidfVectorizer\n",
        "\n",
        "data = [\"He is William\",\n",
        "        \"He is Peter\",\n",
        "        \"He isn't Antony who study Mathematics\"]\n",
        "\n",
        "# fit and tranform your data\n",
        "vectorizer = TfidfVectorizer()\n",
        "vectorized_matrix = vectorizer.fit_transform(data)\n",
        "vectorized_tokens = vectorizer.get_feature_names_out(data)\n",
        "\n",
        "print(vectorized_tokens)\n",
        "print(\"\")\n",
        "print(vectorized_matrix)\n",
        "print(\"\")\n",
        "print(vectorizer.get_stop_words())"
      ],
      "metadata": {
        "colab": {
          "base_uri": "https://localhost:8080/"
        },
        "id": "NX-VjXIp6sWy",
        "outputId": "197cb8ae-c63d-4649-bb62-6bd6e885c95f"
      },
      "execution_count": 4,
      "outputs": [
        {
          "output_type": "stream",
          "name": "stdout",
          "text": [
            "['antony' 'he' 'is' 'isn' 'mathematics' 'peter' 'study' 'who' 'william']\n",
            "\n",
            "  (0, 8)\t0.7203334490549893\n",
            "  (0, 2)\t0.5478321549274363\n",
            "  (0, 1)\t0.4254405389711991\n",
            "  (1, 5)\t0.7203334490549893\n",
            "  (1, 2)\t0.5478321549274363\n",
            "  (1, 1)\t0.4254405389711991\n",
            "  (2, 4)\t0.4323850887896905\n",
            "  (2, 6)\t0.4323850887896905\n",
            "  (2, 7)\t0.4323850887896905\n",
            "  (2, 0)\t0.4323850887896905\n",
            "  (2, 3)\t0.4323850887896905\n",
            "  (2, 1)\t0.25537359879528915\n",
            "\n",
            "None\n"
          ]
        }
      ]
    }
  ]
}