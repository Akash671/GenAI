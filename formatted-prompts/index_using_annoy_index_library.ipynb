{
  "nbformat": 4,
  "nbformat_minor": 0,
  "metadata": {
    "colab": {
      "provenance": []
    },
    "kernelspec": {
      "name": "python3",
      "display_name": "Python 3"
    },
    "language_info": {
      "name": "python"
    }
  },
  "cells": [
    {
      "cell_type": "code",
      "execution_count": 3,
      "metadata": {
        "colab": {
          "base_uri": "https://localhost:8080/"
        },
        "id": "6jdzzfxFJw7T",
        "outputId": "dc1b80cc-1203-4892-d906-c17b1cec82ed"
      },
      "outputs": [
        {
          "output_type": "stream",
          "name": "stdout",
          "text": [
            "Collecting annoy\n",
            "  Downloading annoy-1.17.3.tar.gz (647 kB)\n",
            "\u001b[?25l     \u001b[90m━━━━━━━━━━━━━━━━━━━━━━━━━━━━━━━━━━━━━━━━\u001b[0m \u001b[32m0.0/647.5 kB\u001b[0m \u001b[31m?\u001b[0m eta \u001b[36m-:--:--\u001b[0m\r\u001b[2K     \u001b[91m━━━━━━━━━━━━━━━━━━━━━━━━━━━━━━━━━━━━━━━\u001b[0m\u001b[91m╸\u001b[0m \u001b[32m645.1/647.5 kB\u001b[0m \u001b[31m19.2 MB/s\u001b[0m eta \u001b[36m0:00:01\u001b[0m\r\u001b[2K     \u001b[90m━━━━━━━━━━━━━━━━━━━━━━━━━━━━━━━━━━━━━━━━\u001b[0m \u001b[32m647.5/647.5 kB\u001b[0m \u001b[31m12.7 MB/s\u001b[0m eta \u001b[36m0:00:00\u001b[0m\n",
            "\u001b[?25h  Preparing metadata (setup.py) ... \u001b[?25l\u001b[?25hdone\n",
            "Building wheels for collected packages: annoy\n",
            "  Building wheel for annoy (setup.py) ... \u001b[?25l\u001b[?25hdone\n",
            "  Created wheel for annoy: filename=annoy-1.17.3-cp310-cp310-linux_x86_64.whl size=552449 sha256=58b6b1bf6c4d756e7b6d31a87f18485757e9264c87c2937fc5ab06ce2398d57c\n",
            "  Stored in directory: /root/.cache/pip/wheels/64/8a/da/f714bcf46c5efdcfcac0559e63370c21abe961c48e3992465a\n",
            "Successfully built annoy\n",
            "Installing collected packages: annoy\n",
            "Successfully installed annoy-1.17.3\n"
          ]
        }
      ],
      "source": [
        "!pip install annoy"
      ]
    },
    {
      "cell_type": "code",
      "source": [
        "from annoy import AnnoyIndex\n",
        "import numpy as np\n",
        "\n",
        "# Parameters\n",
        "num_vectors = 1000  # Number of vectors\n",
        "vector_dim = 128    # Dimension of each vector\n",
        "num_trees = 10      # Number of trees to build in the forest\n",
        "\n",
        "# Generate random vectors\n",
        "np.random.seed(42)\n",
        "vectors = np.random.random((num_vectors, vector_dim)).astype('float32')\n",
        "\n",
        "# Create an Annoy index\n",
        "index = AnnoyIndex(vector_dim, 'euclidean')  # You can also use 'angular', 'manhattan', 'dot', 'hamming'\n",
        "\n",
        "# Add vectors to the index\n",
        "for i in range(num_vectors):\n",
        "    index.add_item(i, vectors[i])\n",
        "\n",
        "# Build the index\n",
        "index.build(num_trees)\n",
        "\n",
        "# Save the index to disk (optional)\n",
        "index.save('annoy_index.ann')\n",
        "\n",
        "# Load the index from disk (optional)\n",
        "# index = AnnoyIndex(vector_dim, 'euclidean')\n",
        "# index.load('annoy_index.ann')\n",
        "\n",
        "# Query vector (let's assume this is the feature vector of the query item)\n",
        "query_vector = np.random.random((vector_dim,)).astype('float32')\n",
        "\n",
        "# Perform a search\n",
        "k = 5  # Number of nearest neighbors to retrieve\n",
        "nearest_neighbors = index.get_nns_by_vector(query_vector, k, include_distances=True)\n",
        "\n",
        "# Print the results\n",
        "print(\"Nearest neighbors (indices):\", nearest_neighbors[0])\n",
        "print(\"Distances:\", nearest_neighbors[1])\n"
      ],
      "metadata": {
        "colab": {
          "base_uri": "https://localhost:8080/"
        },
        "id": "psVyctVlKz1_",
        "outputId": "1fa1a286-76cd-467b-d950-21dd3d4ce4d2"
      },
      "execution_count": 4,
      "outputs": [
        {
          "output_type": "stream",
          "name": "stdout",
          "text": [
            "Nearest neighbors (indices): [468, 475, 64, 24, 828]\n",
            "Distances: [3.9180736541748047, 4.049760818481445, 4.1095147132873535, 4.116888523101807, 4.133156776428223]\n"
          ]
        }
      ]
    }
  ]
}