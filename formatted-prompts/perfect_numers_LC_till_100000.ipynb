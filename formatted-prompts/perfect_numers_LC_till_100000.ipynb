{
  "nbformat": 4,
  "nbformat_minor": 0,
  "metadata": {
    "colab": {
      "provenance": []
    },
    "kernelspec": {
      "name": "python3",
      "display_name": "Python 3"
    },
    "language_info": {
      "name": "python"
    }
  },
  "cells": [
    {
      "cell_type": "markdown",
      "source": [
        "# It takes 7 minutes to run the perfect number program using LC till 100000"
      ],
      "metadata": {
        "id": "5oP4m0vtvRKG"
      }
    },
    {
      "cell_type": "code",
      "execution_count": 10,
      "metadata": {
        "colab": {
          "base_uri": "https://localhost:8080/"
        },
        "id": "vQqkGJ3dr3WC",
        "outputId": "3ae59fc7-e118-4e9f-e99c-9b790f40624a"
      },
      "outputs": [
        {
          "output_type": "stream",
          "name": "stdout",
          "text": [
            "[6, 28, 496, 8128]\n"
          ]
        }
      ],
      "source": [
        "print([x for x in range(1,100000) if sum(y for y in range(1,x) if x%y == 0)==x])"
      ]
    },
    {
      "cell_type": "markdown",
      "source": [],
      "metadata": {
        "id": "BZrpGoOpvQAH"
      }
    }
  ]
}