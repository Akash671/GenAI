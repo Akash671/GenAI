{
  "nbformat": 4,
  "nbformat_minor": 0,
  "metadata": {
    "colab": {
      "provenance": []
    },
    "kernelspec": {
      "name": "python3",
      "display_name": "Python 3"
    },
    "language_info": {
      "name": "python"
    }
  },
  "cells": [
    {
      "cell_type": "markdown",
      "source": [
        "# Perfect numbers generation using list comprehension"
      ],
      "metadata": {
        "id": "RPrcs-f0NUnV"
      }
    },
    {
      "cell_type": "code",
      "source": [
        "# print a perfect numbers till 10000 using list comprehension\n",
        "print([x for x in range(1,10000) if sum(y for y in range(1,x) if x%y == 0) == x])"
      ],
      "metadata": {
        "colab": {
          "base_uri": "https://localhost:8080/"
        },
        "id": "3WitiRgDI7aq",
        "outputId": "2d6af0dc-1ac5-43f5-9f25-49528349064e"
      },
      "execution_count": 26,
      "outputs": [
        {
          "output_type": "stream",
          "name": "stdout",
          "text": [
            "[6, 28, 496, 8128]\n"
          ]
        }
      ]
    }
  ]
}