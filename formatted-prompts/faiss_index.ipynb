{
  "nbformat": 4,
  "nbformat_minor": 0,
  "metadata": {
    "colab": {
      "provenance": []
    },
    "kernelspec": {
      "name": "python3",
      "display_name": "Python 3"
    },
    "language_info": {
      "name": "python"
    }
  },
  "cells": [
    {
      "cell_type": "code",
      "execution_count": 1,
      "metadata": {
        "colab": {
          "base_uri": "https://localhost:8080/"
        },
        "id": "6jdzzfxFJw7T",
        "outputId": "cf4a1f9d-7990-407f-d2fe-164d85ee9e72"
      },
      "outputs": [
        {
          "output_type": "stream",
          "name": "stdout",
          "text": [
            "Collecting faiss-cpu\n",
            "  Downloading faiss_cpu-1.8.0.post1-cp310-cp310-manylinux_2_17_x86_64.manylinux2014_x86_64.whl.metadata (3.7 kB)\n",
            "Requirement already satisfied: numpy<2.0,>=1.0 in /usr/local/lib/python3.10/dist-packages (from faiss-cpu) (1.26.4)\n",
            "Requirement already satisfied: packaging in /usr/local/lib/python3.10/dist-packages (from faiss-cpu) (24.1)\n",
            "Downloading faiss_cpu-1.8.0.post1-cp310-cp310-manylinux_2_17_x86_64.manylinux2014_x86_64.whl (27.0 MB)\n",
            "\u001b[2K   \u001b[90m━━━━━━━━━━━━━━━━━━━━━━━━━━━━━━━━━━━━━━━━\u001b[0m \u001b[32m27.0/27.0 MB\u001b[0m \u001b[31m18.1 MB/s\u001b[0m eta \u001b[36m0:00:00\u001b[0m\n",
            "\u001b[?25hInstalling collected packages: faiss-cpu\n",
            "Successfully installed faiss-cpu-1.8.0.post1\n"
          ]
        }
      ],
      "source": [
        "!pip install faiss-cpu\n"
      ]
    },
    {
      "cell_type": "code",
      "source": [
        "import faiss\n",
        "import numpy as np\n",
        "\n",
        "# Assume we have 1000 image feature vectors of dimension 128\n",
        "np.random.seed(42)\n",
        "image_vectors = np.random.random((1000, 128)).astype('float32')\n",
        "\n",
        "# Create a FAISS index\n",
        "index = faiss.IndexFlatL2(128)  # L2 distance (Euclidean distance)\n",
        "\n",
        "# Add vectors to the index\n",
        "index.add(image_vectors)\n",
        "\n",
        "# Query vector (let's assume this is the feature vector of the query image)\n",
        "query_vector = np.random.random((1, 128)).astype('float32')\n",
        "\n",
        "# Perform a search\n",
        "k = 5  # number of nearest neighbors to retrieve\n",
        "distances, indices = index.search(query_vector, k)\n",
        "\n",
        "# Print the results\n",
        "print(\"Nearest neighbors (indices):\", indices)\n",
        "print(\"Distances:\", distances)\n"
      ],
      "metadata": {
        "colab": {
          "base_uri": "https://localhost:8080/"
        },
        "id": "RVkRZnN-J4MB",
        "outputId": "97f7975b-f4ea-47a1-8a8b-090345b2dd1a"
      },
      "execution_count": 2,
      "outputs": [
        {
          "output_type": "stream",
          "name": "stdout",
          "text": [
            "Nearest neighbors (indices): [[468 771  12 475 284]]\n",
            "Distances: [[15.351301 16.348877 16.365719 16.400562 16.520393]]\n"
          ]
        }
      ]
    }
  ]
}