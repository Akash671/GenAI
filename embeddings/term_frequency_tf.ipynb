{
  "nbformat": 4,
  "nbformat_minor": 0,
  "metadata": {
    "colab": {
      "provenance": []
    },
    "kernelspec": {
      "name": "python3",
      "display_name": "Python 3"
    },
    "language_info": {
      "name": "python"
    }
  },
  "cells": [
    {
      "cell_type": "code",
      "execution_count": 1,
      "metadata": {
        "colab": {
          "base_uri": "https://localhost:8080/"
        },
        "id": "fnZi02Y2-o4k",
        "outputId": "7269c95f-85f4-407d-eea2-9337cf7a0d03"
      },
      "outputs": [
        {
          "output_type": "stream",
          "name": "stdout",
          "text": [
            "Vocabulary: ['are' 'can' 'create' 'embeddings' 'example' 'is' 'small' 'tensorflow'\n",
            " 'this' 'to' 'use' 'useful' 'very' 'we' 'word']\n",
            "Term Frequency Matrix:\n",
            " [[0 0 0 0 1 1 1 0 1 0 0 0 0 0 0]\n",
            " [1 0 0 1 0 0 0 0 0 0 0 1 1 0 1]\n",
            " [0 1 1 1 0 0 0 1 0 1 1 0 0 1 0]]\n"
          ]
        }
      ],
      "source": [
        "from sklearn.feature_extraction.text import CountVectorizer\n",
        "\n",
        "# Sample corpus\n",
        "corpus = [\n",
        "    \"this is a small example\",\n",
        "    \"word embeddings are very useful\",\n",
        "    \"we can use tensorflow to create embeddings\"\n",
        "]\n",
        "\n",
        "# Initialize the CountVectorizer with term frequency\n",
        "vectorizer = CountVectorizer()\n",
        "\n",
        "# Fit and transform the corpus to term frequency vectors\n",
        "X = vectorizer.fit_transform(corpus)\n",
        "\n",
        "# Convert the term frequency matrix to an array\n",
        "tf_array = X.toarray()\n",
        "\n",
        "# Get the feature names (vocabulary)\n",
        "feature_names = vectorizer.get_feature_names_out()\n",
        "\n",
        "print(\"Vocabulary:\", feature_names)\n",
        "print(\"Term Frequency Matrix:\\n\", tf_array)\n"
      ]
    }
  ]
}