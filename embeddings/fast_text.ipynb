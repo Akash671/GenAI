{
  "nbformat": 4,
  "nbformat_minor": 0,
  "metadata": {
    "colab": {
      "provenance": []
    },
    "kernelspec": {
      "name": "python3",
      "display_name": "Python 3"
    },
    "language_info": {
      "name": "python"
    }
  },
  "cells": [
    {
      "cell_type": "code",
      "source": [
        "!pip install fasttext"
      ],
      "metadata": {
        "colab": {
          "base_uri": "https://localhost:8080/"
        },
        "id": "O8CDTLsIVGaO",
        "outputId": "097966a4-4053-4c25-dd30-d2253f638150"
      },
      "execution_count": 2,
      "outputs": [
        {
          "output_type": "stream",
          "name": "stdout",
          "text": [
            "Collecting fasttext\n",
            "  Downloading fasttext-0.9.3.tar.gz (73 kB)\n",
            "\u001b[?25l     \u001b[90m━━━━━━━━━━━━━━━━━━━━━━━━━━━━━━━━━━━━━━━━\u001b[0m \u001b[32m0.0/73.4 kB\u001b[0m \u001b[31m?\u001b[0m eta \u001b[36m-:--:--\u001b[0m\r\u001b[2K     \u001b[90m━━━━━━━━━━━━━━━━━━━━━━━━━━━━━━━━━━━━━━━━\u001b[0m \u001b[32m73.4/73.4 kB\u001b[0m \u001b[31m4.0 MB/s\u001b[0m eta \u001b[36m0:00:00\u001b[0m\n",
            "\u001b[?25h  Installing build dependencies ... \u001b[?25l\u001b[?25hdone\n",
            "  Getting requirements to build wheel ... \u001b[?25l\u001b[?25hdone\n",
            "  Preparing metadata (pyproject.toml) ... \u001b[?25l\u001b[?25hdone\n",
            "Collecting pybind11>=2.2 (from fasttext)\n",
            "  Using cached pybind11-2.13.1-py3-none-any.whl.metadata (9.5 kB)\n",
            "Requirement already satisfied: setuptools>=0.7.0 in /usr/local/lib/python3.10/dist-packages (from fasttext) (71.0.4)\n",
            "Requirement already satisfied: numpy in /usr/local/lib/python3.10/dist-packages (from fasttext) (1.25.2)\n",
            "Using cached pybind11-2.13.1-py3-none-any.whl (238 kB)\n",
            "Building wheels for collected packages: fasttext\n",
            "  Building wheel for fasttext (pyproject.toml) ... \u001b[?25l\u001b[?25hdone\n",
            "  Created wheel for fasttext: filename=fasttext-0.9.3-cp310-cp310-linux_x86_64.whl size=4246763 sha256=215c8c89167f4cb3ab1ea040f80292f64d54060ca9784781c1106e987a7e40af\n",
            "  Stored in directory: /root/.cache/pip/wheels/0d/a2/00/81db54d3e6a8199b829d58e02cec2ddb20ce3e59fad8d3c92a\n",
            "Successfully built fasttext\n",
            "Installing collected packages: pybind11, fasttext\n",
            "Successfully installed fasttext-0.9.3 pybind11-2.13.1\n"
          ]
        }
      ]
    },
    {
      "cell_type": "code",
      "execution_count": 4,
      "metadata": {
        "colab": {
          "base_uri": "https://localhost:8080/"
        },
        "id": "U0jalo0yVAWN",
        "outputId": "c5cc124e-7ab2-4600-b3d6-8458cc18a844"
      },
      "outputs": [
        {
          "output_type": "stream",
          "name": "stdout",
          "text": [
            "Embedding for 'example':\n",
            "[-2.4393098e-04 -5.6148297e-04  2.4076665e-04  6.9271028e-04\n",
            " -3.7055201e-05  6.5365562e-04  1.3711984e-05 -2.2017102e-04\n",
            "  9.2387083e-05  4.2749249e-04  2.1986014e-04  9.1403235e-05\n",
            " -2.9554163e-04  5.9356255e-04  4.0401278e-06  5.8608657e-05\n",
            " -5.2007847e-05 -3.6383695e-05 -1.5007766e-04  1.8299344e-05\n",
            "  2.2875813e-06 -1.3471176e-06 -1.0295703e-04 -7.4371041e-05\n",
            " -1.9800900e-04  1.6675574e-04  2.9925414e-04  2.8467402e-04\n",
            " -9.3749768e-06 -3.4296623e-04 -2.8782808e-05 -4.0271792e-05\n",
            "  2.0030043e-04 -1.3979839e-04  4.6719823e-04  5.9041777e-04\n",
            " -5.2185572e-04 -7.8424928e-04  4.6114812e-05  1.0407977e-04\n",
            "  4.9928814e-04  3.6584554e-04 -1.4759127e-04 -3.2363459e-06\n",
            "  4.4714328e-04 -6.7128171e-04 -3.3191664e-04 -3.3116792e-04\n",
            "  5.9327501e-04  1.0943865e-04  3.7162926e-04  4.8612067e-04\n",
            " -8.4104810e-05 -2.4656978e-04 -3.8864225e-04 -4.9194595e-04\n",
            " -1.5878149e-04  5.1723735e-04 -9.7006072e-05  3.0525142e-04\n",
            " -4.4083697e-04 -3.0858320e-04 -2.0822386e-04  2.2090000e-05\n",
            "  2.9861339e-04 -6.4753287e-04 -2.7952701e-04  3.0956315e-04\n",
            "  4.0309460e-04  2.6732907e-06 -3.3597497e-04  6.1794510e-04\n",
            "  2.3434011e-04 -1.5943483e-04  6.8051922e-05 -2.9623730e-04\n",
            "  5.7648396e-04 -3.9066817e-04 -6.2727247e-04 -1.2802958e-04\n",
            "  4.0752991e-04  1.6207820e-04 -5.9335917e-04  9.6368829e-05\n",
            "  4.3404136e-05  5.4791168e-04  1.5439535e-04 -4.5741038e-04\n",
            " -2.6508211e-04 -8.6614178e-05 -7.1862066e-04 -9.1209869e-05\n",
            "  5.8347284e-04  1.5163621e-04 -4.0384414e-04  2.0555394e-04\n",
            "  1.5178198e-04 -1.6304517e-04  4.6731572e-04 -1.5631728e-04]\n"
          ]
        }
      ],
      "source": [
        "import fasttext\n",
        "\n",
        "# Create a sample text file with your corpus\n",
        "# Each line should be a sentence\n",
        "with open('corpus.txt', 'w') as f:\n",
        "    f.write(\"this is a small example\\n\")\n",
        "    f.write(\"word embeddings are very useful\\n\")\n",
        "    f.write(\"we can use tensorflow to create embeddings\\n\")\n",
        "\n",
        "# Train FastText model on your corpus, setting minCount to 1\n",
        "model = fasttext.train_unsupervised('corpus.txt', model='skipgram', dim=100, minCount=1) # Set minCount to 1 to include all words\n",
        "\n",
        "# Example usage: get the embedding for a word\n",
        "word = 'example'\n",
        "embedding = model.get_word_vector(word)\n",
        "\n",
        "print(f\"Embedding for '{word}':\\n{embedding}\")"
      ]
    }
  ]
}