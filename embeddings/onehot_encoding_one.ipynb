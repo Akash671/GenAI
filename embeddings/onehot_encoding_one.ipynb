{
  "nbformat": 4,
  "nbformat_minor": 0,
  "metadata": {
    "colab": {
      "provenance": []
    },
    "kernelspec": {
      "name": "python3",
      "display_name": "Python 3"
    },
    "language_info": {
      "name": "python"
    }
  },
  "cells": [
    {
      "cell_type": "code",
      "source": [
        "from numpy import array\n",
        "from numpy import argmax\n",
        "from sklearn.preprocessing import LabelEncoder\n",
        "from sklearn.preprocessing import OneHotEncoder\n",
        "# define example\n",
        "data = ['Tiger','Cheetah','Cougar','Leopard', 'Cheetah', 'Cougar', 'Panther', 'Jaguar', 'Eurasian lynx', 'Tiger']\n",
        "values = array(data)\n",
        "print(values)\n",
        "# integer encode\n",
        "label_encoder = LabelEncoder()\n",
        "integer_encoded = label_encoder.fit_transform(values)\n",
        "print(integer_encoded)"
      ],
      "metadata": {
        "colab": {
          "base_uri": "https://localhost:8080/"
        },
        "id": "V-tQNmK180Y-",
        "outputId": "4209a4a4-8319-4c52-acd0-b64233794c27"
      },
      "execution_count": 2,
      "outputs": [
        {
          "output_type": "stream",
          "name": "stdout",
          "text": [
            "['Tiger' 'Cheetah' 'Cougar' 'Leopard' 'Cheetah' 'Cougar' 'Panther'\n",
            " 'Jaguar' 'Eurasian lynx' 'Tiger']\n",
            "[6 0 1 4 0 1 5 3 2 6]\n"
          ]
        }
      ]
    },
    {
      "cell_type": "code",
      "execution_count": 3,
      "metadata": {
        "colab": {
          "base_uri": "https://localhost:8080/"
        },
        "id": "tKIm_CwR8fIp",
        "outputId": "eebebbc9-093e-4c4f-d238-f25e278ce327"
      },
      "outputs": [
        {
          "output_type": "stream",
          "name": "stdout",
          "text": [
            "['Tiger' 'Cheetah' 'Cougar' 'Leopard' 'Cheetah' 'Cougar' 'Panther'\n",
            " 'Jaguar' 'Eurasian lynx' 'Tiger']\n",
            "[[0. 0. 0. 0. 0. 0. 1.]\n",
            " [1. 0. 0. 0. 0. 0. 0.]\n",
            " [0. 1. 0. 0. 0. 0. 0.]\n",
            " [0. 0. 0. 0. 1. 0. 0.]\n",
            " [1. 0. 0. 0. 0. 0. 0.]\n",
            " [0. 1. 0. 0. 0. 0. 0.]\n",
            " [0. 0. 0. 0. 0. 1. 0.]\n",
            " [0. 0. 0. 1. 0. 0. 0.]\n",
            " [0. 0. 1. 0. 0. 0. 0.]\n",
            " [0. 0. 0. 0. 0. 0. 1.]]\n"
          ]
        },
        {
          "output_type": "stream",
          "name": "stderr",
          "text": [
            "/usr/local/lib/python3.10/dist-packages/sklearn/preprocessing/_encoders.py:868: FutureWarning: `sparse` was renamed to `sparse_output` in version 1.2 and will be removed in 1.4. `sparse_output` is ignored unless you leave `sparse` to its default value.\n",
            "  warnings.warn(\n"
          ]
        }
      ],
      "source": [
        "from sklearn.preprocessing import OneHotEncoder\n",
        "# binary encode\n",
        "onehot_encoder = OneHotEncoder(sparse=False,categories='auto')\n",
        "integer_encoded = integer_encoded.reshape(len(integer_encoded), 1)\n",
        "onehot_encoded = onehot_encoder.fit_transform(integer_encoded)\n",
        "print(values)\n",
        "print(onehot_encoded)"
      ]
    },
    {
      "cell_type": "code",
      "source": [
        "import numpy as np\n",
        "\n",
        "def one_hot_encode(corpus):\n",
        "    # Create a vocabulary of unique words\n",
        "    vocabulary = sorted(set(corpus))\n",
        "    word_to_index = {word: idx for idx, word in enumerate(vocabulary)}\n",
        "\n",
        "    # Initialize a matrix for one-hot encoding\n",
        "    one_hot_matrix = np.zeros((len(corpus), len(vocabulary)), dtype=int)\n",
        "\n",
        "    # Create one-hot vectors for each word in the corpus\n",
        "    for i, word in enumerate(corpus):\n",
        "        one_hot_matrix[i, word_to_index[word]] = 1\n",
        "\n",
        "    return one_hot_matrix, word_to_index\n",
        "\n",
        "# Example usage\n",
        "corpus = [\"this\", \"is\", \"a\", \"simple\", \"example\"]\n",
        "one_hot_matrix, word_to_index = one_hot_encode(corpus)\n",
        "\n",
        "print(\"Vocabulary:\", word_to_index)\n",
        "print(\"One-Hot Encoded Matrix:\\n\", one_hot_matrix)\n"
      ],
      "metadata": {
        "colab": {
          "base_uri": "https://localhost:8080/"
        },
        "id": "XLCJRgY09e0c",
        "outputId": "02ecbb9c-2b48-496d-f2df-467193d8af6c"
      },
      "execution_count": 4,
      "outputs": [
        {
          "output_type": "stream",
          "name": "stdout",
          "text": [
            "Vocabulary: {'a': 0, 'example': 1, 'is': 2, 'simple': 3, 'this': 4}\n",
            "One-Hot Encoded Matrix:\n",
            " [[0 0 0 0 1]\n",
            " [0 0 1 0 0]\n",
            " [1 0 0 0 0]\n",
            " [0 0 0 1 0]\n",
            " [0 1 0 0 0]]\n"
          ]
        }
      ]
    }
  ]
}