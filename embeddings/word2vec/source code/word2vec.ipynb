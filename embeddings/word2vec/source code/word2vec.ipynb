{
  "cells": [
    {
      "cell_type": "markdown",
      "metadata": {
        "id": "VPblRypCrCtC"
      },
      "source": [
        "## word2vec implementation with Python (& Gensim)\n",
        "- Note: This code is written in Python 3.6.1 (+Gensim 2.3.0)"
      ]
    },
    {
      "cell_type": "code",
      "source": [
        "import nltk\n",
        "nltk.download('gutenberg')\n",
        "nltk.download('punkt')"
      ],
      "metadata": {
        "colab": {
          "base_uri": "https://localhost:8080/"
        },
        "id": "wKn1CHuUrETd",
        "outputId": "6b636ec8-9cc9-4ce2-ef73-3ab7d3f7a339"
      },
      "execution_count": 1,
      "outputs": [
        {
          "output_type": "stream",
          "name": "stderr",
          "text": [
            "[nltk_data] Downloading package gutenberg to /root/nltk_data...\n",
            "[nltk_data]   Unzipping corpora/gutenberg.zip.\n",
            "[nltk_data] Downloading package punkt to /root/nltk_data...\n",
            "[nltk_data]   Unzipping tokenizers/punkt.zip.\n"
          ]
        },
        {
          "output_type": "execute_result",
          "data": {
            "text/plain": [
              "True"
            ]
          },
          "metadata": {},
          "execution_count": 1
        }
      ]
    },
    {
      "cell_type": "code",
      "execution_count": 2,
      "metadata": {
        "collapsed": true,
        "id": "NotzIQQsrCtD"
      },
      "outputs": [],
      "source": [
        "import re\n",
        "import numpy as np\n",
        "\n",
        "from gensim.models import Word2Vec\n",
        "from nltk.corpus import gutenberg\n",
        "from multiprocessing import Pool\n",
        "from scipy import spatial"
      ]
    },
    {
      "cell_type": "markdown",
      "metadata": {
        "id": "RsKTUjwQrCtE"
      },
      "source": [
        "### Import training dataset\n",
        "- Import Shakespeare's Hamlet corpus from nltk library"
      ]
    },
    {
      "cell_type": "code",
      "execution_count": 3,
      "metadata": {
        "collapsed": true,
        "id": "t7B9kh1YrCtE"
      },
      "outputs": [],
      "source": [
        "sentences = list(gutenberg.sents('shakespeare-hamlet.txt'))   # import the corpus and convert into a list"
      ]
    },
    {
      "cell_type": "code",
      "execution_count": 4,
      "metadata": {
        "colab": {
          "base_uri": "https://localhost:8080/"
        },
        "id": "GNROrWP8rCtE",
        "outputId": "abb2634c-65a4-44dd-deac-83b531e8a406"
      },
      "outputs": [
        {
          "output_type": "stream",
          "name": "stdout",
          "text": [
            "Type of corpus:  <class 'list'>\n",
            "Length of corpus:  3106\n"
          ]
        }
      ],
      "source": [
        "print('Type of corpus: ', type(sentences))\n",
        "print('Length of corpus: ', len(sentences))"
      ]
    },
    {
      "cell_type": "code",
      "execution_count": 5,
      "metadata": {
        "colab": {
          "base_uri": "https://localhost:8080/"
        },
        "id": "wRLzFWwbrCtF",
        "outputId": "8f1aeeb0-df5a-4118-e80b-93f882ba3402"
      },
      "outputs": [
        {
          "output_type": "stream",
          "name": "stdout",
          "text": [
            "['[', 'The', 'Tragedie', 'of', 'Hamlet', 'by', 'William', 'Shakespeare', '1599', ']']\n",
            "['Actus', 'Primus', '.']\n",
            "['Fran', '.']\n"
          ]
        }
      ],
      "source": [
        "print(sentences[0])    # title, author, and year\n",
        "print(sentences[1])\n",
        "print(sentences[10])"
      ]
    },
    {
      "cell_type": "markdown",
      "metadata": {
        "id": "rroK3UyarCtF"
      },
      "source": [
        "### Preprocess data\n",
        "- Use re module to preprocess data\n",
        "- Convert all letters into lowercase\n",
        "- Remove punctuations, numbers, etc."
      ]
    },
    {
      "cell_type": "code",
      "execution_count": 6,
      "metadata": {
        "collapsed": true,
        "id": "UyBUZhjXrCtF"
      },
      "outputs": [],
      "source": [
        "for i in range(len(sentences)):\n",
        "    sentences[i] = [word.lower() for word in sentences[i] if re.match('^[a-zA-Z]+', word)]"
      ]
    },
    {
      "cell_type": "code",
      "execution_count": 7,
      "metadata": {
        "colab": {
          "base_uri": "https://localhost:8080/"
        },
        "id": "EW0tfG6BrCtF",
        "outputId": "49758bec-5aa1-4353-8e7b-77d7638674b0"
      },
      "outputs": [
        {
          "output_type": "stream",
          "name": "stdout",
          "text": [
            "['the', 'tragedie', 'of', 'hamlet', 'by', 'william', 'shakespeare']\n",
            "['actus', 'primus']\n",
            "['fran']\n"
          ]
        }
      ],
      "source": [
        "print(sentences[0])    # title, author, and year\n",
        "print(sentences[1])\n",
        "print(sentences[10])"
      ]
    },
    {
      "cell_type": "markdown",
      "metadata": {
        "id": "dLBHNAeerCtF"
      },
      "source": [
        "### Create and train model\n",
        "- Create a word2vec model and train it with Hamlet corpus\n",
        "- Key parameter description (https://radimrehurek.com/gensim/models/word2vec.html)\n",
        "    - **sentences**: training data (has to be a list with tokenized sentences)\n",
        "    - **size**: dimension of embedding space\n",
        "    - **sg**: CBOW if 0, skip-gram if 1\n",
        "    - **window**: number of words accounted for each context (if the window size is 3, 3 word in the left neighorhood and 3 word in the right neighborhood are considered)\n",
        "    - **min_count**: minimum count of words to be included in the vocabulary\n",
        "    - **iter**: number of training iterations\n",
        "    - **workers**: number of worker threads to train"
      ]
    },
    {
      "cell_type": "code",
      "execution_count": 10,
      "metadata": {
        "collapsed": true,
        "id": "gqL_bCX2rCtF"
      },
      "outputs": [],
      "source": [
        "#model = Word2Vec(sentences = sentences, size = 100, sg = 1, window = 3, min_count = 1, iter = 10, workers = Pool()._processes)\n",
        "model = Word2Vec(sentences = sentences, vector_size = 100, sg = 1, window = 3, min_count = 1, epochs = 10, workers = Pool()._processes)\n"
      ]
    },
    {
      "cell_type": "code",
      "execution_count": 11,
      "metadata": {
        "collapsed": true,
        "colab": {
          "base_uri": "https://localhost:8080/"
        },
        "id": "PvyVG0dErCtG",
        "outputId": "3199edd6-2376-49d1-8f06-152fe564344a"
      },
      "outputs": [
        {
          "output_type": "stream",
          "name": "stderr",
          "text": [
            "<ipython-input-11-7f554896ee84>:1: DeprecationWarning: Call to deprecated `init_sims` (Gensim 4.0.0 implemented internal optimizations that make calls to init_sims() unnecessary. init_sims() is now obsoleted and will be completely removed in future versions. See https://github.com/RaRe-Technologies/gensim/wiki/Migrating-from-Gensim-3.x-to-4).\n",
            "  model.init_sims(replace = True)\n",
            "WARNING:gensim.models.keyedvectors:destructive init_sims(replace=True) deprecated & no longer required for space-efficiency\n"
          ]
        }
      ],
      "source": [
        "model.init_sims(replace = True)"
      ]
    },
    {
      "cell_type": "markdown",
      "metadata": {
        "id": "Z9kQOKJ4rCtG"
      },
      "source": [
        "### Save and load model\n",
        "- word2vec model can be saved and loaded locally\n",
        "- Doing so can reduce time to train model again"
      ]
    },
    {
      "cell_type": "code",
      "execution_count": 12,
      "metadata": {
        "collapsed": true,
        "id": "rUz4pafUrCtG"
      },
      "outputs": [],
      "source": [
        "model.save('word2vec_model')"
      ]
    },
    {
      "cell_type": "code",
      "execution_count": 13,
      "metadata": {
        "collapsed": true,
        "id": "KSCL2mN3rCtG"
      },
      "outputs": [],
      "source": [
        "model = Word2Vec.load('word2vec_model')"
      ]
    },
    {
      "cell_type": "markdown",
      "metadata": {
        "id": "q96GuU3IrCtG"
      },
      "source": [
        "### Similarity calculation\n",
        "- Similarity between embedded words (i.e., vectors) can be computed using metrics such as cosine similarity\n",
        "- For other metrics and comparisons between them, refer to: https://github.com/taki0112/Vector_Similarity"
      ]
    },
    {
      "cell_type": "code",
      "source": [
        "from gensim.models import KeyedVectors"
      ],
      "metadata": {
        "id": "dImBxhrms59N"
      },
      "execution_count": 16,
      "outputs": []
    },
    {
      "cell_type": "code",
      "source": [
        "keyed_vectors = model.wv\n",
        "keyed_vectors.most_similar('hamlet')"
      ],
      "metadata": {
        "colab": {
          "base_uri": "https://localhost:8080/"
        },
        "id": "ToW5bU0cs-Dc",
        "outputId": "112d4e3a-fb90-4625-fc3e-3abe20500bd2"
      },
      "execution_count": 17,
      "outputs": [
        {
          "output_type": "execute_result",
          "data": {
            "text/plain": [
              "[('horatio', 0.9926713109016418),\n",
              " ('queene', 0.9913420677185059),\n",
              " ('polonius', 0.9902440309524536),\n",
              " ('laertes', 0.9900107383728027),\n",
              " ('king', 0.9898088574409485),\n",
              " ('ophelia', 0.9890589714050293),\n",
              " ('ghost', 0.9884952306747437),\n",
              " ('marcellus', 0.9873592853546143),\n",
              " ('heere', 0.9870586395263672),\n",
              " ('oh', 0.9868582487106323)]"
            ]
          },
          "metadata": {},
          "execution_count": 17
        }
      ]
    },
    {
      "cell_type": "code",
      "execution_count": 14,
      "metadata": {
        "colab": {
          "base_uri": "https://localhost:8080/",
          "height": 141
        },
        "id": "jRXwHGkorCtG",
        "outputId": "3d2c0bbf-3742-47c3-9ae0-5fcfe628f627"
      },
      "outputs": [
        {
          "output_type": "error",
          "ename": "AttributeError",
          "evalue": "'Word2Vec' object has no attribute 'most_similar'",
          "traceback": [
            "\u001b[0;31m---------------------------------------------------------------------------\u001b[0m",
            "\u001b[0;31mAttributeError\u001b[0m                            Traceback (most recent call last)",
            "\u001b[0;32m<ipython-input-14-4a401e9a6f23>\u001b[0m in \u001b[0;36m<cell line: 1>\u001b[0;34m()\u001b[0m\n\u001b[0;32m----> 1\u001b[0;31m \u001b[0mmodel\u001b[0m\u001b[0;34m.\u001b[0m\u001b[0mmost_similar\u001b[0m\u001b[0;34m(\u001b[0m\u001b[0;34m'hamlet'\u001b[0m\u001b[0;34m)\u001b[0m\u001b[0;34m\u001b[0m\u001b[0;34m\u001b[0m\u001b[0m\n\u001b[0m",
            "\u001b[0;31mAttributeError\u001b[0m: 'Word2Vec' object has no attribute 'most_similar'"
          ]
        }
      ],
      "source": [
        "#model.most_similar('hamlet')"
      ]
    },
    {
      "cell_type": "code",
      "execution_count": 19,
      "metadata": {
        "collapsed": true,
        "scrolled": true,
        "id": "qj4D4SwWrCtG"
      },
      "outputs": [],
      "source": [
        "v1 = keyed_vectors['king']\n",
        "v2 = keyed_vectors['queen']"
      ]
    },
    {
      "cell_type": "code",
      "execution_count": 20,
      "metadata": {
        "collapsed": true,
        "id": "Cz0Z5U7drCtG"
      },
      "outputs": [],
      "source": [
        "# define a function that computes cosine similarity between two words\n",
        "def cosine_similarity(v1, v2):\n",
        "    return 1 - spatial.distance.cosine(v1, v2)"
      ]
    },
    {
      "cell_type": "code",
      "execution_count": 21,
      "metadata": {
        "colab": {
          "base_uri": "https://localhost:8080/"
        },
        "id": "rZuWAHd_rCtH",
        "outputId": "adeb41ac-8f11-4eee-8439-027263c5b9df"
      },
      "outputs": [
        {
          "output_type": "execute_result",
          "data": {
            "text/plain": [
              "0.9828093647956848"
            ]
          },
          "metadata": {},
          "execution_count": 21
        }
      ],
      "source": [
        "cosine_similarity(v1, v2)"
      ]
    }
  ],
  "metadata": {
    "kernelspec": {
      "display_name": "Python 3 (ipykernel)",
      "language": "python",
      "name": "python3"
    },
    "language_info": {
      "codemirror_mode": {
        "name": "ipython",
        "version": 3
      },
      "file_extension": ".py",
      "mimetype": "text/x-python",
      "name": "python",
      "nbconvert_exporter": "python",
      "pygments_lexer": "ipython3",
      "version": "3.10.13"
    },
    "colab": {
      "provenance": []
    }
  },
  "nbformat": 4,
  "nbformat_minor": 0
}