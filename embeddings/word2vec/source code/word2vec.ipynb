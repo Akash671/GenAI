{
  "cells": [
    {
      "cell_type": "markdown",
      "metadata": {
        "id": "VPblRypCrCtC"
      },
      "source": [
        "## word2vec implementation with Python (& Gensim)\n",
        "- Note: This code is written in Python 3.6.1 (+Gensim 2.3.0)"
      ]
    },
    {
      "cell_type": "code",
      "source": [
        "import nltk\n",
        "nltk.download('gutenberg')\n",
        "nltk.download('punkt')"
      ],
      "metadata": {
        "colab": {
          "base_uri": "https://localhost:8080/"
        },
        "id": "wKn1CHuUrETd",
        "outputId": "f77ec329-36bf-467d-9953-be14a48771c8"
      },
      "execution_count": 1,
      "outputs": [
        {
          "output_type": "stream",
          "name": "stderr",
          "text": [
            "[nltk_data] Downloading package gutenberg to /root/nltk_data...\n",
            "[nltk_data]   Package gutenberg is already up-to-date!\n",
            "[nltk_data] Downloading package punkt to /root/nltk_data...\n",
            "[nltk_data]   Package punkt is already up-to-date!\n"
          ]
        },
        {
          "output_type": "execute_result",
          "data": {
            "text/plain": [
              "True"
            ]
          },
          "metadata": {},
          "execution_count": 1
        }
      ]
    },
    {
      "cell_type": "code",
      "execution_count": 2,
      "metadata": {
        "collapsed": true,
        "id": "NotzIQQsrCtD"
      },
      "outputs": [],
      "source": [
        "import re\n",
        "import numpy as np\n",
        "\n",
        "from gensim.models import Word2Vec\n",
        "from nltk.corpus import gutenberg\n",
        "from multiprocessing import Pool\n",
        "from scipy import spatial"
      ]
    },
    {
      "cell_type": "markdown",
      "metadata": {
        "id": "RsKTUjwQrCtE"
      },
      "source": [
        "### Import training dataset\n",
        "- Import Shakespeare's Hamlet corpus from nltk library"
      ]
    },
    {
      "cell_type": "code",
      "execution_count": 8,
      "metadata": {
        "collapsed": true,
        "id": "t7B9kh1YrCtE"
      },
      "outputs": [],
      "source": [
        "sentences = list(gutenberg.sents('/content/sample_data/shakespeare.txt'))#shakespeare-hamlet.txt'))   # import the corpus and convert into a list"
      ]
    },
    {
      "cell_type": "code",
      "execution_count": 9,
      "metadata": {
        "colab": {
          "base_uri": "https://localhost:8080/"
        },
        "id": "GNROrWP8rCtE",
        "outputId": "cccb2294-4f13-4a30-9031-df60a6679ee1"
      },
      "outputs": [
        {
          "output_type": "stream",
          "name": "stdout",
          "text": [
            "Type of corpus:  <class 'list'>\n",
            "Length of corpus:  99772\n"
          ]
        }
      ],
      "source": [
        "print('Type of corpus: ', type(sentences))\n",
        "print('Length of corpus: ', len(sentences))"
      ]
    },
    {
      "cell_type": "code",
      "execution_count": 10,
      "metadata": {
        "colab": {
          "base_uri": "https://localhost:8080/"
        },
        "id": "wRLzFWwbrCtF",
        "outputId": "e8309b8c-c3ad-458f-8050-8d87fe5e337c"
      },
      "outputs": [
        {
          "output_type": "stream",
          "name": "stdout",
          "text": [
            "['From', 'fairest', 'creatures', 'we', 'desire', 'increase', ',', 'That', 'thereby', 'beauty', \"'\", 's', 'rose', 'might', 'never', 'die', ',', 'But', 'as', 'the', 'riper', 'should', 'by', 'time', 'decease', ',', 'His', 'tender', 'heir', 'might', 'bear', 'his', 'memory', ':', 'But', 'thou', 'contracted', 'to', 'thine', 'own', 'bright', 'eyes', ',', 'Feed', \"'\", 'st', 'thy', 'light', \"'\", 's', 'flame', 'with', 'self', '-', 'substantial', 'fuel', ',', 'Making', 'a', 'famine', 'where', 'abundance', 'lies', ',', 'Thy', 'self', 'thy', 'foe', ',', 'to', 'thy', 'sweet', 'self', 'too', 'cruel', ':', 'Thou', 'that', 'art', 'now', 'the', 'world', \"'\", 's', 'fresh', 'ornament', ',', 'And', 'only', 'herald', 'to', 'the', 'gaudy', 'spring', ',', 'Within', 'thine', 'own', 'bud', 'buriest', 'thy', 'content', ',', 'And', 'tender', 'churl', 'mak', \"'\", 'st', 'waste', 'in', 'niggarding', ':', 'Pity', 'the', 'world', ',', 'or', 'else', 'this', 'glutton', 'be', ',', 'To', 'eat', 'the', 'world', \"'\", 's', 'due', ',', 'by', 'the', 'grave', 'and', 'thee', '.']\n",
            "['2', 'When', 'forty', 'winters', 'shall', 'besiege', 'thy', 'brow', ',', 'And', 'dig', 'deep', 'trenches', 'in', 'thy', 'beauty', \"'\", 's', 'field', ',', 'Thy', 'youth', \"'\", 's', 'proud', 'livery', 'so', 'gazed', 'on', 'now', ',', 'Will', 'be', 'a', 'tattered', 'weed', 'of', 'small', 'worth', 'held', ':', 'Then', 'being', 'asked', ',', 'where', 'all', 'thy', 'beauty', 'lies', ',', 'Where', 'all', 'the', 'treasure', 'of', 'thy', 'lusty', 'days', ';', 'To', 'say', 'within', 'thine', 'own', 'deep', 'sunken', 'eyes', ',', 'Were', 'an', 'all', '-', 'eating', 'shame', ',', 'and', 'thriftless', 'praise', '.']\n",
            "['Nature', \"'\", 's', 'bequest', 'gives', 'nothing', 'but', 'doth', 'lend', ',', 'And', 'being', 'frank', 'she', 'lends', 'to', 'those', 'are', 'free', ':', 'Then', 'beauteous', 'niggard', 'why', 'dost', 'thou', 'abuse', ',', 'The', 'bounteous', 'largess', 'given', 'thee', 'to', 'give', '?']\n"
          ]
        }
      ],
      "source": [
        "print(sentences[0])    # title, author, and year\n",
        "print(sentences[1])\n",
        "print(sentences[10])"
      ]
    },
    {
      "cell_type": "markdown",
      "metadata": {
        "id": "rroK3UyarCtF"
      },
      "source": [
        "### Preprocess data\n",
        "- Use re module to preprocess data\n",
        "- Convert all letters into lowercase\n",
        "- Remove punctuations, numbers, etc."
      ]
    },
    {
      "cell_type": "code",
      "execution_count": 11,
      "metadata": {
        "collapsed": true,
        "id": "UyBUZhjXrCtF"
      },
      "outputs": [],
      "source": [
        "for i in range(len(sentences)):\n",
        "    sentences[i] = [word.lower() for word in sentences[i] if re.match('^[a-zA-Z]+', word)]"
      ]
    },
    {
      "cell_type": "code",
      "execution_count": 12,
      "metadata": {
        "colab": {
          "base_uri": "https://localhost:8080/"
        },
        "id": "EW0tfG6BrCtF",
        "outputId": "66df4f07-c10c-4765-da3e-720469bb5ec5"
      },
      "outputs": [
        {
          "output_type": "stream",
          "name": "stdout",
          "text": [
            "['from', 'fairest', 'creatures', 'we', 'desire', 'increase', 'that', 'thereby', 'beauty', 's', 'rose', 'might', 'never', 'die', 'but', 'as', 'the', 'riper', 'should', 'by', 'time', 'decease', 'his', 'tender', 'heir', 'might', 'bear', 'his', 'memory', 'but', 'thou', 'contracted', 'to', 'thine', 'own', 'bright', 'eyes', 'feed', 'st', 'thy', 'light', 's', 'flame', 'with', 'self', 'substantial', 'fuel', 'making', 'a', 'famine', 'where', 'abundance', 'lies', 'thy', 'self', 'thy', 'foe', 'to', 'thy', 'sweet', 'self', 'too', 'cruel', 'thou', 'that', 'art', 'now', 'the', 'world', 's', 'fresh', 'ornament', 'and', 'only', 'herald', 'to', 'the', 'gaudy', 'spring', 'within', 'thine', 'own', 'bud', 'buriest', 'thy', 'content', 'and', 'tender', 'churl', 'mak', 'st', 'waste', 'in', 'niggarding', 'pity', 'the', 'world', 'or', 'else', 'this', 'glutton', 'be', 'to', 'eat', 'the', 'world', 's', 'due', 'by', 'the', 'grave', 'and', 'thee']\n",
            "['when', 'forty', 'winters', 'shall', 'besiege', 'thy', 'brow', 'and', 'dig', 'deep', 'trenches', 'in', 'thy', 'beauty', 's', 'field', 'thy', 'youth', 's', 'proud', 'livery', 'so', 'gazed', 'on', 'now', 'will', 'be', 'a', 'tattered', 'weed', 'of', 'small', 'worth', 'held', 'then', 'being', 'asked', 'where', 'all', 'thy', 'beauty', 'lies', 'where', 'all', 'the', 'treasure', 'of', 'thy', 'lusty', 'days', 'to', 'say', 'within', 'thine', 'own', 'deep', 'sunken', 'eyes', 'were', 'an', 'all', 'eating', 'shame', 'and', 'thriftless', 'praise']\n",
            "['nature', 's', 'bequest', 'gives', 'nothing', 'but', 'doth', 'lend', 'and', 'being', 'frank', 'she', 'lends', 'to', 'those', 'are', 'free', 'then', 'beauteous', 'niggard', 'why', 'dost', 'thou', 'abuse', 'the', 'bounteous', 'largess', 'given', 'thee', 'to', 'give']\n"
          ]
        }
      ],
      "source": [
        "print(sentences[0])    # title, author, and year\n",
        "print(sentences[1])\n",
        "print(sentences[10])"
      ]
    },
    {
      "cell_type": "markdown",
      "metadata": {
        "id": "dLBHNAeerCtF"
      },
      "source": [
        "### Create and train model\n",
        "- Create a word2vec model and train it with Hamlet corpus\n",
        "- Key parameter description (https://radimrehurek.com/gensim/models/word2vec.html)\n",
        "    - **sentences**: training data (has to be a list with tokenized sentences)\n",
        "    - **size**: dimension of embedding space\n",
        "    - **sg**: CBOW if 0, skip-gram if 1\n",
        "    - **window**: number of words accounted for each context (if the window size is 3, 3 word in the left neighorhood and 3 word in the right neighborhood are considered)\n",
        "    - **min_count**: minimum count of words to be included in the vocabulary\n",
        "    - **iter**: number of training iterations\n",
        "    - **workers**: number of worker threads to train"
      ]
    },
    {
      "cell_type": "code",
      "execution_count": 13,
      "metadata": {
        "collapsed": true,
        "id": "gqL_bCX2rCtF"
      },
      "outputs": [],
      "source": [
        "#model = Word2Vec(sentences = sentences, size = 100, sg = 1, window = 3, min_count = 1, iter = 10, workers = Pool()._processes)\n",
        "model = Word2Vec(sentences = sentences, vector_size = 100, sg = 1, window = 3, min_count = 1, epochs = 10, workers = Pool()._processes)\n"
      ]
    },
    {
      "cell_type": "code",
      "execution_count": 14,
      "metadata": {
        "collapsed": true,
        "colab": {
          "base_uri": "https://localhost:8080/"
        },
        "id": "PvyVG0dErCtG",
        "outputId": "ad270e98-50d9-4b56-e158-8c58a15f0b3e"
      },
      "outputs": [
        {
          "output_type": "stream",
          "name": "stderr",
          "text": [
            "<ipython-input-14-7f554896ee84>:1: DeprecationWarning: Call to deprecated `init_sims` (Gensim 4.0.0 implemented internal optimizations that make calls to init_sims() unnecessary. init_sims() is now obsoleted and will be completely removed in future versions. See https://github.com/RaRe-Technologies/gensim/wiki/Migrating-from-Gensim-3.x-to-4).\n",
            "  model.init_sims(replace = True)\n",
            "WARNING:gensim.models.keyedvectors:destructive init_sims(replace=True) deprecated & no longer required for space-efficiency\n"
          ]
        }
      ],
      "source": [
        "model.init_sims(replace = True)"
      ]
    },
    {
      "cell_type": "markdown",
      "metadata": {
        "id": "Z9kQOKJ4rCtG"
      },
      "source": [
        "### Save and load model\n",
        "- word2vec model can be saved and loaded locally\n",
        "- Doing so can reduce time to train model again"
      ]
    },
    {
      "cell_type": "code",
      "execution_count": 15,
      "metadata": {
        "collapsed": true,
        "id": "rUz4pafUrCtG"
      },
      "outputs": [],
      "source": [
        "model.save('word2vec_model')"
      ]
    },
    {
      "cell_type": "code",
      "execution_count": 16,
      "metadata": {
        "collapsed": true,
        "id": "KSCL2mN3rCtG"
      },
      "outputs": [],
      "source": [
        "model = Word2Vec.load('word2vec_model')"
      ]
    },
    {
      "cell_type": "markdown",
      "metadata": {
        "id": "q96GuU3IrCtG"
      },
      "source": [
        "### Similarity calculation\n",
        "- Similarity between embedded words (i.e., vectors) can be computed using metrics such as cosine similarity\n",
        "- For other metrics and comparisons between them, refer to: https://github.com/taki0112/Vector_Similarity"
      ]
    },
    {
      "cell_type": "code",
      "source": [
        "from gensim.models import KeyedVectors"
      ],
      "metadata": {
        "id": "dImBxhrms59N"
      },
      "execution_count": 17,
      "outputs": []
    },
    {
      "cell_type": "code",
      "source": [
        "keyed_vectors = model.wv\n",
        "keyed_vectors.most_similar('hamlet')"
      ],
      "metadata": {
        "colab": {
          "base_uri": "https://localhost:8080/"
        },
        "id": "ToW5bU0cs-Dc",
        "outputId": "77e2c405-9e46-4bea-c8a5-4a5d3f834dc1"
      },
      "execution_count": 18,
      "outputs": [
        {
          "output_type": "execute_result",
          "data": {
            "text/plain": [
              "[('benedick', 0.8010129332542419),\n",
              " ('fenton', 0.7995469570159912),\n",
              " ('constance', 0.7940218448638916),\n",
              " ('eleanor', 0.781517744064331),\n",
              " ('julia', 0.7814662456512451),\n",
              " ('horatio', 0.7776274681091309),\n",
              " ('beatrice', 0.7769432067871094),\n",
              " ('ophelia', 0.7766722440719604),\n",
              " ('laertes', 0.7747067809104919),\n",
              " ('nell', 0.7730135917663574)]"
            ]
          },
          "metadata": {},
          "execution_count": 18
        }
      ]
    },
    {
      "cell_type": "code",
      "execution_count": null,
      "metadata": {
        "id": "jRXwHGkorCtG"
      },
      "outputs": [],
      "source": [
        "#model.most_similar('hamlet')"
      ]
    },
    {
      "cell_type": "code",
      "execution_count": 19,
      "metadata": {
        "collapsed": true,
        "scrolled": true,
        "id": "qj4D4SwWrCtG"
      },
      "outputs": [],
      "source": [
        "v1 = keyed_vectors['king']\n",
        "v2 = keyed_vectors['queen']"
      ]
    },
    {
      "cell_type": "code",
      "execution_count": 20,
      "metadata": {
        "collapsed": true,
        "id": "Cz0Z5U7drCtG"
      },
      "outputs": [],
      "source": [
        "# define a function that computes cosine similarity between two words\n",
        "def cosine_similarity(v1, v2):\n",
        "    return 1 - spatial.distance.cosine(v1, v2)"
      ]
    },
    {
      "cell_type": "code",
      "execution_count": 21,
      "metadata": {
        "colab": {
          "base_uri": "https://localhost:8080/"
        },
        "id": "rZuWAHd_rCtH",
        "outputId": "22128959-f1e6-4a06-d970-fbf9916e8636"
      },
      "outputs": [
        {
          "output_type": "execute_result",
          "data": {
            "text/plain": [
              "0.6272789239883423"
            ]
          },
          "metadata": {},
          "execution_count": 21
        }
      ],
      "source": [
        "cosine_similarity(v1, v2)"
      ]
    }
  ],
  "metadata": {
    "kernelspec": {
      "display_name": "Python 3 (ipykernel)",
      "language": "python",
      "name": "python3"
    },
    "language_info": {
      "codemirror_mode": {
        "name": "ipython",
        "version": 3
      },
      "file_extension": ".py",
      "mimetype": "text/x-python",
      "name": "python",
      "nbconvert_exporter": "python",
      "pygments_lexer": "ipython3",
      "version": "3.10.13"
    },
    "colab": {
      "provenance": []
    }
  },
  "nbformat": 4,
  "nbformat_minor": 0
}