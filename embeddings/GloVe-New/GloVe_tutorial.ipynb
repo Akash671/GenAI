{
  "cells": [
    {
      "cell_type": "code",
      "execution_count": 1,
      "metadata": {
        "id": "u5oa3NiSDUh2"
      },
      "outputs": [],
      "source": [
        "import numpy as np\n",
        "from scipy import spatial\n",
        "import matplotlib.pyplot as plt\n",
        "from sklearn.manifold import TSNE"
      ]
    },
    {
      "cell_type": "code",
      "execution_count": 2,
      "metadata": {
        "id": "egBiZqmUDUh4"
      },
      "outputs": [],
      "source": [
        "embeddings_dict = {}\n",
        "with open(\"/content/sample_data/glove.6B.50d.txt\", 'r', encoding='utf-8') as f:\n",
        "    for line in f:\n",
        "        values = line.split()\n",
        "        token = values[0]\n",
        "        vector = np.asarray(values[1:], \"float32\")\n",
        "        embeddings_dict[token] = vector"
      ]
    },
    {
      "cell_type": "code",
      "source": [
        "print(type(vector))"
      ],
      "metadata": {
        "colab": {
          "base_uri": "https://localhost:8080/"
        },
        "id": "KEHoiAI-Dzzb",
        "outputId": "cce00166-79ee-4e0b-997a-cb8b64649a0d"
      },
      "execution_count": 3,
      "outputs": [
        {
          "output_type": "stream",
          "name": "stdout",
          "text": [
            "<class 'numpy.ndarray'>\n"
          ]
        }
      ]
    },
    {
      "cell_type": "code",
      "execution_count": 5,
      "metadata": {
        "id": "teqIpU15DUh5"
      },
      "outputs": [],
      "source": [
        "def find_closest_embeddings(embedding, cutoff=25):\n",
        "    return sorted(embeddings_dict.keys(), key=lambda token: euclidean(embeddings_dict[token], embedding))"
      ]
    },
    {
      "cell_type": "code",
      "source": [
        "from scipy.spatial.distance import euclidean"
      ],
      "metadata": {
        "id": "OYQzodQ8WlPr"
      },
      "execution_count": 14,
      "outputs": []
    },
    {
      "cell_type": "code",
      "source": [
        "embeddings_dict = {}\n",
        "with open(\"/content/sample_data/glove.6B.50d.txt\", 'r', encoding='utf-8') as f:\n",
        "    for line in f:\n",
        "        values = line.split()\n",
        "        token = values[0]\n",
        "        vector = np.asarray(values[1:], \"float32\")\n",
        "        if vector.shape[0] == 50:  # Ensure vector has the expected dimensionality\n",
        "            embeddings_dict[token] = vector\n",
        "        else:\n",
        "            print(f\"Skipping {token}: expected dimension 50, found {vector.shape[0]}\")\n",
        "\n",
        "def find_closest_embeddings(embedding, cutoff=25):\n",
        "    # Adjusted to use scipy's euclidean function directly on vectors without reshaping\n",
        "    return sorted(embeddings_dict.keys(), key=lambda token: euclidean(embeddings_dict[token], embedding))[:cutoff]\n",
        "\n",
        "# Check that all necessary words exist in the dictionary before attempting arithmetic\n",
        "words = [\"twig\", \"branch\", \"hand\"]\n",
        "missing_words = [word for word in words if word not in embeddings_dict]\n",
        "if missing_words:\n",
        "    print(f\"Missing words in embeddings dictionary: {', '.join(missing_words)}\")\n",
        "else:\n",
        "    try:\n",
        "        result = find_closest_embeddings(\n",
        "            embeddings_dict[\"twig\"] - embeddings_dict[\"branch\"] + embeddings_dict[\"hand\"]\n",
        "        )[:5]\n",
        "        print(result)\n",
        "    except KeyError as e:\n",
        "        print(f\"Key error: {e}. Make sure the word exists in the embeddings dictionary.\")\n"
      ],
      "metadata": {
        "colab": {
          "base_uri": "https://localhost:8080/"
        },
        "id": "u7NESVy7X7lh",
        "outputId": "012c6a5a-caca-454c-f606-dc84588a9d87"
      },
      "execution_count": 15,
      "outputs": [
        {
          "output_type": "stream",
          "name": "stdout",
          "text": [
            "Skipping mbuende: expected dimension 50, found 13\n",
            "['fingernails', 'toenails', 'stringy', 'peeling', 'shove']\n"
          ]
        }
      ]
    },
    {
      "cell_type": "code",
      "source": [
        "    try:\n",
        "        result = find_closest_embeddings(\n",
        "            embeddings_dict[\"twig\"])[:5]\n",
        "        print(result)\n",
        "    except KeyError as e:\n",
        "        print(f\"Key error: {e}. Make sure the word exists in the embeddings dictionary.\")"
      ],
      "metadata": {
        "colab": {
          "base_uri": "https://localhost:8080/"
        },
        "id": "JY6BxsdnYihA",
        "outputId": "2d90a296-648a-4d74-af74-cb77b5dca568"
      },
      "execution_count": 12,
      "outputs": [
        {
          "output_type": "stream",
          "name": "stdout",
          "text": [
            "['twig', 'troll', 'corky', 'urchin', 'leviathan']\n"
          ]
        }
      ]
    },
    {
      "cell_type": "code",
      "source": [
        "print(vector.ndim)\n",
        "print(type(vector))"
      ],
      "metadata": {
        "colab": {
          "base_uri": "https://localhost:8080/"
        },
        "id": "plFSQB3sZS9w",
        "outputId": "77ca8921-c37b-45de-f8ee-4af4cb977bc1"
      },
      "execution_count": 13,
      "outputs": [
        {
          "output_type": "stream",
          "name": "stdout",
          "text": [
            "1\n",
            "<class 'numpy.ndarray'>\n"
          ]
        }
      ]
    }
  ],
  "metadata": {
    "kernelspec": {
      "display_name": "Python 3",
      "language": "python",
      "name": "python3"
    },
    "language_info": {
      "codemirror_mode": {
        "name": "ipython",
        "version": 3
      },
      "file_extension": ".py",
      "mimetype": "text/x-python",
      "name": "python",
      "nbconvert_exporter": "python",
      "pygments_lexer": "ipython3",
      "version": "3.7.3"
    },
    "colab": {
      "provenance": []
    }
  },
  "nbformat": 4,
  "nbformat_minor": 0
}