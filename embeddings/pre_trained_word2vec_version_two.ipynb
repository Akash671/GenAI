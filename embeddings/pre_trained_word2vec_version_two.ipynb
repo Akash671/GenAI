{
  "nbformat": 4,
  "nbformat_minor": 0,
  "metadata": {
    "colab": {
      "provenance": []
    },
    "kernelspec": {
      "name": "python3",
      "display_name": "Python 3"
    },
    "language_info": {
      "name": "python"
    }
  },
  "cells": [
    {
      "cell_type": "code",
      "execution_count": 1,
      "metadata": {
        "colab": {
          "base_uri": "https://localhost:8080/"
        },
        "id": "40ccgyCNKjP6",
        "outputId": "7cd9b70b-577b-446d-b15f-56dbf57095be"
      },
      "outputs": [
        {
          "output_type": "stream",
          "name": "stdout",
          "text": [
            "[==================================================] 100.0% 1662.8/1662.8MB downloaded\n"
          ]
        },
        {
          "output_type": "execute_result",
          "data": {
            "text/plain": [
              "[('man', 0.8438023328781128),\n",
              " ('woman', 0.8080447912216187),\n",
              " ('boy', 0.6565743088722229),\n",
              " ('girl', 0.6496928930282593),\n",
              " ('king', 0.6353368759155273),\n",
              " ('teenager', 0.6295289397239685),\n",
              " ('teenage_girl', 0.6285054683685303),\n",
              " ('teen_ager', 0.5504108667373657),\n",
              " ('lady', 0.5482487082481384),\n",
              " ('prince', 0.5309996008872986)]"
            ]
          },
          "metadata": {},
          "execution_count": 1
        }
      ],
      "source": [
        "import gensim\n",
        "import gensim.downloader as api\n",
        "from gensim.models import Word2Vec,KeyedVectors\n",
        "\n",
        "wv = api.load(\"word2vec-google-news-300\")\n",
        "\n",
        "def embedding_for_vocab(filepath, word_index,\n",
        "\t\t\t\t\t\tembedding_dim):\n",
        "\tvocab_size = len(word_index) + 1\n",
        "\n",
        "\t# Adding again 1 because of reserved 0 index\n",
        "\tembedding_matrix_vocab = np.zeros((vocab_size,\n",
        "\t\t\t\t\t\t\t\t\tembedding_dim))\n",
        "\n",
        "\twith open(filepath, encoding=\"utf8\") as f:\n",
        "\t\tfor line in f:\n",
        "\t\t\tword, *vector = line.split()\n",
        "\t\t\tif word in word_index:\n",
        "\t\t\t\tidx = word_index[word]\n",
        "\t\t\t\tembedding_matrix_vocab[idx] = np.array(\n",
        "\t\t\t\t\tvector, dtype=np.float32)[:embedding_dim]\n",
        "\n",
        "\treturn embedding_matrix_vocab\n",
        "\n",
        "word = wv['king']\n",
        "word\n",
        "\n",
        "abc =wv['king']+wv['man']+wv['woman']\n",
        "wv.most_similar(abc)"
      ]
    }
  ]
}