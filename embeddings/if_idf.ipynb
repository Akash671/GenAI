{
  "nbformat": 4,
  "nbformat_minor": 0,
  "metadata": {
    "colab": {
      "provenance": []
    },
    "kernelspec": {
      "name": "python3",
      "display_name": "Python 3"
    },
    "language_info": {
      "name": "python"
    }
  },
  "cells": [
    {
      "cell_type": "code",
      "execution_count": 11,
      "metadata": {
        "colab": {
          "base_uri": "https://localhost:8080/"
        },
        "id": "1566QppC9le0",
        "outputId": "3e28609f-0144-4a41-bf60-9e1fce33ff4a"
      },
      "outputs": [
        {
          "output_type": "stream",
          "name": "stdout",
          "text": [
            "[{'He': 0.3333333333333333, 'is': 0.3333333333333333, 'Walter': 0.3333333333333333}, {'He': 0.3333333333333333, 'is': 0.3333333333333333, 'William': 0.3333333333333333}, {'He': 0.2, 'isn’t': 0.2, 'Peter': 0.2, 'or': 0.2, 'September': 0.2}]\n",
            "{'is': 0.17609125905568124, 'He': 0.0, 'Walter': 0.47712125471966244, 'William': 0.47712125471966244, 'September': 0.47712125471966244, 'Peter': 0.47712125471966244, 'isn’t': 0.47712125471966244, 'or': 0.47712125471966244}\n",
            "{'Walter', 'September', 'Peter', 'is', 'isn’t', 'He', 'or', 'William'}\n"
          ]
        }
      ],
      "source": [
        "import math\n",
        "from collections import defaultdict, Counter\n",
        "\n",
        "# Sample corpus\n",
        "corpus = [\n",
        "    \"He is Walter\",\n",
        "    \"He is William\",\n",
        "    \"He isn’t Peter or September\"\n",
        "]\n",
        "\n",
        "# Tokenize the corpus\n",
        "def tokenize(sentence):\n",
        "    return sentence.split()\n",
        "\n",
        "# Calculate term frequency (TF)\n",
        "def compute_tf(corpus):\n",
        "    tf = []\n",
        "    for document in corpus:\n",
        "        tokens = tokenize(document)\n",
        "        counter = Counter(tokens)\n",
        "        total_terms = len(tokens)\n",
        "        tf_doc = {term: count / total_terms for term, count in counter.items()}\n",
        "        tf.append(tf_doc)\n",
        "    print(tf)\n",
        "    return tf\n",
        "\n",
        "# Calculate document frequency (DF)\n",
        "def compute_df(corpus):\n",
        "    df = defaultdict(int)\n",
        "    for document in corpus:\n",
        "        tokens = set(tokenize(document))\n",
        "        for token in tokens:\n",
        "            df[token] += 1\n",
        "    return df\n",
        "\n",
        "# Calculate inverse document frequency (IDF)\n",
        "def compute_idf(corpus, df):\n",
        "    idf = {}\n",
        "    N = len(corpus)\n",
        "    for term, count in df.items():\n",
        "        idf[term] = math.log10(N / count)\n",
        "    print(idf)\n",
        "    return idf\n",
        "\n",
        "# Calculate TF-IDF\n",
        "def compute_tf_idf(tf, idf):\n",
        "    tf_idf = []\n",
        "    for tf_doc in tf:\n",
        "        tf_idf_doc = {term: tf_val * idf[term] for term, tf_val in tf_doc.items()}\n",
        "        tf_idf.append(tf_idf_doc)\n",
        "    return tf_idf\n",
        "\n",
        "# Get vocabulary\n",
        "def get_vocabulary(corpus):\n",
        "    vocab = set()\n",
        "    for document in corpus:\n",
        "        tokens = tokenize(document)\n",
        "        vocab.update(tokens)\n",
        "    return vocab\n",
        "\n",
        "# Main function to calculate TF-IDF\n",
        "def main(corpus):\n",
        "    tf = compute_tf(corpus)\n",
        "    df = compute_df(corpus)\n",
        "    idf = compute_idf(corpus, df)\n",
        "    tf_idf = compute_tf_idf(tf, idf)\n",
        "\n",
        "    vocab = get_vocabulary(corpus)\n",
        "    tf_idf_matrix = []\n",
        "\n",
        "    for tf_idf_doc in tf_idf:\n",
        "        row = []\n",
        "        for term in vocab:\n",
        "            row.append(tf_idf_doc.get(term, 0))\n",
        "        tf_idf_matrix.append(row)\n",
        "\n",
        "    return vocab, tf_idf_matrix\n",
        "\n",
        "vocab, tf_idf_matrix = main(corpus)\n",
        "print(vocab)\n",
        "#print(tf_idf_matrix)\n",
        "\n",
        "#print(\"Vocabulary:\", vocab)\n",
        "#print(\"TF-IDF Matrix:\")\n",
        "#for row in tf_idf_matrix:\n",
        "    #print(row)\n"
      ]
    }
  ]
}