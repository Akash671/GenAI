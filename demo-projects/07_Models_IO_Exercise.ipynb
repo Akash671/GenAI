{
  "cells": [
    {
      "cell_type": "markdown",
      "id": "cf5ff2a8-fcc1-4ef6-a91b-a56f29a0fc2c",
      "metadata": {
        "id": "cf5ff2a8-fcc1-4ef6-a91b-a56f29a0fc2c"
      },
      "source": [
        "# Model IO Exercise\n",
        "\n",
        "The purpose of this exercise is to test your understanding of building out Model IO systems. You will also hopefully notice the need to chain responses together"
      ]
    },
    {
      "cell_type": "markdown",
      "id": "6f36f621-d2cb-43e7-89ad-41691ab266c1",
      "metadata": {
        "id": "6f36f621-d2cb-43e7-89ad-41691ab266c1"
      },
      "source": [
        "## History Quiz\n",
        "\n",
        "Our main goal is to use LangChain and Python to create a very simple class with a few methods for:\n",
        "* Writing a historical question that has a date as the correct answer\n",
        "* Getting the correct answer from LLM\n",
        "* Getting a Human user's best guess at at correct answer\n",
        "* Checking/reporting the difference between the correct answer and the user answer"
      ]
    },
    {
      "cell_type": "markdown",
      "id": "6421bf0c-6aca-4291-9aaf-473b78b9be77",
      "metadata": {
        "id": "6421bf0c-6aca-4291-9aaf-473b78b9be77"
      },
      "source": [
        "### Suggested Imports\n",
        "\n",
        "Feel free to accomplish this task however you prefer!"
      ]
    },
    {
      "cell_type": "code",
      "source": [
        "!pip install openai"
      ],
      "metadata": {
        "colab": {
          "base_uri": "https://localhost:8080/"
        },
        "id": "I23o4Z371fxd",
        "outputId": "c1c60255-226f-4021-c289-181d4b12c72d"
      },
      "id": "I23o4Z371fxd",
      "execution_count": 1,
      "outputs": [
        {
          "output_type": "stream",
          "name": "stdout",
          "text": [
            "Collecting openai\n",
            "  Downloading openai-1.11.1-py3-none-any.whl (226 kB)\n",
            "\u001b[?25l     \u001b[90m━━━━━━━━━━━━━━━━━━━━━━━━━━━━━━━━━━━━━━━━\u001b[0m \u001b[32m0.0/226.1 kB\u001b[0m \u001b[31m?\u001b[0m eta \u001b[36m-:--:--\u001b[0m\r\u001b[2K     \u001b[91m━━━━━━━━━━━━━━━━━━━━━━━━━\u001b[0m\u001b[90m╺\u001b[0m\u001b[90m━━━━━━━━━━━━━━\u001b[0m \u001b[32m143.4/226.1 kB\u001b[0m \u001b[31m4.1 MB/s\u001b[0m eta \u001b[36m0:00:01\u001b[0m\r\u001b[2K     \u001b[90m━━━━━━━━━━━━━━━━━━━━━━━━━━━━━━━━━━━━━━━━\u001b[0m \u001b[32m226.1/226.1 kB\u001b[0m \u001b[31m4.2 MB/s\u001b[0m eta \u001b[36m0:00:00\u001b[0m\n",
            "\u001b[?25hRequirement already satisfied: anyio<5,>=3.5.0 in /usr/local/lib/python3.10/dist-packages (from openai) (3.7.1)\n",
            "Requirement already satisfied: distro<2,>=1.7.0 in /usr/lib/python3/dist-packages (from openai) (1.7.0)\n",
            "Collecting httpx<1,>=0.23.0 (from openai)\n",
            "  Downloading httpx-0.26.0-py3-none-any.whl (75 kB)\n",
            "\u001b[2K     \u001b[90m━━━━━━━━━━━━━━━━━━━━━━━━━━━━━━━━━━━━━━━━\u001b[0m \u001b[32m75.9/75.9 kB\u001b[0m \u001b[31m5.3 MB/s\u001b[0m eta \u001b[36m0:00:00\u001b[0m\n",
            "\u001b[?25hRequirement already satisfied: pydantic<3,>=1.9.0 in /usr/local/lib/python3.10/dist-packages (from openai) (1.10.14)\n",
            "Requirement already satisfied: sniffio in /usr/local/lib/python3.10/dist-packages (from openai) (1.3.0)\n",
            "Requirement already satisfied: tqdm>4 in /usr/local/lib/python3.10/dist-packages (from openai) (4.66.1)\n",
            "Collecting typing-extensions<5,>=4.7 (from openai)\n",
            "  Downloading typing_extensions-4.9.0-py3-none-any.whl (32 kB)\n",
            "Requirement already satisfied: idna>=2.8 in /usr/local/lib/python3.10/dist-packages (from anyio<5,>=3.5.0->openai) (3.6)\n",
            "Requirement already satisfied: exceptiongroup in /usr/local/lib/python3.10/dist-packages (from anyio<5,>=3.5.0->openai) (1.2.0)\n",
            "Requirement already satisfied: certifi in /usr/local/lib/python3.10/dist-packages (from httpx<1,>=0.23.0->openai) (2023.11.17)\n",
            "Collecting httpcore==1.* (from httpx<1,>=0.23.0->openai)\n",
            "  Downloading httpcore-1.0.2-py3-none-any.whl (76 kB)\n",
            "\u001b[2K     \u001b[90m━━━━━━━━━━━━━━━━━━━━━━━━━━━━━━━━━━━━━━━━\u001b[0m \u001b[32m76.9/76.9 kB\u001b[0m \u001b[31m4.5 MB/s\u001b[0m eta \u001b[36m0:00:00\u001b[0m\n",
            "\u001b[?25hCollecting h11<0.15,>=0.13 (from httpcore==1.*->httpx<1,>=0.23.0->openai)\n",
            "  Downloading h11-0.14.0-py3-none-any.whl (58 kB)\n",
            "\u001b[2K     \u001b[90m━━━━━━━━━━━━━━━━━━━━━━━━━━━━━━━━━━━━━━━━\u001b[0m \u001b[32m58.3/58.3 kB\u001b[0m \u001b[31m7.0 MB/s\u001b[0m eta \u001b[36m0:00:00\u001b[0m\n",
            "\u001b[?25hInstalling collected packages: typing-extensions, h11, httpcore, httpx, openai\n",
            "  Attempting uninstall: typing-extensions\n",
            "    Found existing installation: typing_extensions 4.5.0\n",
            "    Uninstalling typing_extensions-4.5.0:\n",
            "      Successfully uninstalled typing_extensions-4.5.0\n",
            "\u001b[31mERROR: pip's dependency resolver does not currently take into account all the packages that are installed. This behaviour is the source of the following dependency conflicts.\n",
            "llmx 0.0.15a0 requires cohere, which is not installed.\n",
            "llmx 0.0.15a0 requires tiktoken, which is not installed.\n",
            "tensorflow-probability 0.22.0 requires typing-extensions<4.6.0, but you have typing-extensions 4.9.0 which is incompatible.\u001b[0m\u001b[31m\n",
            "\u001b[0mSuccessfully installed h11-0.14.0 httpcore-1.0.2 httpx-0.26.0 openai-1.11.1 typing-extensions-4.9.0\n"
          ]
        }
      ]
    },
    {
      "cell_type": "code",
      "source": [
        "!pip install langchain"
      ],
      "metadata": {
        "colab": {
          "base_uri": "https://localhost:8080/"
        },
        "id": "riLM1tg31fp1",
        "outputId": "3a993142-e806-4928-93af-8cdf61366fcd"
      },
      "id": "riLM1tg31fp1",
      "execution_count": 2,
      "outputs": [
        {
          "output_type": "stream",
          "name": "stdout",
          "text": [
            "Collecting langchain\n",
            "  Downloading langchain-0.1.5-py3-none-any.whl (806 kB)\n",
            "\u001b[2K     \u001b[90m━━━━━━━━━━━━━━━━━━━━━━━━━━━━━━━━━━━━━━━━\u001b[0m \u001b[32m806.7/806.7 kB\u001b[0m \u001b[31m10.6 MB/s\u001b[0m eta \u001b[36m0:00:00\u001b[0m\n",
            "\u001b[?25hRequirement already satisfied: PyYAML>=5.3 in /usr/local/lib/python3.10/dist-packages (from langchain) (6.0.1)\n",
            "Requirement already satisfied: SQLAlchemy<3,>=1.4 in /usr/local/lib/python3.10/dist-packages (from langchain) (2.0.24)\n",
            "Requirement already satisfied: aiohttp<4.0.0,>=3.8.3 in /usr/local/lib/python3.10/dist-packages (from langchain) (3.9.3)\n",
            "Requirement already satisfied: async-timeout<5.0.0,>=4.0.0 in /usr/local/lib/python3.10/dist-packages (from langchain) (4.0.3)\n",
            "Collecting dataclasses-json<0.7,>=0.5.7 (from langchain)\n",
            "  Downloading dataclasses_json-0.6.4-py3-none-any.whl (28 kB)\n",
            "Collecting jsonpatch<2.0,>=1.33 (from langchain)\n",
            "  Downloading jsonpatch-1.33-py2.py3-none-any.whl (12 kB)\n",
            "Collecting langchain-community<0.1,>=0.0.17 (from langchain)\n",
            "  Downloading langchain_community-0.0.17-py3-none-any.whl (1.6 MB)\n",
            "\u001b[2K     \u001b[90m━━━━━━━━━━━━━━━━━━━━━━━━━━━━━━━━━━━━━━━━\u001b[0m \u001b[32m1.6/1.6 MB\u001b[0m \u001b[31m19.7 MB/s\u001b[0m eta \u001b[36m0:00:00\u001b[0m\n",
            "\u001b[?25hCollecting langchain-core<0.2,>=0.1.16 (from langchain)\n",
            "  Downloading langchain_core-0.1.18-py3-none-any.whl (237 kB)\n",
            "\u001b[2K     \u001b[90m━━━━━━━━━━━━━━━━━━━━━━━━━━━━━━━━━━━━━━━━\u001b[0m \u001b[32m237.0/237.0 kB\u001b[0m \u001b[31m19.7 MB/s\u001b[0m eta \u001b[36m0:00:00\u001b[0m\n",
            "\u001b[?25hCollecting langsmith<0.1,>=0.0.83 (from langchain)\n",
            "  Downloading langsmith-0.0.86-py3-none-any.whl (54 kB)\n",
            "\u001b[2K     \u001b[90m━━━━━━━━━━━━━━━━━━━━━━━━━━━━━━━━━━━━━━━━\u001b[0m \u001b[32m54.4/54.4 kB\u001b[0m \u001b[31m6.3 MB/s\u001b[0m eta \u001b[36m0:00:00\u001b[0m\n",
            "\u001b[?25hRequirement already satisfied: numpy<2,>=1 in /usr/local/lib/python3.10/dist-packages (from langchain) (1.23.5)\n",
            "Requirement already satisfied: pydantic<3,>=1 in /usr/local/lib/python3.10/dist-packages (from langchain) (1.10.14)\n",
            "Requirement already satisfied: requests<3,>=2 in /usr/local/lib/python3.10/dist-packages (from langchain) (2.31.0)\n",
            "Requirement already satisfied: tenacity<9.0.0,>=8.1.0 in /usr/local/lib/python3.10/dist-packages (from langchain) (8.2.3)\n",
            "Requirement already satisfied: aiosignal>=1.1.2 in /usr/local/lib/python3.10/dist-packages (from aiohttp<4.0.0,>=3.8.3->langchain) (1.3.1)\n",
            "Requirement already satisfied: attrs>=17.3.0 in /usr/local/lib/python3.10/dist-packages (from aiohttp<4.0.0,>=3.8.3->langchain) (23.2.0)\n",
            "Requirement already satisfied: frozenlist>=1.1.1 in /usr/local/lib/python3.10/dist-packages (from aiohttp<4.0.0,>=3.8.3->langchain) (1.4.1)\n",
            "Requirement already satisfied: multidict<7.0,>=4.5 in /usr/local/lib/python3.10/dist-packages (from aiohttp<4.0.0,>=3.8.3->langchain) (6.0.4)\n",
            "Requirement already satisfied: yarl<2.0,>=1.0 in /usr/local/lib/python3.10/dist-packages (from aiohttp<4.0.0,>=3.8.3->langchain) (1.9.4)\n",
            "Collecting marshmallow<4.0.0,>=3.18.0 (from dataclasses-json<0.7,>=0.5.7->langchain)\n",
            "  Downloading marshmallow-3.20.2-py3-none-any.whl (49 kB)\n",
            "\u001b[2K     \u001b[90m━━━━━━━━━━━━━━━━━━━━━━━━━━━━━━━━━━━━━━━━\u001b[0m \u001b[32m49.4/49.4 kB\u001b[0m \u001b[31m5.8 MB/s\u001b[0m eta \u001b[36m0:00:00\u001b[0m\n",
            "\u001b[?25hCollecting typing-inspect<1,>=0.4.0 (from dataclasses-json<0.7,>=0.5.7->langchain)\n",
            "  Downloading typing_inspect-0.9.0-py3-none-any.whl (8.8 kB)\n",
            "Collecting jsonpointer>=1.9 (from jsonpatch<2.0,>=1.33->langchain)\n",
            "  Downloading jsonpointer-2.4-py2.py3-none-any.whl (7.8 kB)\n",
            "Requirement already satisfied: anyio<5,>=3 in /usr/local/lib/python3.10/dist-packages (from langchain-core<0.2,>=0.1.16->langchain) (3.7.1)\n",
            "Requirement already satisfied: packaging<24.0,>=23.2 in /usr/local/lib/python3.10/dist-packages (from langchain-core<0.2,>=0.1.16->langchain) (23.2)\n",
            "Requirement already satisfied: typing-extensions>=4.2.0 in /usr/local/lib/python3.10/dist-packages (from pydantic<3,>=1->langchain) (4.9.0)\n",
            "Requirement already satisfied: charset-normalizer<4,>=2 in /usr/local/lib/python3.10/dist-packages (from requests<3,>=2->langchain) (3.3.2)\n",
            "Requirement already satisfied: idna<4,>=2.5 in /usr/local/lib/python3.10/dist-packages (from requests<3,>=2->langchain) (3.6)\n",
            "Requirement already satisfied: urllib3<3,>=1.21.1 in /usr/local/lib/python3.10/dist-packages (from requests<3,>=2->langchain) (2.0.7)\n",
            "Requirement already satisfied: certifi>=2017.4.17 in /usr/local/lib/python3.10/dist-packages (from requests<3,>=2->langchain) (2023.11.17)\n",
            "Requirement already satisfied: greenlet!=0.4.17 in /usr/local/lib/python3.10/dist-packages (from SQLAlchemy<3,>=1.4->langchain) (3.0.3)\n",
            "Requirement already satisfied: sniffio>=1.1 in /usr/local/lib/python3.10/dist-packages (from anyio<5,>=3->langchain-core<0.2,>=0.1.16->langchain) (1.3.0)\n",
            "Requirement already satisfied: exceptiongroup in /usr/local/lib/python3.10/dist-packages (from anyio<5,>=3->langchain-core<0.2,>=0.1.16->langchain) (1.2.0)\n",
            "Collecting mypy-extensions>=0.3.0 (from typing-inspect<1,>=0.4.0->dataclasses-json<0.7,>=0.5.7->langchain)\n",
            "  Downloading mypy_extensions-1.0.0-py3-none-any.whl (4.7 kB)\n",
            "Installing collected packages: mypy-extensions, marshmallow, jsonpointer, typing-inspect, langsmith, jsonpatch, langchain-core, dataclasses-json, langchain-community, langchain\n",
            "Successfully installed dataclasses-json-0.6.4 jsonpatch-1.33 jsonpointer-2.4 langchain-0.1.5 langchain-community-0.0.17 langchain-core-0.1.18 langsmith-0.0.86 marshmallow-3.20.2 mypy-extensions-1.0.0 typing-inspect-0.9.0\n"
          ]
        }
      ]
    },
    {
      "cell_type": "code",
      "source": [
        "import openai"
      ],
      "metadata": {
        "id": "K0p7hyw61fWO"
      },
      "id": "K0p7hyw61fWO",
      "execution_count": 3,
      "outputs": []
    },
    {
      "cell_type": "code",
      "execution_count": 4,
      "id": "3cde30a6-5b0b-475f-9460-809e174cac97",
      "metadata": {
        "id": "3cde30a6-5b0b-475f-9460-809e174cac97"
      },
      "outputs": [],
      "source": [
        "from langchain.prompts import (\n",
        "    ChatPromptTemplate,\n",
        "    PromptTemplate,\n",
        "    SystemMessagePromptTemplate,\n",
        "    AIMessagePromptTemplate,\n",
        "    HumanMessagePromptTemplate,\n",
        ")\n",
        "from datetime import datetime\n",
        "from langchain.llms import OpenAI\n",
        "from langchain.output_parsers import DatetimeOutputParser\n",
        "from langchain.chat_models import ChatOpenAI"
      ]
    },
    {
      "cell_type": "code",
      "execution_count": 5,
      "id": "c1e1fce6-7f28-4d74-a92b-0424c6abcd30",
      "metadata": {
        "id": "c1e1fce6-7f28-4d74-a92b-0424c6abcd30"
      },
      "outputs": [],
      "source": [
        "class HistoryQuiz():\n",
        "\n",
        "    def create_history_question(self,topic):\n",
        "        '''\n",
        "        This method should output a historical question about the topic that has a date as the correct answer.\n",
        "        For example:\n",
        "\n",
        "            \"On what date did World War 2 end?\"\n",
        "\n",
        "        '''\n",
        "\n",
        "        return question\n",
        "\n",
        "    def get_AI_answer(self,question):\n",
        "        '''\n",
        "        This method should get the answer to the historical question from the method above.\n",
        "        Note: This answer must be in datetime format! Use DateTimeOutputParser to confirm!\n",
        "\n",
        "        September 2, 1945 --> datetime.datetime(1945, 9, 2, 0, 0)\n",
        "        '''\n",
        "\n",
        "\n",
        "        return correct_datetime\n",
        "\n",
        "    def get_user_answer(self,question):\n",
        "        '''\n",
        "        This method should grab a user answer and convert it to datetime. It should collect a Year, Month, and Day.\n",
        "        You can just use input() for this.\n",
        "        '''\n",
        "\n",
        "\n",
        "\n",
        "        return user_datetime\n",
        "\n",
        "\n",
        "    def check_user_answer(self,user_answer,ai_answer):\n",
        "        '''\n",
        "        Should check the user answer against the AI answer and return the difference between them\n",
        "        '''\n",
        "        # print or return the difference between the answers here!\n",
        "        pass\n",
        ""
      ]
    },
    {
      "cell_type": "markdown",
      "id": "ff79a31c-3189-48d2-b1af-bf1a9eef9e1c",
      "metadata": {
        "id": "ff79a31c-3189-48d2-b1af-bf1a9eef9e1c"
      },
      "source": [
        "### Example Usage\n",
        "\n",
        "Feel free to expand or edit this project. To keep things simple we have every method return an object that will then feed into a new method!"
      ]
    },
    {
      "cell_type": "code",
      "execution_count": null,
      "id": "937e4900-1148-4836-835b-dd2936b8e30e",
      "metadata": {
        "id": "937e4900-1148-4836-835b-dd2936b8e30e"
      },
      "outputs": [],
      "source": [
        "quiz_bot = HistoryQuiz()"
      ]
    },
    {
      "cell_type": "code",
      "execution_count": null,
      "id": "5dd56ef3-819d-4996-b9a5-1cfad88e5eed",
      "metadata": {
        "id": "5dd56ef3-819d-4996-b9a5-1cfad88e5eed"
      },
      "outputs": [],
      "source": [
        "question = quiz_bot.create_history_question(topic='World War 2')"
      ]
    },
    {
      "cell_type": "code",
      "execution_count": null,
      "id": "9eecb542-6018-4526-9f89-24f031468829",
      "metadata": {
        "id": "9eecb542-6018-4526-9f89-24f031468829",
        "outputId": "0d1a1aa0-ecd7-430f-afce-1aef54a417da"
      },
      "outputs": [
        {
          "data": {
            "text/plain": [
              "'On what date did the United States officially enter World War II?'"
            ]
          },
          "execution_count": 37,
          "metadata": {},
          "output_type": "execute_result"
        }
      ],
      "source": [
        "question"
      ]
    },
    {
      "cell_type": "code",
      "execution_count": null,
      "id": "c86320ce-4497-4eb0-80f5-871736cb51e7",
      "metadata": {
        "id": "c86320ce-4497-4eb0-80f5-871736cb51e7"
      },
      "outputs": [],
      "source": [
        "ai_answer = quiz_bot.get_AI_answer(question)"
      ]
    },
    {
      "cell_type": "code",
      "execution_count": null,
      "id": "4be20b47-8287-4656-8253-1ec1c52fad43",
      "metadata": {
        "id": "4be20b47-8287-4656-8253-1ec1c52fad43",
        "outputId": "d2daf6e6-3515-4452-e291-b7afd6662d63"
      },
      "outputs": [
        {
          "data": {
            "text/plain": [
              "datetime.datetime(1941, 12, 8, 0, 0)"
            ]
          },
          "execution_count": 39,
          "metadata": {},
          "output_type": "execute_result"
        }
      ],
      "source": [
        "# Day After Pearl Harbor\n",
        "ai_answer"
      ]
    },
    {
      "cell_type": "code",
      "execution_count": null,
      "id": "d8537e7e-b955-4ffd-84ba-a26d072b4a05",
      "metadata": {
        "id": "d8537e7e-b955-4ffd-84ba-a26d072b4a05",
        "outputId": "56801835-206e-4788-ca96-513cabc40cd1"
      },
      "outputs": [
        {
          "name": "stdout",
          "output_type": "stream",
          "text": [
            "On what date did the United States officially enter World War II?\n"
          ]
        },
        {
          "name": "stdin",
          "output_type": "stream",
          "text": [
            "Enter the year:  1941\n",
            "Enter the month (1-12):  12\n",
            "Enter the day (1-31):  1\n"
          ]
        }
      ],
      "source": [
        "user_answer = quiz_bot.get_user_answer(question)"
      ]
    },
    {
      "cell_type": "code",
      "execution_count": null,
      "id": "e8eb40a9-789e-4666-81a6-a6a783dedaf6",
      "metadata": {
        "id": "e8eb40a9-789e-4666-81a6-a6a783dedaf6",
        "outputId": "10cfd7f7-d12c-4288-c053-0e55b741aad0"
      },
      "outputs": [
        {
          "data": {
            "text/plain": [
              "datetime.datetime(1941, 12, 1, 0, 0)"
            ]
          },
          "execution_count": 41,
          "metadata": {},
          "output_type": "execute_result"
        }
      ],
      "source": [
        "user_answer"
      ]
    },
    {
      "cell_type": "code",
      "execution_count": null,
      "id": "e22a7cf0-f199-4ace-a909-c73492e86e47",
      "metadata": {
        "id": "e22a7cf0-f199-4ace-a909-c73492e86e47",
        "outputId": "a2cc0a23-2e36-43c2-e13e-10b42e3b6de4"
      },
      "outputs": [
        {
          "name": "stdout",
          "output_type": "stream",
          "text": [
            "The difference between the dates is: -7 days, 0:00:00\n"
          ]
        }
      ],
      "source": [
        "quiz_bot.check_user_answer(user_answer,ai_answer)"
      ]
    }
  ],
  "metadata": {
    "kernelspec": {
      "display_name": "Python 3 (ipykernel)",
      "language": "python",
      "name": "python3"
    },
    "language_info": {
      "codemirror_mode": {
        "name": "ipython",
        "version": 3
      },
      "file_extension": ".py",
      "mimetype": "text/x-python",
      "name": "python",
      "nbconvert_exporter": "python",
      "pygments_lexer": "ipython3",
      "version": "3.9.12"
    },
    "colab": {
      "provenance": []
    }
  },
  "nbformat": 4,
  "nbformat_minor": 5
}